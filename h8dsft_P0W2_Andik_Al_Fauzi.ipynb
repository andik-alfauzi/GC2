{
  "nbformat": 4,
  "nbformat_minor": 0,
  "metadata": {
    "colab": {
      "provenance": [],
      "collapsed_sections": [
        "vHQiHobo5M-j",
        "DC9bEP1uzqKh",
        "WXtrTv2IZrhq",
        "rC348BagZzrd",
        "qzbl4pq5hagV",
        "3RnsH6xTioPV",
        "kb-Xfd9Pvz0I"
      ]
    },
    "kernelspec": {
      "name": "python3",
      "display_name": "Python 3"
    },
    "language_info": {
      "name": "python"
    }
  },
  "cells": [
    {
      "cell_type": "markdown",
      "source": [
        "# Graded Challenge 2\n",
        "\n",
        "---\n",
        "\n"
      ],
      "metadata": {
        "id": "pzxWqcPFl9mY"
      }
    },
    {
      "cell_type": "markdown",
      "source": [
        "- Andik Al Fauzi - FTDS-RMT-018"
      ],
      "metadata": {
        "id": "Mryr9g85mHMb"
      }
    },
    {
      "cell_type": "markdown",
      "source": [
        "# SQL Query to get data from Big Query\n",
        "\n",
        "---\n",
        "\n"
      ],
      "metadata": {
        "id": "BHGFl3Ca-HsN"
      }
    },
    {
      "cell_type": "code",
      "execution_count": null,
      "metadata": {
        "id": "wmXXdvKu-DLS"
      },
      "outputs": [],
      "source": [
        "# Load Data from Google Big Query\n",
        "\n",
        "# SELECT report_date,load_time, load_type, load_weight, dropoff_site FROM bigquery-public-data.austin_waste.waste_and_diversion\n",
        "# WHERE report_date BETWEEN '2021-01-01' AND '2021-12-31'"
      ]
    },
    {
      "cell_type": "markdown",
      "source": [
        "# Data Preparation\n",
        "\n",
        "---\n",
        "\n"
      ],
      "metadata": {
        "id": "NtmPC6VDrS4m"
      }
    },
    {
      "cell_type": "code",
      "source": [
        "# Importing Library\n",
        "\n",
        "import pandas as pd\n",
        "import numpy as np\n",
        "from numpy import percentile\n",
        "import matplotlib.pyplot as plt\n",
        "from scipy import stats\n",
        "import seaborn as sns\n",
        "import statistics"
      ],
      "metadata": {
        "id": "WU-hrkTj-Ona"
      },
      "execution_count": null,
      "outputs": []
    },
    {
      "cell_type": "code",
      "source": [
        "# Load Data CSV\n",
        "\n",
        "df = pd.read_csv('/content/h8dsft_P0W2_Andik_Al_Fauzi.csv')"
      ],
      "metadata": {
        "id": "ZgIbhWm0FfIW"
      },
      "execution_count": null,
      "outputs": []
    },
    {
      "cell_type": "code",
      "source": [
        "# Create a copy data\n",
        "# Reason : make sure the original data is untouchable\n",
        "\n",
        "dfCopy = df.copy()"
      ],
      "metadata": {
        "id": "Lc1NcYw6LGOW"
      },
      "execution_count": null,
      "outputs": []
    },
    {
      "cell_type": "code",
      "source": [
        "# show 10 row of data\n",
        "\n",
        "dfCopy.head()"
      ],
      "metadata": {
        "colab": {
          "base_uri": "https://localhost:8080/"
        },
        "id": "p4LsNULzFtVm",
        "outputId": "d5c91f5d-6ed5-4d17-b7ff-8351956a7671"
      },
      "execution_count": null,
      "outputs": [
        {
          "output_type": "execute_result",
          "data": {
            "text/plain": [
              "  report_date                       load_time load_type  load_weight  \\\n",
              "0  2021-07-08  2021-07-08 12:00:00.000000 UTC     TIRES       2260.0   \n",
              "1  2021-07-08  2021-07-08 11:00:00.000000 UTC     TIRES       1260.0   \n",
              "2  2021-07-08  2021-07-08 03:00:00.000000 UTC     TIRES        800.0   \n",
              "3  2021-05-01  2021-05-01 12:29:00.000000 UTC     TIRES        760.0   \n",
              "4  2021-07-03  2021-07-03 12:09:00.000000 UTC     TIRES       1400.0   \n",
              "\n",
              "  dropoff_site  \n",
              "0          MRF  \n",
              "1          MRF  \n",
              "2          MRF  \n",
              "3          MRF  \n",
              "4          MRF  "
            ],
            "text/html": [
              "\n",
              "  <div id=\"df-07be087e-066f-46fa-96ba-174498da16ab\">\n",
              "    <div class=\"colab-df-container\">\n",
              "      <div>\n",
              "<style scoped>\n",
              "    .dataframe tbody tr th:only-of-type {\n",
              "        vertical-align: middle;\n",
              "    }\n",
              "\n",
              "    .dataframe tbody tr th {\n",
              "        vertical-align: top;\n",
              "    }\n",
              "\n",
              "    .dataframe thead th {\n",
              "        text-align: right;\n",
              "    }\n",
              "</style>\n",
              "<table border=\"1\" class=\"dataframe\">\n",
              "  <thead>\n",
              "    <tr style=\"text-align: right;\">\n",
              "      <th></th>\n",
              "      <th>report_date</th>\n",
              "      <th>load_time</th>\n",
              "      <th>load_type</th>\n",
              "      <th>load_weight</th>\n",
              "      <th>dropoff_site</th>\n",
              "    </tr>\n",
              "  </thead>\n",
              "  <tbody>\n",
              "    <tr>\n",
              "      <th>0</th>\n",
              "      <td>2021-07-08</td>\n",
              "      <td>2021-07-08 12:00:00.000000 UTC</td>\n",
              "      <td>TIRES</td>\n",
              "      <td>2260.0</td>\n",
              "      <td>MRF</td>\n",
              "    </tr>\n",
              "    <tr>\n",
              "      <th>1</th>\n",
              "      <td>2021-07-08</td>\n",
              "      <td>2021-07-08 11:00:00.000000 UTC</td>\n",
              "      <td>TIRES</td>\n",
              "      <td>1260.0</td>\n",
              "      <td>MRF</td>\n",
              "    </tr>\n",
              "    <tr>\n",
              "      <th>2</th>\n",
              "      <td>2021-07-08</td>\n",
              "      <td>2021-07-08 03:00:00.000000 UTC</td>\n",
              "      <td>TIRES</td>\n",
              "      <td>800.0</td>\n",
              "      <td>MRF</td>\n",
              "    </tr>\n",
              "    <tr>\n",
              "      <th>3</th>\n",
              "      <td>2021-05-01</td>\n",
              "      <td>2021-05-01 12:29:00.000000 UTC</td>\n",
              "      <td>TIRES</td>\n",
              "      <td>760.0</td>\n",
              "      <td>MRF</td>\n",
              "    </tr>\n",
              "    <tr>\n",
              "      <th>4</th>\n",
              "      <td>2021-07-03</td>\n",
              "      <td>2021-07-03 12:09:00.000000 UTC</td>\n",
              "      <td>TIRES</td>\n",
              "      <td>1400.0</td>\n",
              "      <td>MRF</td>\n",
              "    </tr>\n",
              "  </tbody>\n",
              "</table>\n",
              "</div>\n",
              "      <button class=\"colab-df-convert\" onclick=\"convertToInteractive('df-07be087e-066f-46fa-96ba-174498da16ab')\"\n",
              "              title=\"Convert this dataframe to an interactive table.\"\n",
              "              style=\"display:none;\">\n",
              "        \n",
              "  <svg xmlns=\"http://www.w3.org/2000/svg\" height=\"24px\"viewBox=\"0 0 24 24\"\n",
              "       width=\"24px\">\n",
              "    <path d=\"M0 0h24v24H0V0z\" fill=\"none\"/>\n",
              "    <path d=\"M18.56 5.44l.94 2.06.94-2.06 2.06-.94-2.06-.94-.94-2.06-.94 2.06-2.06.94zm-11 1L8.5 8.5l.94-2.06 2.06-.94-2.06-.94L8.5 2.5l-.94 2.06-2.06.94zm10 10l.94 2.06.94-2.06 2.06-.94-2.06-.94-.94-2.06-.94 2.06-2.06.94z\"/><path d=\"M17.41 7.96l-1.37-1.37c-.4-.4-.92-.59-1.43-.59-.52 0-1.04.2-1.43.59L10.3 9.45l-7.72 7.72c-.78.78-.78 2.05 0 2.83L4 21.41c.39.39.9.59 1.41.59.51 0 1.02-.2 1.41-.59l7.78-7.78 2.81-2.81c.8-.78.8-2.07 0-2.86zM5.41 20L4 18.59l7.72-7.72 1.47 1.35L5.41 20z\"/>\n",
              "  </svg>\n",
              "      </button>\n",
              "      \n",
              "  <style>\n",
              "    .colab-df-container {\n",
              "      display:flex;\n",
              "      flex-wrap:wrap;\n",
              "      gap: 12px;\n",
              "    }\n",
              "\n",
              "    .colab-df-convert {\n",
              "      background-color: #E8F0FE;\n",
              "      border: none;\n",
              "      border-radius: 50%;\n",
              "      cursor: pointer;\n",
              "      display: none;\n",
              "      fill: #1967D2;\n",
              "      height: 32px;\n",
              "      padding: 0 0 0 0;\n",
              "      width: 32px;\n",
              "    }\n",
              "\n",
              "    .colab-df-convert:hover {\n",
              "      background-color: #E2EBFA;\n",
              "      box-shadow: 0px 1px 2px rgba(60, 64, 67, 0.3), 0px 1px 3px 1px rgba(60, 64, 67, 0.15);\n",
              "      fill: #174EA6;\n",
              "    }\n",
              "\n",
              "    [theme=dark] .colab-df-convert {\n",
              "      background-color: #3B4455;\n",
              "      fill: #D2E3FC;\n",
              "    }\n",
              "\n",
              "    [theme=dark] .colab-df-convert:hover {\n",
              "      background-color: #434B5C;\n",
              "      box-shadow: 0px 1px 3px 1px rgba(0, 0, 0, 0.15);\n",
              "      filter: drop-shadow(0px 1px 2px rgba(0, 0, 0, 0.3));\n",
              "      fill: #FFFFFF;\n",
              "    }\n",
              "  </style>\n",
              "\n",
              "      <script>\n",
              "        const buttonEl =\n",
              "          document.querySelector('#df-07be087e-066f-46fa-96ba-174498da16ab button.colab-df-convert');\n",
              "        buttonEl.style.display =\n",
              "          google.colab.kernel.accessAllowed ? 'block' : 'none';\n",
              "\n",
              "        async function convertToInteractive(key) {\n",
              "          const element = document.querySelector('#df-07be087e-066f-46fa-96ba-174498da16ab');\n",
              "          const dataTable =\n",
              "            await google.colab.kernel.invokeFunction('convertToInteractive',\n",
              "                                                     [key], {});\n",
              "          if (!dataTable) return;\n",
              "\n",
              "          const docLinkHtml = 'Like what you see? Visit the ' +\n",
              "            '<a target=\"_blank\" href=https://colab.research.google.com/notebooks/data_table.ipynb>data table notebook</a>'\n",
              "            + ' to learn more about interactive tables.';\n",
              "          element.innerHTML = '';\n",
              "          dataTable['output_type'] = 'display_data';\n",
              "          await google.colab.output.renderOutput(dataTable, element);\n",
              "          const docLink = document.createElement('div');\n",
              "          docLink.innerHTML = docLinkHtml;\n",
              "          element.appendChild(docLink);\n",
              "        }\n",
              "      </script>\n",
              "    </div>\n",
              "  </div>\n",
              "  "
            ]
          },
          "metadata": {},
          "execution_count": 326
        }
      ]
    },
    {
      "cell_type": "code",
      "source": [
        "# Cek row & column data\n",
        "\n",
        "dfCopy.shape"
      ],
      "metadata": {
        "colab": {
          "base_uri": "https://localhost:8080/"
        },
        "id": "RV4EMjpNF5Ai",
        "outputId": "803c4236-a746-4416-f1a8-fd19d54a95b6"
      },
      "execution_count": null,
      "outputs": [
        {
          "output_type": "execute_result",
          "data": {
            "text/plain": [
              "(26157, 5)"
            ]
          },
          "metadata": {},
          "execution_count": 327
        }
      ]
    },
    {
      "cell_type": "code",
      "source": [
        "# Cek data \n",
        "\n",
        "dfCopy.describe()"
      ],
      "metadata": {
        "colab": {
          "base_uri": "https://localhost:8080/"
        },
        "id": "KrLMymttIJRI",
        "outputId": "abd7fac9-bb91-4d13-8692-9e88ac6c3f73"
      },
      "execution_count": null,
      "outputs": [
        {
          "output_type": "execute_result",
          "data": {
            "text/plain": [
              "         load_weight\n",
              "count   25109.000000\n",
              "mean    12227.136307\n",
              "std      7135.059565\n",
              "min         0.000000\n",
              "25%      7060.000000\n",
              "50%     11300.000000\n",
              "75%     16380.000000\n",
              "max    245540.000000"
            ],
            "text/html": [
              "\n",
              "  <div id=\"df-ed6a7738-b56f-4392-b9da-50cf8e7dd147\">\n",
              "    <div class=\"colab-df-container\">\n",
              "      <div>\n",
              "<style scoped>\n",
              "    .dataframe tbody tr th:only-of-type {\n",
              "        vertical-align: middle;\n",
              "    }\n",
              "\n",
              "    .dataframe tbody tr th {\n",
              "        vertical-align: top;\n",
              "    }\n",
              "\n",
              "    .dataframe thead th {\n",
              "        text-align: right;\n",
              "    }\n",
              "</style>\n",
              "<table border=\"1\" class=\"dataframe\">\n",
              "  <thead>\n",
              "    <tr style=\"text-align: right;\">\n",
              "      <th></th>\n",
              "      <th>load_weight</th>\n",
              "    </tr>\n",
              "  </thead>\n",
              "  <tbody>\n",
              "    <tr>\n",
              "      <th>count</th>\n",
              "      <td>25109.000000</td>\n",
              "    </tr>\n",
              "    <tr>\n",
              "      <th>mean</th>\n",
              "      <td>12227.136307</td>\n",
              "    </tr>\n",
              "    <tr>\n",
              "      <th>std</th>\n",
              "      <td>7135.059565</td>\n",
              "    </tr>\n",
              "    <tr>\n",
              "      <th>min</th>\n",
              "      <td>0.000000</td>\n",
              "    </tr>\n",
              "    <tr>\n",
              "      <th>25%</th>\n",
              "      <td>7060.000000</td>\n",
              "    </tr>\n",
              "    <tr>\n",
              "      <th>50%</th>\n",
              "      <td>11300.000000</td>\n",
              "    </tr>\n",
              "    <tr>\n",
              "      <th>75%</th>\n",
              "      <td>16380.000000</td>\n",
              "    </tr>\n",
              "    <tr>\n",
              "      <th>max</th>\n",
              "      <td>245540.000000</td>\n",
              "    </tr>\n",
              "  </tbody>\n",
              "</table>\n",
              "</div>\n",
              "      <button class=\"colab-df-convert\" onclick=\"convertToInteractive('df-ed6a7738-b56f-4392-b9da-50cf8e7dd147')\"\n",
              "              title=\"Convert this dataframe to an interactive table.\"\n",
              "              style=\"display:none;\">\n",
              "        \n",
              "  <svg xmlns=\"http://www.w3.org/2000/svg\" height=\"24px\"viewBox=\"0 0 24 24\"\n",
              "       width=\"24px\">\n",
              "    <path d=\"M0 0h24v24H0V0z\" fill=\"none\"/>\n",
              "    <path d=\"M18.56 5.44l.94 2.06.94-2.06 2.06-.94-2.06-.94-.94-2.06-.94 2.06-2.06.94zm-11 1L8.5 8.5l.94-2.06 2.06-.94-2.06-.94L8.5 2.5l-.94 2.06-2.06.94zm10 10l.94 2.06.94-2.06 2.06-.94-2.06-.94-.94-2.06-.94 2.06-2.06.94z\"/><path d=\"M17.41 7.96l-1.37-1.37c-.4-.4-.92-.59-1.43-.59-.52 0-1.04.2-1.43.59L10.3 9.45l-7.72 7.72c-.78.78-.78 2.05 0 2.83L4 21.41c.39.39.9.59 1.41.59.51 0 1.02-.2 1.41-.59l7.78-7.78 2.81-2.81c.8-.78.8-2.07 0-2.86zM5.41 20L4 18.59l7.72-7.72 1.47 1.35L5.41 20z\"/>\n",
              "  </svg>\n",
              "      </button>\n",
              "      \n",
              "  <style>\n",
              "    .colab-df-container {\n",
              "      display:flex;\n",
              "      flex-wrap:wrap;\n",
              "      gap: 12px;\n",
              "    }\n",
              "\n",
              "    .colab-df-convert {\n",
              "      background-color: #E8F0FE;\n",
              "      border: none;\n",
              "      border-radius: 50%;\n",
              "      cursor: pointer;\n",
              "      display: none;\n",
              "      fill: #1967D2;\n",
              "      height: 32px;\n",
              "      padding: 0 0 0 0;\n",
              "      width: 32px;\n",
              "    }\n",
              "\n",
              "    .colab-df-convert:hover {\n",
              "      background-color: #E2EBFA;\n",
              "      box-shadow: 0px 1px 2px rgba(60, 64, 67, 0.3), 0px 1px 3px 1px rgba(60, 64, 67, 0.15);\n",
              "      fill: #174EA6;\n",
              "    }\n",
              "\n",
              "    [theme=dark] .colab-df-convert {\n",
              "      background-color: #3B4455;\n",
              "      fill: #D2E3FC;\n",
              "    }\n",
              "\n",
              "    [theme=dark] .colab-df-convert:hover {\n",
              "      background-color: #434B5C;\n",
              "      box-shadow: 0px 1px 3px 1px rgba(0, 0, 0, 0.15);\n",
              "      filter: drop-shadow(0px 1px 2px rgba(0, 0, 0, 0.3));\n",
              "      fill: #FFFFFF;\n",
              "    }\n",
              "  </style>\n",
              "\n",
              "      <script>\n",
              "        const buttonEl =\n",
              "          document.querySelector('#df-ed6a7738-b56f-4392-b9da-50cf8e7dd147 button.colab-df-convert');\n",
              "        buttonEl.style.display =\n",
              "          google.colab.kernel.accessAllowed ? 'block' : 'none';\n",
              "\n",
              "        async function convertToInteractive(key) {\n",
              "          const element = document.querySelector('#df-ed6a7738-b56f-4392-b9da-50cf8e7dd147');\n",
              "          const dataTable =\n",
              "            await google.colab.kernel.invokeFunction('convertToInteractive',\n",
              "                                                     [key], {});\n",
              "          if (!dataTable) return;\n",
              "\n",
              "          const docLinkHtml = 'Like what you see? Visit the ' +\n",
              "            '<a target=\"_blank\" href=https://colab.research.google.com/notebooks/data_table.ipynb>data table notebook</a>'\n",
              "            + ' to learn more about interactive tables.';\n",
              "          element.innerHTML = '';\n",
              "          dataTable['output_type'] = 'display_data';\n",
              "          await google.colab.output.renderOutput(dataTable, element);\n",
              "          const docLink = document.createElement('div');\n",
              "          docLink.innerHTML = docLinkHtml;\n",
              "          element.appendChild(docLink);\n",
              "        }\n",
              "      </script>\n",
              "    </div>\n",
              "  </div>\n",
              "  "
            ]
          },
          "metadata": {},
          "execution_count": 328
        }
      ]
    },
    {
      "cell_type": "code",
      "source": [
        "# Cek data type\n",
        "\n",
        "dfCopy.info()"
      ],
      "metadata": {
        "colab": {
          "base_uri": "https://localhost:8080/"
        },
        "id": "hVSAq2JiF8E9",
        "outputId": "4be452d6-2d9f-4bbb-ca9a-f7125afc6544"
      },
      "execution_count": null,
      "outputs": [
        {
          "output_type": "stream",
          "name": "stdout",
          "text": [
            "<class 'pandas.core.frame.DataFrame'>\n",
            "RangeIndex: 26157 entries, 0 to 26156\n",
            "Data columns (total 5 columns):\n",
            " #   Column        Non-Null Count  Dtype  \n",
            "---  ------        --------------  -----  \n",
            " 0   report_date   26157 non-null  object \n",
            " 1   load_time     26157 non-null  object \n",
            " 2   load_type     26157 non-null  object \n",
            " 3   load_weight   25109 non-null  float64\n",
            " 4   dropoff_site  26157 non-null  object \n",
            "dtypes: float64(1), object(4)\n",
            "memory usage: 1021.9+ KB\n"
          ]
        }
      ]
    },
    {
      "cell_type": "code",
      "source": [
        "# Convert kolom report_date to datetime\n",
        "\n",
        "dfCopy['report_date'] = pd.to_datetime(dfCopy['report_date'])\n",
        "\n",
        "# Inserting new date format\n",
        "# reason : karena jika pakai kolom lama maka ada beberapa internal error jika dipanggil variable nya untuk kemudian di plot\n",
        "\n",
        "dfCopy['date'] = dfCopy['report_date'].dt.date\n",
        "\n",
        "# Convert kolom load_weight to float\n",
        "dfCopy['load_weight'] = dfCopy['load_weight'].astype(float)"
      ],
      "metadata": {
        "id": "CSYv6gQc4UU5"
      },
      "execution_count": null,
      "outputs": []
    },
    {
      "cell_type": "code",
      "source": [
        "# Drop column load_time & report_time because it's unnecessary\n",
        "\n",
        "dfCopy.drop(['load_time'], axis=1, inplace=True)\n",
        "dfCopy.drop(['report_date'], axis=1, inplace=True)"
      ],
      "metadata": {
        "id": "zOg0s2XfFZPC"
      },
      "execution_count": null,
      "outputs": []
    },
    {
      "cell_type": "code",
      "source": [
        "# Cek status convert & drop\n",
        "\n",
        "dfCopy.info()"
      ],
      "metadata": {
        "colab": {
          "base_uri": "https://localhost:8080/"
        },
        "id": "kw-Jzi5B46wJ",
        "outputId": "df0b171c-ce2d-46fe-d43c-b47f7ff094a0"
      },
      "execution_count": null,
      "outputs": [
        {
          "output_type": "stream",
          "name": "stdout",
          "text": [
            "<class 'pandas.core.frame.DataFrame'>\n",
            "RangeIndex: 26157 entries, 0 to 26156\n",
            "Data columns (total 4 columns):\n",
            " #   Column        Non-Null Count  Dtype  \n",
            "---  ------        --------------  -----  \n",
            " 0   load_type     26157 non-null  object \n",
            " 1   load_weight   25109 non-null  float64\n",
            " 2   dropoff_site  26157 non-null  object \n",
            " 3   date          26157 non-null  object \n",
            "dtypes: float64(1), object(3)\n",
            "memory usage: 817.5+ KB\n"
          ]
        }
      ]
    },
    {
      "cell_type": "markdown",
      "source": [
        "note : there was a missing value at the column `load_weight`"
      ],
      "metadata": {
        "id": "GmexJkPvMl7l"
      }
    },
    {
      "cell_type": "code",
      "source": [
        "# Cek maximal date from `report_date` column\n",
        "\n",
        "dfCopy['date'].max()"
      ],
      "metadata": {
        "colab": {
          "base_uri": "https://localhost:8080/"
        },
        "id": "Nq8LUluNGAHS",
        "outputId": "2ef71fa1-6e8a-4e06-9ac4-4a52e0a3f76d"
      },
      "execution_count": null,
      "outputs": [
        {
          "output_type": "execute_result",
          "data": {
            "text/plain": [
              "datetime.date(2021, 7, 9)"
            ]
          },
          "metadata": {},
          "execution_count": 333
        }
      ]
    },
    {
      "cell_type": "markdown",
      "source": [
        "note : check the data whether it is in accordance with what is informed in the Assignment (max data on July 09, 2021)."
      ],
      "metadata": {
        "id": "5xKUqnn0jqjP"
      }
    },
    {
      "cell_type": "code",
      "source": [
        "# Cek total data null\n",
        "\n",
        "dfCopy.isnull().sum()"
      ],
      "metadata": {
        "colab": {
          "base_uri": "https://localhost:8080/"
        },
        "id": "b1WnRn8lLSAc",
        "outputId": "63ea9d1f-de6d-4c34-d0ab-b4d292471e7c"
      },
      "execution_count": null,
      "outputs": [
        {
          "output_type": "execute_result",
          "data": {
            "text/plain": [
              "load_type          0\n",
              "load_weight     1048\n",
              "dropoff_site       0\n",
              "date               0\n",
              "dtype: int64"
            ]
          },
          "metadata": {},
          "execution_count": 334
        }
      ]
    },
    {
      "cell_type": "markdown",
      "source": [
        "In the `load_weight` column there are 1048 missing value rows"
      ],
      "metadata": {
        "id": "Al62L9xasKoo"
      }
    },
    {
      "cell_type": "markdown",
      "source": [
        "# Problem 1.1 Handle Missing Value\n",
        "\n",
        "---\n",
        "\n"
      ],
      "metadata": {
        "id": "l9jKbNKwfF0F"
      }
    },
    {
      "cell_type": "code",
      "source": [
        "# Insert Missing Value in load_weight with mean\n",
        "# Reason : Karena kemungkinan missing value tersebut dapat diisi dengan rata-rata sampah yang diangkut pada setiap sitenya\n",
        "\n",
        "dfCopy.fillna(dfCopy['load_weight'].mean(), inplace=True)"
      ],
      "metadata": {
        "id": "DDlKSuD4PV7i"
      },
      "execution_count": null,
      "outputs": []
    },
    {
      "cell_type": "code",
      "source": [
        "# Cek data null yang sudah diinsert\n",
        "\n",
        "dfCopy.isnull().sum()"
      ],
      "metadata": {
        "colab": {
          "base_uri": "https://localhost:8080/"
        },
        "id": "YPTdq0DsPuYq",
        "outputId": "9d39577a-d06e-476c-f8bc-92773eeeecbc"
      },
      "execution_count": null,
      "outputs": [
        {
          "output_type": "execute_result",
          "data": {
            "text/plain": [
              "load_type       0\n",
              "load_weight     0\n",
              "dropoff_site    0\n",
              "date            0\n",
              "dtype: int64"
            ]
          },
          "metadata": {},
          "execution_count": 336
        }
      ]
    },
    {
      "cell_type": "markdown",
      "source": [
        "Note: replacing null data has been successful by entering the mean value of the `load_weight` column."
      ],
      "metadata": {
        "id": "HsmMPFMgjWr2"
      }
    },
    {
      "cell_type": "markdown",
      "source": [
        "# Problem 1.2.1 : Melihat rentang waktu pengambilan data\n",
        "\n",
        "---\n",
        "\n"
      ],
      "metadata": {
        "id": "pJ1a_4rDjI0W"
      }
    },
    {
      "cell_type": "code",
      "source": [
        "# Cek total data\n",
        "\n",
        "dfCopy['date'].max() - dfCopy['date'].min()"
      ],
      "metadata": {
        "colab": {
          "base_uri": "https://localhost:8080/"
        },
        "id": "kTdib4dofvro",
        "outputId": "150250a7-1d58-4d7c-b5b3-463490736226"
      },
      "execution_count": null,
      "outputs": [
        {
          "output_type": "execute_result",
          "data": {
            "text/plain": [
              "datetime.timedelta(days=189)"
            ]
          },
          "metadata": {},
          "execution_count": 337
        }
      ]
    },
    {
      "cell_type": "markdown",
      "source": [
        "note : There are 189 day of range data"
      ],
      "metadata": {
        "id": "ZNNcoH3Rv8Gf"
      }
    },
    {
      "cell_type": "markdown",
      "source": [
        "# Problem 1.2.2 : Ada apa saja tipe load sampah di kota Austin berdasarkan data\n",
        "\n",
        "---\n",
        "\n"
      ],
      "metadata": {
        "id": "_dcWgNgj51i6"
      }
    },
    {
      "cell_type": "code",
      "source": [
        "# Cek Unique Data kolom load_type\n",
        "\n",
        "dfCopy.load_type.unique()"
      ],
      "metadata": {
        "colab": {
          "base_uri": "https://localhost:8080/"
        },
        "id": "4WLuwy1Lij71",
        "outputId": "09322815-1801-425a-fcae-f67a59cb323a"
      },
      "execution_count": null,
      "outputs": [
        {
          "output_type": "execute_result",
          "data": {
            "text/plain": [
              "array(['TIRES', 'RECYCLING - SINGLE STREAM', 'SWEEPING', 'BRUSH',\n",
              "       'GARBAGE COLLECTIONS', 'YARD TRIMMING', 'BULK', 'ORGANICS',\n",
              "       'DEAD ANIMAL', 'MIXED LITTER', 'LITTER', 'RECYCLED METAL',\n",
              "       'CONTAMINATED RECYCLING', 'CONTAMINATED ORGANICS'], dtype=object)"
            ]
          },
          "metadata": {},
          "execution_count": 338
        }
      ]
    },
    {
      "cell_type": "code",
      "source": [
        "# Cek unique di kolom dropoff_site\n",
        "\n",
        "dfCopy.dropoff_site.unique()"
      ],
      "metadata": {
        "colab": {
          "base_uri": "https://localhost:8080/"
        },
        "id": "q8PBleOl5m3e",
        "outputId": "e5a1639e-9140-4cd9-a543-c7db064c5ce7"
      },
      "execution_count": null,
      "outputs": [
        {
          "output_type": "execute_result",
          "data": {
            "text/plain": [
              "array(['MRF', 'TDS - MRF', 'ONION CREEK', 'PARK CENTER', 'HORNSBY BEND',\n",
              "       'TDS LANDFILL', 'GREAT NORTHERN', 'ORGANICS BY GOSH',\n",
              "       'BALCONES RECYCLING', 'ON ROUTE HIGH DUMP',\n",
              "       'AUSTIN IRON AND METAL', 'PARK BEND', 'BALCONES WOODS',\n",
              "       'STEINER LANDFILL', 'WESTFIELD', 'ST. EDWARDS',\n",
              "       'AUSTIN WOOD RECYCLING', 'WILCAB'], dtype=object)"
            ]
          },
          "metadata": {},
          "execution_count": 339
        }
      ]
    },
    {
      "cell_type": "code",
      "source": [
        "# Cek Total Data di masing-masing load_type\n",
        "\n",
        "dfCopy['load_type'].value_counts()"
      ],
      "metadata": {
        "colab": {
          "base_uri": "https://localhost:8080/"
        },
        "id": "7vRXEiC3jdUX",
        "outputId": "54f4b5f6-1e51-43df-aa02-15926167c37c"
      },
      "execution_count": null,
      "outputs": [
        {
          "output_type": "execute_result",
          "data": {
            "text/plain": [
              "GARBAGE COLLECTIONS          8242\n",
              "RECYCLING - SINGLE STREAM    6760\n",
              "ORGANICS                     5763\n",
              "BULK                         1594\n",
              "BRUSH                        1517\n",
              "SWEEPING                     1390\n",
              "MIXED LITTER                  329\n",
              "TIRES                         175\n",
              "DEAD ANIMAL                   150\n",
              "YARD TRIMMING                 137\n",
              "RECYCLED METAL                 57\n",
              "LITTER                         41\n",
              "CONTAMINATED RECYCLING          1\n",
              "CONTAMINATED ORGANICS           1\n",
              "Name: load_type, dtype: int64"
            ]
          },
          "metadata": {},
          "execution_count": 340
        }
      ]
    },
    {
      "cell_type": "markdown",
      "source": [
        "Note: there are 14 types of waste in landfills in the country of Austin and the most common is `GARBAGE COLLECTIONS`"
      ],
      "metadata": {
        "id": "lPjqNofT6e-_"
      }
    },
    {
      "cell_type": "markdown",
      "source": [
        "# Problem 1.2.3 : Mengetahui tempat pembuangan sampah ada dimana saja\n",
        "\n",
        "---\n",
        "\n"
      ],
      "metadata": {
        "id": "6oPkj7VC6uEV"
      }
    },
    {
      "cell_type": "code",
      "source": [
        "# Check Total Data in dropoff_site column\n",
        "\n",
        "dfCopy['dropoff_site'].value_counts()"
      ],
      "metadata": {
        "colab": {
          "base_uri": "https://localhost:8080/"
        },
        "id": "ipBLIms56Pgl",
        "outputId": "35e0d438-050f-4d31-ff3d-95bba4cbd2a6"
      },
      "execution_count": null,
      "outputs": [
        {
          "output_type": "execute_result",
          "data": {
            "text/plain": [
              "TDS LANDFILL             10694\n",
              "ORGANICS BY GOSH          5755\n",
              "BALCONES RECYCLING        3837\n",
              "TDS - MRF                 2948\n",
              "HORNSBY BEND              1655\n",
              "ONION CREEK                813\n",
              "MRF                        168\n",
              "ON ROUTE HIGH DUMP          81\n",
              "PARK CENTER                 75\n",
              "GREAT NORTHERN              70\n",
              "AUSTIN IRON AND METAL       50\n",
              "PARK BEND                    4\n",
              "AUSTIN WOOD RECYCLING        2\n",
              "BALCONES WOODS               1\n",
              "STEINER LANDFILL             1\n",
              "WESTFIELD                    1\n",
              "ST. EDWARDS                  1\n",
              "WILCAB                       1\n",
              "Name: dropoff_site, dtype: int64"
            ]
          },
          "metadata": {},
          "execution_count": 341
        }
      ]
    },
    {
      "cell_type": "markdown",
      "source": [
        "Note: there are 18 waste sites that exist in landfills in the country of Austin."
      ],
      "metadata": {
        "id": "UBfSTciI6khC"
      }
    },
    {
      "cell_type": "markdown",
      "source": [
        "# Problem 1.3 : Central Tendency untuk Beginning Insight\n",
        "\n",
        "---\n",
        "\n"
      ],
      "metadata": {
        "id": "uMxTmqSEa7dD"
      }
    },
    {
      "cell_type": "code",
      "source": [
        "# Cek data maximal di load_weight\n",
        "\n",
        "dfCopy['load_weight'].max()"
      ],
      "metadata": {
        "colab": {
          "base_uri": "https://localhost:8080/"
        },
        "id": "GicFSa-8zGaV",
        "outputId": "014512d1-65eb-4d90-c665-1fba57c44ee4"
      },
      "execution_count": null,
      "outputs": [
        {
          "output_type": "execute_result",
          "data": {
            "text/plain": [
              "245540.0"
            ]
          },
          "metadata": {},
          "execution_count": 342
        }
      ]
    },
    {
      "cell_type": "code",
      "source": [
        "# Cek data minimal di load_weight\n",
        "\n",
        "dfCopy['load_weight'].min()"
      ],
      "metadata": {
        "colab": {
          "base_uri": "https://localhost:8080/"
        },
        "id": "1j36ZYra1Bp-",
        "outputId": "4a4fb396-6e56-4d89-b790-dcce5e0500c0"
      },
      "execution_count": null,
      "outputs": [
        {
          "output_type": "execute_result",
          "data": {
            "text/plain": [
              "0.0"
            ]
          },
          "metadata": {},
          "execution_count": 343
        }
      ]
    },
    {
      "cell_type": "code",
      "source": [
        "# Nilai Mean kolom dropoff_site & load_weight\n",
        "\n",
        "dfCopy.groupby(dfCopy['dropoff_site'], sort=True)['load_weight'].mean()"
      ],
      "metadata": {
        "id": "44DB4h7Na3Qa",
        "colab": {
          "base_uri": "https://localhost:8080/"
        },
        "outputId": "c032555a-ffb4-4f9f-b300-90da1a197491"
      },
      "execution_count": null,
      "outputs": [
        {
          "output_type": "execute_result",
          "data": {
            "text/plain": [
              "dropoff_site\n",
              "AUSTIN IRON AND METAL      451.200000\n",
              "AUSTIN WOOD RECYCLING     4050.000000\n",
              "BALCONES RECYCLING        9464.652072\n",
              "BALCONES WOODS            8460.000000\n",
              "GREAT NORTHERN           12820.810338\n",
              "HORNSBY BEND              6638.792392\n",
              "MRF                       1799.982143\n",
              "ON ROUTE HIGH DUMP       12252.939342\n",
              "ONION CREEK              12227.136307\n",
              "ORGANICS BY GOSH         11819.476266\n",
              "PARK BEND                13385.000000\n",
              "PARK CENTER              12227.136307\n",
              "ST. EDWARDS              12227.136307\n",
              "STEINER LANDFILL           780.000000\n",
              "TDS - MRF                 9872.550882\n",
              "TDS LANDFILL             15168.581817\n",
              "WESTFIELD                16020.000000\n",
              "WILCAB                   12227.136307\n",
              "Name: load_weight, dtype: float64"
            ]
          },
          "metadata": {},
          "execution_count": 344
        }
      ]
    },
    {
      "cell_type": "markdown",
      "source": [
        "Note: the following is the mean data in each landfill site"
      ],
      "metadata": {
        "id": "0OpemH_oIfMs"
      }
    },
    {
      "cell_type": "code",
      "source": [
        "# Median Data dropoff_site & load_weight column\n",
        "\n",
        "dfCopy.groupby(dfCopy['dropoff_site'], sort=True)['load_weight'].median()"
      ],
      "metadata": {
        "colab": {
          "base_uri": "https://localhost:8080/"
        },
        "id": "ggujsmsByocM",
        "outputId": "175fca28-ca23-4bb2-82cb-43d0637cf23c"
      },
      "execution_count": null,
      "outputs": [
        {
          "output_type": "execute_result",
          "data": {
            "text/plain": [
              "dropoff_site\n",
              "AUSTIN IRON AND METAL      400.000000\n",
              "AUSTIN WOOD RECYCLING     4050.000000\n",
              "BALCONES RECYCLING        9840.000000\n",
              "BALCONES WOODS            8460.000000\n",
              "GREAT NORTHERN           12227.136307\n",
              "HORNSBY BEND              6400.000000\n",
              "MRF                       1360.000000\n",
              "ON ROUTE HIGH DUMP       12227.136307\n",
              "ONION CREEK              12227.136307\n",
              "ORGANICS BY GOSH         11920.000000\n",
              "PARK BEND                12330.000000\n",
              "PARK CENTER              12227.136307\n",
              "ST. EDWARDS              12227.136307\n",
              "STEINER LANDFILL           780.000000\n",
              "TDS - MRF                10330.000000\n",
              "TDS LANDFILL             14920.000000\n",
              "WESTFIELD                16020.000000\n",
              "WILCAB                   12227.136307\n",
              "Name: load_weight, dtype: float64"
            ]
          },
          "metadata": {},
          "execution_count": 345
        }
      ]
    },
    {
      "cell_type": "markdown",
      "source": [
        "Note: the following is the median data at each landfill in the city of Austin"
      ],
      "metadata": {
        "id": "OqbbJfiFIqbo"
      }
    },
    {
      "cell_type": "code",
      "source": [
        "# Mencari Nilai Modus di kolom dropoff_site\n",
        "\n",
        "dfCopy['dropoff_site'].mode()"
      ],
      "metadata": {
        "id": "V48M4vwNcPU5",
        "colab": {
          "base_uri": "https://localhost:8080/"
        },
        "outputId": "b05e9913-463f-4c2b-b882-4d467b7469fb"
      },
      "execution_count": null,
      "outputs": [
        {
          "output_type": "execute_result",
          "data": {
            "text/plain": [
              "0    TDS LANDFILL\n",
              "dtype: object"
            ]
          },
          "metadata": {},
          "execution_count": 346
        }
      ]
    },
    {
      "cell_type": "markdown",
      "source": [
        "Note: The most selected waste disposal site is TDS LANDFILL."
      ],
      "metadata": {
        "id": "M982qi8MgzVN"
      }
    },
    {
      "cell_type": "code",
      "source": [
        "# Preparation Data for Analyze\n",
        "\n",
        "dfCopy.groupby(dfCopy['dropoff_site'], sort=True)['load_weight'].apply(pd.Series.mode).to_frame()"
      ],
      "metadata": {
        "colab": {
          "base_uri": "https://localhost:8080/"
        },
        "id": "zhxNE8e7pfm5",
        "outputId": "4c652942-55db-49f0-fb90-4ab86974621c"
      },
      "execution_count": null,
      "outputs": [
        {
          "output_type": "execute_result",
          "data": {
            "text/plain": [
              "                          load_weight\n",
              "dropoff_site                         \n",
              "AUSTIN IRON AND METAL 0    260.000000\n",
              "                      1    320.000000\n",
              "                      2    520.000000\n",
              "AUSTIN WOOD RECYCLING 0   2340.000000\n",
              "                      1   5760.000000\n",
              "BALCONES RECYCLING    0  11880.000000\n",
              "BALCONES WOODS        0   8460.000000\n",
              "GREAT NORTHERN        0  12227.136307\n",
              "HORNSBY BEND          0   5500.000000\n",
              "MRF                   0    960.000000\n",
              "ON ROUTE HIGH DUMP    0  12227.136307\n",
              "ONION CREEK           0  12227.136307\n",
              "ORGANICS BY GOSH      0  14580.000000\n",
              "PARK BEND             0   8480.000000\n",
              "                      1   8960.000000\n",
              "                      2  15700.000000\n",
              "                      3  20400.000000\n",
              "PARK CENTER           0  12227.136307\n",
              "ST. EDWARDS           0  12227.136307\n",
              "STEINER LANDFILL      0    780.000000\n",
              "TDS - MRF             0  10360.000000\n",
              "TDS LANDFILL          0     20.000000\n",
              "                      1     60.000000\n",
              "                      2  12020.000000\n",
              "WESTFIELD             0  16020.000000\n",
              "WILCAB                0  12227.136307"
            ],
            "text/html": [
              "\n",
              "  <div id=\"df-86bbd22f-9ca1-43cc-986c-5c67811e8146\">\n",
              "    <div class=\"colab-df-container\">\n",
              "      <div>\n",
              "<style scoped>\n",
              "    .dataframe tbody tr th:only-of-type {\n",
              "        vertical-align: middle;\n",
              "    }\n",
              "\n",
              "    .dataframe tbody tr th {\n",
              "        vertical-align: top;\n",
              "    }\n",
              "\n",
              "    .dataframe thead th {\n",
              "        text-align: right;\n",
              "    }\n",
              "</style>\n",
              "<table border=\"1\" class=\"dataframe\">\n",
              "  <thead>\n",
              "    <tr style=\"text-align: right;\">\n",
              "      <th></th>\n",
              "      <th></th>\n",
              "      <th>load_weight</th>\n",
              "    </tr>\n",
              "    <tr>\n",
              "      <th>dropoff_site</th>\n",
              "      <th></th>\n",
              "      <th></th>\n",
              "    </tr>\n",
              "  </thead>\n",
              "  <tbody>\n",
              "    <tr>\n",
              "      <th rowspan=\"3\" valign=\"top\">AUSTIN IRON AND METAL</th>\n",
              "      <th>0</th>\n",
              "      <td>260.000000</td>\n",
              "    </tr>\n",
              "    <tr>\n",
              "      <th>1</th>\n",
              "      <td>320.000000</td>\n",
              "    </tr>\n",
              "    <tr>\n",
              "      <th>2</th>\n",
              "      <td>520.000000</td>\n",
              "    </tr>\n",
              "    <tr>\n",
              "      <th rowspan=\"2\" valign=\"top\">AUSTIN WOOD RECYCLING</th>\n",
              "      <th>0</th>\n",
              "      <td>2340.000000</td>\n",
              "    </tr>\n",
              "    <tr>\n",
              "      <th>1</th>\n",
              "      <td>5760.000000</td>\n",
              "    </tr>\n",
              "    <tr>\n",
              "      <th>BALCONES RECYCLING</th>\n",
              "      <th>0</th>\n",
              "      <td>11880.000000</td>\n",
              "    </tr>\n",
              "    <tr>\n",
              "      <th>BALCONES WOODS</th>\n",
              "      <th>0</th>\n",
              "      <td>8460.000000</td>\n",
              "    </tr>\n",
              "    <tr>\n",
              "      <th>GREAT NORTHERN</th>\n",
              "      <th>0</th>\n",
              "      <td>12227.136307</td>\n",
              "    </tr>\n",
              "    <tr>\n",
              "      <th>HORNSBY BEND</th>\n",
              "      <th>0</th>\n",
              "      <td>5500.000000</td>\n",
              "    </tr>\n",
              "    <tr>\n",
              "      <th>MRF</th>\n",
              "      <th>0</th>\n",
              "      <td>960.000000</td>\n",
              "    </tr>\n",
              "    <tr>\n",
              "      <th>ON ROUTE HIGH DUMP</th>\n",
              "      <th>0</th>\n",
              "      <td>12227.136307</td>\n",
              "    </tr>\n",
              "    <tr>\n",
              "      <th>ONION CREEK</th>\n",
              "      <th>0</th>\n",
              "      <td>12227.136307</td>\n",
              "    </tr>\n",
              "    <tr>\n",
              "      <th>ORGANICS BY GOSH</th>\n",
              "      <th>0</th>\n",
              "      <td>14580.000000</td>\n",
              "    </tr>\n",
              "    <tr>\n",
              "      <th rowspan=\"4\" valign=\"top\">PARK BEND</th>\n",
              "      <th>0</th>\n",
              "      <td>8480.000000</td>\n",
              "    </tr>\n",
              "    <tr>\n",
              "      <th>1</th>\n",
              "      <td>8960.000000</td>\n",
              "    </tr>\n",
              "    <tr>\n",
              "      <th>2</th>\n",
              "      <td>15700.000000</td>\n",
              "    </tr>\n",
              "    <tr>\n",
              "      <th>3</th>\n",
              "      <td>20400.000000</td>\n",
              "    </tr>\n",
              "    <tr>\n",
              "      <th>PARK CENTER</th>\n",
              "      <th>0</th>\n",
              "      <td>12227.136307</td>\n",
              "    </tr>\n",
              "    <tr>\n",
              "      <th>ST. EDWARDS</th>\n",
              "      <th>0</th>\n",
              "      <td>12227.136307</td>\n",
              "    </tr>\n",
              "    <tr>\n",
              "      <th>STEINER LANDFILL</th>\n",
              "      <th>0</th>\n",
              "      <td>780.000000</td>\n",
              "    </tr>\n",
              "    <tr>\n",
              "      <th>TDS - MRF</th>\n",
              "      <th>0</th>\n",
              "      <td>10360.000000</td>\n",
              "    </tr>\n",
              "    <tr>\n",
              "      <th rowspan=\"3\" valign=\"top\">TDS LANDFILL</th>\n",
              "      <th>0</th>\n",
              "      <td>20.000000</td>\n",
              "    </tr>\n",
              "    <tr>\n",
              "      <th>1</th>\n",
              "      <td>60.000000</td>\n",
              "    </tr>\n",
              "    <tr>\n",
              "      <th>2</th>\n",
              "      <td>12020.000000</td>\n",
              "    </tr>\n",
              "    <tr>\n",
              "      <th>WESTFIELD</th>\n",
              "      <th>0</th>\n",
              "      <td>16020.000000</td>\n",
              "    </tr>\n",
              "    <tr>\n",
              "      <th>WILCAB</th>\n",
              "      <th>0</th>\n",
              "      <td>12227.136307</td>\n",
              "    </tr>\n",
              "  </tbody>\n",
              "</table>\n",
              "</div>\n",
              "      <button class=\"colab-df-convert\" onclick=\"convertToInteractive('df-86bbd22f-9ca1-43cc-986c-5c67811e8146')\"\n",
              "              title=\"Convert this dataframe to an interactive table.\"\n",
              "              style=\"display:none;\">\n",
              "        \n",
              "  <svg xmlns=\"http://www.w3.org/2000/svg\" height=\"24px\"viewBox=\"0 0 24 24\"\n",
              "       width=\"24px\">\n",
              "    <path d=\"M0 0h24v24H0V0z\" fill=\"none\"/>\n",
              "    <path d=\"M18.56 5.44l.94 2.06.94-2.06 2.06-.94-2.06-.94-.94-2.06-.94 2.06-2.06.94zm-11 1L8.5 8.5l.94-2.06 2.06-.94-2.06-.94L8.5 2.5l-.94 2.06-2.06.94zm10 10l.94 2.06.94-2.06 2.06-.94-2.06-.94-.94-2.06-.94 2.06-2.06.94z\"/><path d=\"M17.41 7.96l-1.37-1.37c-.4-.4-.92-.59-1.43-.59-.52 0-1.04.2-1.43.59L10.3 9.45l-7.72 7.72c-.78.78-.78 2.05 0 2.83L4 21.41c.39.39.9.59 1.41.59.51 0 1.02-.2 1.41-.59l7.78-7.78 2.81-2.81c.8-.78.8-2.07 0-2.86zM5.41 20L4 18.59l7.72-7.72 1.47 1.35L5.41 20z\"/>\n",
              "  </svg>\n",
              "      </button>\n",
              "      \n",
              "  <style>\n",
              "    .colab-df-container {\n",
              "      display:flex;\n",
              "      flex-wrap:wrap;\n",
              "      gap: 12px;\n",
              "    }\n",
              "\n",
              "    .colab-df-convert {\n",
              "      background-color: #E8F0FE;\n",
              "      border: none;\n",
              "      border-radius: 50%;\n",
              "      cursor: pointer;\n",
              "      display: none;\n",
              "      fill: #1967D2;\n",
              "      height: 32px;\n",
              "      padding: 0 0 0 0;\n",
              "      width: 32px;\n",
              "    }\n",
              "\n",
              "    .colab-df-convert:hover {\n",
              "      background-color: #E2EBFA;\n",
              "      box-shadow: 0px 1px 2px rgba(60, 64, 67, 0.3), 0px 1px 3px 1px rgba(60, 64, 67, 0.15);\n",
              "      fill: #174EA6;\n",
              "    }\n",
              "\n",
              "    [theme=dark] .colab-df-convert {\n",
              "      background-color: #3B4455;\n",
              "      fill: #D2E3FC;\n",
              "    }\n",
              "\n",
              "    [theme=dark] .colab-df-convert:hover {\n",
              "      background-color: #434B5C;\n",
              "      box-shadow: 0px 1px 3px 1px rgba(0, 0, 0, 0.15);\n",
              "      filter: drop-shadow(0px 1px 2px rgba(0, 0, 0, 0.3));\n",
              "      fill: #FFFFFF;\n",
              "    }\n",
              "  </style>\n",
              "\n",
              "      <script>\n",
              "        const buttonEl =\n",
              "          document.querySelector('#df-86bbd22f-9ca1-43cc-986c-5c67811e8146 button.colab-df-convert');\n",
              "        buttonEl.style.display =\n",
              "          google.colab.kernel.accessAllowed ? 'block' : 'none';\n",
              "\n",
              "        async function convertToInteractive(key) {\n",
              "          const element = document.querySelector('#df-86bbd22f-9ca1-43cc-986c-5c67811e8146');\n",
              "          const dataTable =\n",
              "            await google.colab.kernel.invokeFunction('convertToInteractive',\n",
              "                                                     [key], {});\n",
              "          if (!dataTable) return;\n",
              "\n",
              "          const docLinkHtml = 'Like what you see? Visit the ' +\n",
              "            '<a target=\"_blank\" href=https://colab.research.google.com/notebooks/data_table.ipynb>data table notebook</a>'\n",
              "            + ' to learn more about interactive tables.';\n",
              "          element.innerHTML = '';\n",
              "          dataTable['output_type'] = 'display_data';\n",
              "          await google.colab.output.renderOutput(dataTable, element);\n",
              "          const docLink = document.createElement('div');\n",
              "          docLink.innerHTML = docLinkHtml;\n",
              "          element.appendChild(docLink);\n",
              "        }\n",
              "      </script>\n",
              "    </div>\n",
              "  </div>\n",
              "  "
            ]
          },
          "metadata": {},
          "execution_count": 347
        }
      ]
    },
    {
      "cell_type": "code",
      "source": [
        "# Lihat banyak data berdasarkan tipe sampah\n",
        "\n",
        "dfCopy['load_type'].value_counts()"
      ],
      "metadata": {
        "colab": {
          "base_uri": "https://localhost:8080/"
        },
        "id": "QUP9pMR230jr",
        "outputId": "ccbb1b0a-e3b9-48db-c596-e8c0dd6a82e9"
      },
      "execution_count": null,
      "outputs": [
        {
          "output_type": "execute_result",
          "data": {
            "text/plain": [
              "GARBAGE COLLECTIONS          8242\n",
              "RECYCLING - SINGLE STREAM    6760\n",
              "ORGANICS                     5763\n",
              "BULK                         1594\n",
              "BRUSH                        1517\n",
              "SWEEPING                     1390\n",
              "MIXED LITTER                  329\n",
              "TIRES                         175\n",
              "DEAD ANIMAL                   150\n",
              "YARD TRIMMING                 137\n",
              "RECYCLED METAL                 57\n",
              "LITTER                         41\n",
              "CONTAMINATED RECYCLING          1\n",
              "CONTAMINATED ORGANICS           1\n",
              "Name: load_type, dtype: int64"
            ]
          },
          "metadata": {},
          "execution_count": 348
        }
      ]
    },
    {
      "cell_type": "markdown",
      "source": [
        "Note : from the above waste types, the `RECYCLING - SINGLE STREAM` waste type will be selected for further analysis."
      ],
      "metadata": {
        "id": "2xO-4qo147Gy"
      }
    },
    {
      "cell_type": "code",
      "source": [
        "# Mengelompokan data berdasarkan `RECYCLING - SINGLE STREAM` di kolom `load_type`\n",
        "\n",
        "dfRecycle = dfCopy.loc[dfCopy['load_type'] == 'RECYCLING - SINGLE STREAM']\n",
        "dfRecycle"
      ],
      "metadata": {
        "colab": {
          "base_uri": "https://localhost:8080/"
        },
        "id": "sMGOfA_W5GON",
        "outputId": "a0e1192e-d8b9-4e6c-cb2e-7ac5a2715798"
      },
      "execution_count": null,
      "outputs": [
        {
          "output_type": "execute_result",
          "data": {
            "text/plain": [
              "                       load_type  load_weight        dropoff_site        date\n",
              "15     RECYCLING - SINGLE STREAM        700.0           TDS - MRF  2021-05-01\n",
              "16     RECYCLING - SINGLE STREAM        720.0           TDS - MRF  2021-06-12\n",
              "17     RECYCLING - SINGLE STREAM        300.0           TDS - MRF  2021-03-06\n",
              "1051   RECYCLING - SINGLE STREAM       3260.0  BALCONES RECYCLING  2021-02-11\n",
              "1052   RECYCLING - SINGLE STREAM       5300.0  BALCONES RECYCLING  2021-02-11\n",
              "...                          ...          ...                 ...         ...\n",
              "25989  RECYCLING - SINGLE STREAM       9220.0           TDS - MRF  2021-03-01\n",
              "25990  RECYCLING - SINGLE STREAM      11780.0           TDS - MRF  2021-03-01\n",
              "25991  RECYCLING - SINGLE STREAM       4180.0           TDS - MRF  2021-03-01\n",
              "25992  RECYCLING - SINGLE STREAM      15080.0           TDS - MRF  2021-03-01\n",
              "26112  RECYCLING - SINGLE STREAM       5320.0        TDS LANDFILL  2021-03-01\n",
              "\n",
              "[6760 rows x 4 columns]"
            ],
            "text/html": [
              "\n",
              "  <div id=\"df-b48d653f-b741-4a4a-9d5a-a3a3b3c01b97\">\n",
              "    <div class=\"colab-df-container\">\n",
              "      <div>\n",
              "<style scoped>\n",
              "    .dataframe tbody tr th:only-of-type {\n",
              "        vertical-align: middle;\n",
              "    }\n",
              "\n",
              "    .dataframe tbody tr th {\n",
              "        vertical-align: top;\n",
              "    }\n",
              "\n",
              "    .dataframe thead th {\n",
              "        text-align: right;\n",
              "    }\n",
              "</style>\n",
              "<table border=\"1\" class=\"dataframe\">\n",
              "  <thead>\n",
              "    <tr style=\"text-align: right;\">\n",
              "      <th></th>\n",
              "      <th>load_type</th>\n",
              "      <th>load_weight</th>\n",
              "      <th>dropoff_site</th>\n",
              "      <th>date</th>\n",
              "    </tr>\n",
              "  </thead>\n",
              "  <tbody>\n",
              "    <tr>\n",
              "      <th>15</th>\n",
              "      <td>RECYCLING - SINGLE STREAM</td>\n",
              "      <td>700.0</td>\n",
              "      <td>TDS - MRF</td>\n",
              "      <td>2021-05-01</td>\n",
              "    </tr>\n",
              "    <tr>\n",
              "      <th>16</th>\n",
              "      <td>RECYCLING - SINGLE STREAM</td>\n",
              "      <td>720.0</td>\n",
              "      <td>TDS - MRF</td>\n",
              "      <td>2021-06-12</td>\n",
              "    </tr>\n",
              "    <tr>\n",
              "      <th>17</th>\n",
              "      <td>RECYCLING - SINGLE STREAM</td>\n",
              "      <td>300.0</td>\n",
              "      <td>TDS - MRF</td>\n",
              "      <td>2021-03-06</td>\n",
              "    </tr>\n",
              "    <tr>\n",
              "      <th>1051</th>\n",
              "      <td>RECYCLING - SINGLE STREAM</td>\n",
              "      <td>3260.0</td>\n",
              "      <td>BALCONES RECYCLING</td>\n",
              "      <td>2021-02-11</td>\n",
              "    </tr>\n",
              "    <tr>\n",
              "      <th>1052</th>\n",
              "      <td>RECYCLING - SINGLE STREAM</td>\n",
              "      <td>5300.0</td>\n",
              "      <td>BALCONES RECYCLING</td>\n",
              "      <td>2021-02-11</td>\n",
              "    </tr>\n",
              "    <tr>\n",
              "      <th>...</th>\n",
              "      <td>...</td>\n",
              "      <td>...</td>\n",
              "      <td>...</td>\n",
              "      <td>...</td>\n",
              "    </tr>\n",
              "    <tr>\n",
              "      <th>25989</th>\n",
              "      <td>RECYCLING - SINGLE STREAM</td>\n",
              "      <td>9220.0</td>\n",
              "      <td>TDS - MRF</td>\n",
              "      <td>2021-03-01</td>\n",
              "    </tr>\n",
              "    <tr>\n",
              "      <th>25990</th>\n",
              "      <td>RECYCLING - SINGLE STREAM</td>\n",
              "      <td>11780.0</td>\n",
              "      <td>TDS - MRF</td>\n",
              "      <td>2021-03-01</td>\n",
              "    </tr>\n",
              "    <tr>\n",
              "      <th>25991</th>\n",
              "      <td>RECYCLING - SINGLE STREAM</td>\n",
              "      <td>4180.0</td>\n",
              "      <td>TDS - MRF</td>\n",
              "      <td>2021-03-01</td>\n",
              "    </tr>\n",
              "    <tr>\n",
              "      <th>25992</th>\n",
              "      <td>RECYCLING - SINGLE STREAM</td>\n",
              "      <td>15080.0</td>\n",
              "      <td>TDS - MRF</td>\n",
              "      <td>2021-03-01</td>\n",
              "    </tr>\n",
              "    <tr>\n",
              "      <th>26112</th>\n",
              "      <td>RECYCLING - SINGLE STREAM</td>\n",
              "      <td>5320.0</td>\n",
              "      <td>TDS LANDFILL</td>\n",
              "      <td>2021-03-01</td>\n",
              "    </tr>\n",
              "  </tbody>\n",
              "</table>\n",
              "<p>6760 rows × 4 columns</p>\n",
              "</div>\n",
              "      <button class=\"colab-df-convert\" onclick=\"convertToInteractive('df-b48d653f-b741-4a4a-9d5a-a3a3b3c01b97')\"\n",
              "              title=\"Convert this dataframe to an interactive table.\"\n",
              "              style=\"display:none;\">\n",
              "        \n",
              "  <svg xmlns=\"http://www.w3.org/2000/svg\" height=\"24px\"viewBox=\"0 0 24 24\"\n",
              "       width=\"24px\">\n",
              "    <path d=\"M0 0h24v24H0V0z\" fill=\"none\"/>\n",
              "    <path d=\"M18.56 5.44l.94 2.06.94-2.06 2.06-.94-2.06-.94-.94-2.06-.94 2.06-2.06.94zm-11 1L8.5 8.5l.94-2.06 2.06-.94-2.06-.94L8.5 2.5l-.94 2.06-2.06.94zm10 10l.94 2.06.94-2.06 2.06-.94-2.06-.94-.94-2.06-.94 2.06-2.06.94z\"/><path d=\"M17.41 7.96l-1.37-1.37c-.4-.4-.92-.59-1.43-.59-.52 0-1.04.2-1.43.59L10.3 9.45l-7.72 7.72c-.78.78-.78 2.05 0 2.83L4 21.41c.39.39.9.59 1.41.59.51 0 1.02-.2 1.41-.59l7.78-7.78 2.81-2.81c.8-.78.8-2.07 0-2.86zM5.41 20L4 18.59l7.72-7.72 1.47 1.35L5.41 20z\"/>\n",
              "  </svg>\n",
              "      </button>\n",
              "      \n",
              "  <style>\n",
              "    .colab-df-container {\n",
              "      display:flex;\n",
              "      flex-wrap:wrap;\n",
              "      gap: 12px;\n",
              "    }\n",
              "\n",
              "    .colab-df-convert {\n",
              "      background-color: #E8F0FE;\n",
              "      border: none;\n",
              "      border-radius: 50%;\n",
              "      cursor: pointer;\n",
              "      display: none;\n",
              "      fill: #1967D2;\n",
              "      height: 32px;\n",
              "      padding: 0 0 0 0;\n",
              "      width: 32px;\n",
              "    }\n",
              "\n",
              "    .colab-df-convert:hover {\n",
              "      background-color: #E2EBFA;\n",
              "      box-shadow: 0px 1px 2px rgba(60, 64, 67, 0.3), 0px 1px 3px 1px rgba(60, 64, 67, 0.15);\n",
              "      fill: #174EA6;\n",
              "    }\n",
              "\n",
              "    [theme=dark] .colab-df-convert {\n",
              "      background-color: #3B4455;\n",
              "      fill: #D2E3FC;\n",
              "    }\n",
              "\n",
              "    [theme=dark] .colab-df-convert:hover {\n",
              "      background-color: #434B5C;\n",
              "      box-shadow: 0px 1px 3px 1px rgba(0, 0, 0, 0.15);\n",
              "      filter: drop-shadow(0px 1px 2px rgba(0, 0, 0, 0.3));\n",
              "      fill: #FFFFFF;\n",
              "    }\n",
              "  </style>\n",
              "\n",
              "      <script>\n",
              "        const buttonEl =\n",
              "          document.querySelector('#df-b48d653f-b741-4a4a-9d5a-a3a3b3c01b97 button.colab-df-convert');\n",
              "        buttonEl.style.display =\n",
              "          google.colab.kernel.accessAllowed ? 'block' : 'none';\n",
              "\n",
              "        async function convertToInteractive(key) {\n",
              "          const element = document.querySelector('#df-b48d653f-b741-4a4a-9d5a-a3a3b3c01b97');\n",
              "          const dataTable =\n",
              "            await google.colab.kernel.invokeFunction('convertToInteractive',\n",
              "                                                     [key], {});\n",
              "          if (!dataTable) return;\n",
              "\n",
              "          const docLinkHtml = 'Like what you see? Visit the ' +\n",
              "            '<a target=\"_blank\" href=https://colab.research.google.com/notebooks/data_table.ipynb>data table notebook</a>'\n",
              "            + ' to learn more about interactive tables.';\n",
              "          element.innerHTML = '';\n",
              "          dataTable['output_type'] = 'display_data';\n",
              "          await google.colab.output.renderOutput(dataTable, element);\n",
              "          const docLink = document.createElement('div');\n",
              "          docLink.innerHTML = docLinkHtml;\n",
              "          element.appendChild(docLink);\n",
              "        }\n",
              "      </script>\n",
              "    </div>\n",
              "  </div>\n",
              "  "
            ]
          },
          "metadata": {},
          "execution_count": 349
        }
      ]
    },
    {
      "cell_type": "markdown",
      "source": [
        "note : there are 6760 rows of data where `load_type` = `RECYCLING - SINGLE STREAM`"
      ],
      "metadata": {
        "id": "EjFXkgDmwNKI"
      }
    },
    {
      "cell_type": "code",
      "source": [
        "# Mencari total data `RECYCLING - SINGLE STREAM` di masing-masing `dropoff_site`\n",
        "\n",
        "totalRecycle = dfRecycle.groupby(dfRecycle['dropoff_site'],sort=True)['load_weight'].sum()\n",
        "totalRecycle"
      ],
      "metadata": {
        "colab": {
          "base_uri": "https://localhost:8080/"
        },
        "id": "L_0mfb435jBK",
        "outputId": "9bf203c8-7b64-4fa0-8748-5076aad7a7dc"
      },
      "execution_count": null,
      "outputs": [
        {
          "output_type": "execute_result",
          "data": {
            "text/plain": [
              "dropoff_site\n",
              "AUSTIN WOOD RECYCLING        8100.0\n",
              "BALCONES RECYCLING       36315870.0\n",
              "BALCONES WOODS               8460.0\n",
              "TDS - MRF                28614260.0\n",
              "TDS LANDFILL                 7740.0\n",
              "Name: load_weight, dtype: float64"
            ]
          },
          "metadata": {},
          "execution_count": 350
        }
      ]
    },
    {
      "cell_type": "markdown",
      "source": [
        "Notes: `BALCONES RECYCLING` is the most places in processing `RECYCLING - SINGLE STREAM` type waste."
      ],
      "metadata": {
        "id": "YbuhNFTT52LU"
      }
    },
    {
      "cell_type": "markdown",
      "source": [
        "# Problem 1.4 : Pemilihan Site Pengolahan Sampah\n",
        "\n",
        "---\n",
        "\n"
      ],
      "metadata": {
        "id": "F9F2K3s44P0f"
      }
    },
    {
      "cell_type": "markdown",
      "source": [
        "Reason: because `BALCONES RECYCLING` site manages the most recycled waste of `RECYCLING - SINGLE STREAM`"
      ],
      "metadata": {
        "id": "FP3PLYPw4YxO"
      }
    },
    {
      "cell_type": "code",
      "source": [
        "# Fungsi untuk mengelompokan berdasarkan dropoff_site = BALCONES RECYCLING\n",
        "\n",
        "dfBalcones = dfCopy.loc[dfCopy['dropoff_site'] == 'BALCONES RECYCLING']\n",
        "dfBalcones"
      ],
      "metadata": {
        "id": "nvlxg1BWI8Pt",
        "colab": {
          "base_uri": "https://localhost:8080/"
        },
        "outputId": "19fedeeb-c3f5-49ea-ee3c-64be1a1122f9"
      },
      "execution_count": null,
      "outputs": [
        {
          "output_type": "execute_result",
          "data": {
            "text/plain": [
              "                       load_type  load_weight        dropoff_site        date\n",
              "1051   RECYCLING - SINGLE STREAM       3260.0  BALCONES RECYCLING  2021-02-11\n",
              "1052   RECYCLING - SINGLE STREAM       5300.0  BALCONES RECYCLING  2021-02-11\n",
              "1053   RECYCLING - SINGLE STREAM       4880.0  BALCONES RECYCLING  2021-02-11\n",
              "1054   RECYCLING - SINGLE STREAM      12420.0  BALCONES RECYCLING  2021-02-11\n",
              "1055   RECYCLING - SINGLE STREAM      12280.0  BALCONES RECYCLING  2021-02-11\n",
              "...                          ...          ...                 ...         ...\n",
              "25911  RECYCLING - SINGLE STREAM      11640.0  BALCONES RECYCLING  2021-02-26\n",
              "25912  RECYCLING - SINGLE STREAM      11780.0  BALCONES RECYCLING  2021-02-26\n",
              "25913  RECYCLING - SINGLE STREAM       8520.0  BALCONES RECYCLING  2021-02-26\n",
              "25914  RECYCLING - SINGLE STREAM       6800.0  BALCONES RECYCLING  2021-02-26\n",
              "25915  RECYCLING - SINGLE STREAM      10860.0  BALCONES RECYCLING  2021-02-26\n",
              "\n",
              "[3837 rows x 4 columns]"
            ],
            "text/html": [
              "\n",
              "  <div id=\"df-4ae95f9f-0600-428b-90cf-2407e1247d5b\">\n",
              "    <div class=\"colab-df-container\">\n",
              "      <div>\n",
              "<style scoped>\n",
              "    .dataframe tbody tr th:only-of-type {\n",
              "        vertical-align: middle;\n",
              "    }\n",
              "\n",
              "    .dataframe tbody tr th {\n",
              "        vertical-align: top;\n",
              "    }\n",
              "\n",
              "    .dataframe thead th {\n",
              "        text-align: right;\n",
              "    }\n",
              "</style>\n",
              "<table border=\"1\" class=\"dataframe\">\n",
              "  <thead>\n",
              "    <tr style=\"text-align: right;\">\n",
              "      <th></th>\n",
              "      <th>load_type</th>\n",
              "      <th>load_weight</th>\n",
              "      <th>dropoff_site</th>\n",
              "      <th>date</th>\n",
              "    </tr>\n",
              "  </thead>\n",
              "  <tbody>\n",
              "    <tr>\n",
              "      <th>1051</th>\n",
              "      <td>RECYCLING - SINGLE STREAM</td>\n",
              "      <td>3260.0</td>\n",
              "      <td>BALCONES RECYCLING</td>\n",
              "      <td>2021-02-11</td>\n",
              "    </tr>\n",
              "    <tr>\n",
              "      <th>1052</th>\n",
              "      <td>RECYCLING - SINGLE STREAM</td>\n",
              "      <td>5300.0</td>\n",
              "      <td>BALCONES RECYCLING</td>\n",
              "      <td>2021-02-11</td>\n",
              "    </tr>\n",
              "    <tr>\n",
              "      <th>1053</th>\n",
              "      <td>RECYCLING - SINGLE STREAM</td>\n",
              "      <td>4880.0</td>\n",
              "      <td>BALCONES RECYCLING</td>\n",
              "      <td>2021-02-11</td>\n",
              "    </tr>\n",
              "    <tr>\n",
              "      <th>1054</th>\n",
              "      <td>RECYCLING - SINGLE STREAM</td>\n",
              "      <td>12420.0</td>\n",
              "      <td>BALCONES RECYCLING</td>\n",
              "      <td>2021-02-11</td>\n",
              "    </tr>\n",
              "    <tr>\n",
              "      <th>1055</th>\n",
              "      <td>RECYCLING - SINGLE STREAM</td>\n",
              "      <td>12280.0</td>\n",
              "      <td>BALCONES RECYCLING</td>\n",
              "      <td>2021-02-11</td>\n",
              "    </tr>\n",
              "    <tr>\n",
              "      <th>...</th>\n",
              "      <td>...</td>\n",
              "      <td>...</td>\n",
              "      <td>...</td>\n",
              "      <td>...</td>\n",
              "    </tr>\n",
              "    <tr>\n",
              "      <th>25911</th>\n",
              "      <td>RECYCLING - SINGLE STREAM</td>\n",
              "      <td>11640.0</td>\n",
              "      <td>BALCONES RECYCLING</td>\n",
              "      <td>2021-02-26</td>\n",
              "    </tr>\n",
              "    <tr>\n",
              "      <th>25912</th>\n",
              "      <td>RECYCLING - SINGLE STREAM</td>\n",
              "      <td>11780.0</td>\n",
              "      <td>BALCONES RECYCLING</td>\n",
              "      <td>2021-02-26</td>\n",
              "    </tr>\n",
              "    <tr>\n",
              "      <th>25913</th>\n",
              "      <td>RECYCLING - SINGLE STREAM</td>\n",
              "      <td>8520.0</td>\n",
              "      <td>BALCONES RECYCLING</td>\n",
              "      <td>2021-02-26</td>\n",
              "    </tr>\n",
              "    <tr>\n",
              "      <th>25914</th>\n",
              "      <td>RECYCLING - SINGLE STREAM</td>\n",
              "      <td>6800.0</td>\n",
              "      <td>BALCONES RECYCLING</td>\n",
              "      <td>2021-02-26</td>\n",
              "    </tr>\n",
              "    <tr>\n",
              "      <th>25915</th>\n",
              "      <td>RECYCLING - SINGLE STREAM</td>\n",
              "      <td>10860.0</td>\n",
              "      <td>BALCONES RECYCLING</td>\n",
              "      <td>2021-02-26</td>\n",
              "    </tr>\n",
              "  </tbody>\n",
              "</table>\n",
              "<p>3837 rows × 4 columns</p>\n",
              "</div>\n",
              "      <button class=\"colab-df-convert\" onclick=\"convertToInteractive('df-4ae95f9f-0600-428b-90cf-2407e1247d5b')\"\n",
              "              title=\"Convert this dataframe to an interactive table.\"\n",
              "              style=\"display:none;\">\n",
              "        \n",
              "  <svg xmlns=\"http://www.w3.org/2000/svg\" height=\"24px\"viewBox=\"0 0 24 24\"\n",
              "       width=\"24px\">\n",
              "    <path d=\"M0 0h24v24H0V0z\" fill=\"none\"/>\n",
              "    <path d=\"M18.56 5.44l.94 2.06.94-2.06 2.06-.94-2.06-.94-.94-2.06-.94 2.06-2.06.94zm-11 1L8.5 8.5l.94-2.06 2.06-.94-2.06-.94L8.5 2.5l-.94 2.06-2.06.94zm10 10l.94 2.06.94-2.06 2.06-.94-2.06-.94-.94-2.06-.94 2.06-2.06.94z\"/><path d=\"M17.41 7.96l-1.37-1.37c-.4-.4-.92-.59-1.43-.59-.52 0-1.04.2-1.43.59L10.3 9.45l-7.72 7.72c-.78.78-.78 2.05 0 2.83L4 21.41c.39.39.9.59 1.41.59.51 0 1.02-.2 1.41-.59l7.78-7.78 2.81-2.81c.8-.78.8-2.07 0-2.86zM5.41 20L4 18.59l7.72-7.72 1.47 1.35L5.41 20z\"/>\n",
              "  </svg>\n",
              "      </button>\n",
              "      \n",
              "  <style>\n",
              "    .colab-df-container {\n",
              "      display:flex;\n",
              "      flex-wrap:wrap;\n",
              "      gap: 12px;\n",
              "    }\n",
              "\n",
              "    .colab-df-convert {\n",
              "      background-color: #E8F0FE;\n",
              "      border: none;\n",
              "      border-radius: 50%;\n",
              "      cursor: pointer;\n",
              "      display: none;\n",
              "      fill: #1967D2;\n",
              "      height: 32px;\n",
              "      padding: 0 0 0 0;\n",
              "      width: 32px;\n",
              "    }\n",
              "\n",
              "    .colab-df-convert:hover {\n",
              "      background-color: #E2EBFA;\n",
              "      box-shadow: 0px 1px 2px rgba(60, 64, 67, 0.3), 0px 1px 3px 1px rgba(60, 64, 67, 0.15);\n",
              "      fill: #174EA6;\n",
              "    }\n",
              "\n",
              "    [theme=dark] .colab-df-convert {\n",
              "      background-color: #3B4455;\n",
              "      fill: #D2E3FC;\n",
              "    }\n",
              "\n",
              "    [theme=dark] .colab-df-convert:hover {\n",
              "      background-color: #434B5C;\n",
              "      box-shadow: 0px 1px 3px 1px rgba(0, 0, 0, 0.15);\n",
              "      filter: drop-shadow(0px 1px 2px rgba(0, 0, 0, 0.3));\n",
              "      fill: #FFFFFF;\n",
              "    }\n",
              "  </style>\n",
              "\n",
              "      <script>\n",
              "        const buttonEl =\n",
              "          document.querySelector('#df-4ae95f9f-0600-428b-90cf-2407e1247d5b button.colab-df-convert');\n",
              "        buttonEl.style.display =\n",
              "          google.colab.kernel.accessAllowed ? 'block' : 'none';\n",
              "\n",
              "        async function convertToInteractive(key) {\n",
              "          const element = document.querySelector('#df-4ae95f9f-0600-428b-90cf-2407e1247d5b');\n",
              "          const dataTable =\n",
              "            await google.colab.kernel.invokeFunction('convertToInteractive',\n",
              "                                                     [key], {});\n",
              "          if (!dataTable) return;\n",
              "\n",
              "          const docLinkHtml = 'Like what you see? Visit the ' +\n",
              "            '<a target=\"_blank\" href=https://colab.research.google.com/notebooks/data_table.ipynb>data table notebook</a>'\n",
              "            + ' to learn more about interactive tables.';\n",
              "          element.innerHTML = '';\n",
              "          dataTable['output_type'] = 'display_data';\n",
              "          await google.colab.output.renderOutput(dataTable, element);\n",
              "          const docLink = document.createElement('div');\n",
              "          docLink.innerHTML = docLinkHtml;\n",
              "          element.appendChild(docLink);\n",
              "        }\n",
              "      </script>\n",
              "    </div>\n",
              "  </div>\n",
              "  "
            ]
          },
          "metadata": {},
          "execution_count": 351
        }
      ]
    },
    {
      "cell_type": "code",
      "source": [
        "sumBalcones = dfBalcones.value_counts().sum()\n",
        "sumBalcones"
      ],
      "metadata": {
        "colab": {
          "base_uri": "https://localhost:8080/"
        },
        "id": "LBcZQl34YbLy",
        "outputId": "757d1cfb-dc10-402a-ddaf-0b0c5a3f4281"
      },
      "execution_count": null,
      "outputs": [
        {
          "output_type": "execute_result",
          "data": {
            "text/plain": [
              "3837"
            ]
          },
          "metadata": {},
          "execution_count": 352
        }
      ]
    },
    {
      "cell_type": "markdown",
      "source": [
        "Note : There are 3837 data at `BALCONES RECYCLING`"
      ],
      "metadata": {
        "id": "199ogjg1-s2e"
      }
    },
    {
      "cell_type": "code",
      "source": [
        "volRecycle = dfBalcones.groupby(dfBalcones['load_type'] == 'RECYCLING - SINGLE STREAM')['load_weight'].sum()\n",
        "volRecycle"
      ],
      "metadata": {
        "colab": {
          "base_uri": "https://localhost:8080/"
        },
        "id": "Pme4YBkl80or",
        "outputId": "f06f5747-2869-4be7-eb73-8221ccd4d2de"
      },
      "execution_count": null,
      "outputs": [
        {
          "output_type": "execute_result",
          "data": {
            "text/plain": [
              "load_type\n",
              "True    36315870.0\n",
              "Name: load_weight, dtype: float64"
            ]
          },
          "metadata": {},
          "execution_count": 353
        }
      ]
    },
    {
      "cell_type": "markdown",
      "source": [
        "note: there are `36315870` volumes of waste of type `RECYCLING - SINGLE STREAM`"
      ],
      "metadata": {
        "id": "NJ_lM4JM9GZz"
      }
    },
    {
      "cell_type": "code",
      "source": [
        "sumRecycle = dfRecycle.value_counts().sum()\n",
        "sumRecycle"
      ],
      "metadata": {
        "colab": {
          "base_uri": "https://localhost:8080/"
        },
        "id": "IRwILqlEijhv",
        "outputId": "c8d9c423-6753-4d36-cf3f-805deba43dd2"
      },
      "execution_count": null,
      "outputs": [
        {
          "output_type": "execute_result",
          "data": {
            "text/plain": [
              "6760"
            ]
          },
          "metadata": {},
          "execution_count": 354
        }
      ]
    },
    {
      "cell_type": "markdown",
      "source": [
        "Note : There are 6760 data at `RECYCLING - SINGLE STREAM`"
      ],
      "metadata": {
        "id": "cCje2a9xG-l1"
      }
    },
    {
      "cell_type": "code",
      "source": [
        "sumRecycle = sumBalcones/sumRecycle * 100\n",
        "print(sumRecycle, '%')"
      ],
      "metadata": {
        "colab": {
          "base_uri": "https://localhost:8080/"
        },
        "id": "Mf6xB22pi48z",
        "outputId": "3de9f175-4300-448a-f220-a06510630d97"
      },
      "execution_count": null,
      "outputs": [
        {
          "output_type": "stream",
          "name": "stdout",
          "text": [
            "56.760355029585796 %\n"
          ]
        }
      ]
    },
    {
      "cell_type": "markdown",
      "source": [
        "note: the total `RECYCLING - SINGLE STREAM` waste is processed at `BALCONES RECYCLING` by 56.760355029585796%"
      ],
      "metadata": {
        "id": "ywiH4EXQjVGT"
      }
    },
    {
      "cell_type": "code",
      "source": [
        "# Cek Missing Value di dfBalcones\n",
        "\n",
        "dfBalcones.isnull().sum()"
      ],
      "metadata": {
        "colab": {
          "base_uri": "https://localhost:8080/"
        },
        "id": "bzNMbjUPj0mF",
        "outputId": "11f07304-d335-4c05-c1f8-f043e34fe64b"
      },
      "execution_count": null,
      "outputs": [
        {
          "output_type": "execute_result",
          "data": {
            "text/plain": [
              "load_type       0\n",
              "load_weight     0\n",
              "dropoff_site    0\n",
              "date            0\n",
              "dtype: int64"
            ]
          },
          "metadata": {},
          "execution_count": 356
        }
      ]
    },
    {
      "cell_type": "code",
      "source": [
        "# Cek Missing Value di dfRecycle\n",
        "\n",
        "dfRecycle.isnull().sum()"
      ],
      "metadata": {
        "colab": {
          "base_uri": "https://localhost:8080/"
        },
        "id": "5muUfQ_z_I67",
        "outputId": "484dd6b0-812b-4fc8-9547-e47f81e2cd2d"
      },
      "execution_count": null,
      "outputs": [
        {
          "output_type": "execute_result",
          "data": {
            "text/plain": [
              "load_type       0\n",
              "load_weight     0\n",
              "dropoff_site    0\n",
              "date            0\n",
              "dtype: int64"
            ]
          },
          "metadata": {},
          "execution_count": 357
        }
      ]
    },
    {
      "cell_type": "markdown",
      "source": [
        "note : there are no missing value data"
      ],
      "metadata": {
        "id": "bOv8oZT1j--q"
      }
    },
    {
      "cell_type": "code",
      "source": [
        "# Cek distribusi data\n",
        "\n",
        "dfBalcones.plot.hist(title='BALCONES RECYCLING', color=\"blue\", bins=20)\n",
        "plt.axvline(dfRecycle['load_weight'].mean(), color='red', linestyle='dashed', linewidth=2)\n",
        "plt.axvline(dfRecycle['load_weight'].median(), color='black', linestyle='dashed', linewidth=2)\n",
        "plt.show()"
      ],
      "metadata": {
        "colab": {
          "base_uri": "https://localhost:8080/"
        },
        "id": "6ccL_DSFkC5U",
        "outputId": "f2a7fc86-6cd6-4610-cdc0-dbea8d735029"
      },
      "execution_count": null,
      "outputs": [
        {
          "output_type": "display_data",
          "data": {
            "text/plain": [
              "<Figure size 432x288 with 1 Axes>"
            ],
            "image/png": "[encoded data removed]"
          },
          "metadata": {
            "needs_background": "light"
          }
        }
      ]
    },
    {
      "cell_type": "markdown",
      "source": [
        "Note: skewness is negative because the mean value < median"
      ],
      "metadata": {
        "id": "4RwzSjrMzSMT"
      }
    },
    {
      "cell_type": "code",
      "source": [
        "# Cek Skewness\n",
        "\n",
        "dfBalcones['load_weight'].skew()"
      ],
      "metadata": {
        "id": "CqIM4btylpso",
        "colab": {
          "base_uri": "https://localhost:8080/"
        },
        "outputId": "5a497901-b7bb-4cc1-f1da-2afadbb98e15"
      },
      "execution_count": null,
      "outputs": [
        {
          "output_type": "execute_result",
          "data": {
            "text/plain": [
              "0.10148179348246143"
            ]
          },
          "metadata": {},
          "execution_count": 359
        }
      ]
    },
    {
      "cell_type": "markdown",
      "source": [
        "Note : nilai skewness sebesar 0.10148179348246143 dan data masih dalam kondisi normal"
      ],
      "metadata": {
        "id": "OMou5yR1zbqa"
      }
    },
    {
      "cell_type": "code",
      "source": [
        "sns.boxplot(data=dfBalcones, y='load_weight')"
      ],
      "metadata": {
        "id": "J2vrmn1plzH3",
        "colab": {
          "base_uri": "https://localhost:8080/"
        },
        "outputId": "02cf6661-a528-4708-fd11-833c59610b39"
      },
      "execution_count": null,
      "outputs": [
        {
          "output_type": "execute_result",
          "data": {
            "text/plain": [
              "<matplotlib.axes._subplots.AxesSubplot at 0x7f55c626aee0>"
            ]
          },
          "metadata": {},
          "execution_count": 360
        },
        {
          "output_type": "display_data",
          "data": {
            "text/plain": [
              "<Figure size 432x288 with 1 Axes>"
            ],
            "image/png": "[encoded data removed]"
          },
          "metadata": {
            "needs_background": "light"
          }
        }
      ]
    },
    {
      "cell_type": "markdown",
      "source": [
        "# Problem 1.5 : Check data Outlier\n",
        "\n",
        "---\n",
        "\n"
      ],
      "metadata": {
        "id": "vHQiHobo5M-j"
      }
    },
    {
      "cell_type": "markdown",
      "source": [
        "- Nilai Percentile dan Quartile dari data dfBalcones"
      ],
      "metadata": {
        "id": "2qKHfl6hXwvm"
      }
    },
    {
      "cell_type": "code",
      "source": [
        "# Define Function Percentile & Quartile \n",
        "\n",
        "quartBal = percentile(dfBalcones['load_weight'], [25, 50, 75])\n",
        "balcMin, balcMax = dfBalcones['load_weight'].min(), dfBalcones['load_weight'].max()\n",
        "\n",
        "Q0 = quartBal[0]\n",
        "Q1 = quartBal[1]\n",
        "Q2 = quartBal[2]\n",
        "\n",
        "# Print value from function\n",
        "\n",
        "print('Nilai Minimal dfBalcones : ', balcMin)\n",
        "print('Quartile ke 0 dari dfBalcones : ', Q0)\n",
        "print('Quartile ke 1 dari dfBalcones : ', Q1)\n",
        "print('Quartile ke 2 dari dfBalcones : ', Q2)\n",
        "print('Nilai Maximal dfBalcones : ', balcMax)"
      ],
      "metadata": {
        "colab": {
          "base_uri": "https://localhost:8080/"
        },
        "id": "MamHgvRU5lo5",
        "outputId": "f92a6570-3822-438b-c9a0-7310b5ce9320"
      },
      "execution_count": null,
      "outputs": [
        {
          "output_type": "stream",
          "name": "stdout",
          "text": [
            "Nilai Minimal dfBalcones :  140.0\n",
            "Quartile ke 0 dari dfBalcones :  6260.0\n",
            "Quartile ke 1 dari dfBalcones :  9840.0\n",
            "Quartile ke 2 dari dfBalcones :  12080.0\n",
            "Nilai Maximal dfBalcones :  25780.0\n"
          ]
        }
      ]
    },
    {
      "cell_type": "markdown",
      "source": [
        "- Nilai Extreme dfBalcones"
      ],
      "metadata": {
        "id": "D1zdr0TN59kX"
      }
    },
    {
      "cell_type": "code",
      "source": [
        "# Define Function of Extreme Value\n",
        "\n",
        "IQR = Q2 - Q0\n",
        "upper = Q2 + 3 * IQR\n",
        "lower = Q0 + 3 * IQR\n",
        "\n",
        "# Print Value\n",
        "\n",
        "print('Nilai Extreme dari dfBalcones : ', IQR)\n",
        "print('Nilai Upper dari dfBalcones : ', upper)\n",
        "print('Nilai Lower dari dfBalcones : ', lower)"
      ],
      "metadata": {
        "colab": {
          "base_uri": "https://localhost:8080/"
        },
        "id": "fuxcFxl15XaD",
        "outputId": "13fbc87a-5e4c-499e-e6d3-c36355665f6f"
      },
      "execution_count": null,
      "outputs": [
        {
          "output_type": "stream",
          "name": "stdout",
          "text": [
            "Nilai Extreme dari dfBalcones :  5820.0\n",
            "Nilai Upper dari dfBalcones :  29540.0\n",
            "Nilai Lower dari dfBalcones :  23720.0\n"
          ]
        }
      ]
    },
    {
      "cell_type": "code",
      "source": [
        "# Cari data outlier berdasarkan nilai upper dfBalcones\n",
        "\n",
        "dfBalcones.loc[dfBalcones['load_weight'] > 29540]"
      ],
      "metadata": {
        "colab": {
          "base_uri": "https://localhost:8080/"
        },
        "id": "yhGTd4zI5Oaa",
        "outputId": "39f5975d-1032-4f7a-a7a6-b32162bdc7f8"
      },
      "execution_count": null,
      "outputs": [
        {
          "output_type": "execute_result",
          "data": {
            "text/plain": [
              "Empty DataFrame\n",
              "Columns: [load_type, load_weight, dropoff_site, date]\n",
              "Index: []"
            ],
            "text/html": [
              "\n",
              "  <div id=\"df-73633504-224b-430d-8b50-661e54753236\">\n",
              "    <div class=\"colab-df-container\">\n",
              "      <div>\n",
              "<style scoped>\n",
              "    .dataframe tbody tr th:only-of-type {\n",
              "        vertical-align: middle;\n",
              "    }\n",
              "\n",
              "    .dataframe tbody tr th {\n",
              "        vertical-align: top;\n",
              "    }\n",
              "\n",
              "    .dataframe thead th {\n",
              "        text-align: right;\n",
              "    }\n",
              "</style>\n",
              "<table border=\"1\" class=\"dataframe\">\n",
              "  <thead>\n",
              "    <tr style=\"text-align: right;\">\n",
              "      <th></th>\n",
              "      <th>load_type</th>\n",
              "      <th>load_weight</th>\n",
              "      <th>dropoff_site</th>\n",
              "      <th>date</th>\n",
              "    </tr>\n",
              "  </thead>\n",
              "  <tbody>\n",
              "  </tbody>\n",
              "</table>\n",
              "</div>\n",
              "      <button class=\"colab-df-convert\" onclick=\"convertToInteractive('df-73633504-224b-430d-8b50-661e54753236')\"\n",
              "              title=\"Convert this dataframe to an interactive table.\"\n",
              "              style=\"display:none;\">\n",
              "        \n",
              "  <svg xmlns=\"http://www.w3.org/2000/svg\" height=\"24px\"viewBox=\"0 0 24 24\"\n",
              "       width=\"24px\">\n",
              "    <path d=\"M0 0h24v24H0V0z\" fill=\"none\"/>\n",
              "    <path d=\"M18.56 5.44l.94 2.06.94-2.06 2.06-.94-2.06-.94-.94-2.06-.94 2.06-2.06.94zm-11 1L8.5 8.5l.94-2.06 2.06-.94-2.06-.94L8.5 2.5l-.94 2.06-2.06.94zm10 10l.94 2.06.94-2.06 2.06-.94-2.06-.94-.94-2.06-.94 2.06-2.06.94z\"/><path d=\"M17.41 7.96l-1.37-1.37c-.4-.4-.92-.59-1.43-.59-.52 0-1.04.2-1.43.59L10.3 9.45l-7.72 7.72c-.78.78-.78 2.05 0 2.83L4 21.41c.39.39.9.59 1.41.59.51 0 1.02-.2 1.41-.59l7.78-7.78 2.81-2.81c.8-.78.8-2.07 0-2.86zM5.41 20L4 18.59l7.72-7.72 1.47 1.35L5.41 20z\"/>\n",
              "  </svg>\n",
              "      </button>\n",
              "      \n",
              "  <style>\n",
              "    .colab-df-container {\n",
              "      display:flex;\n",
              "      flex-wrap:wrap;\n",
              "      gap: 12px;\n",
              "    }\n",
              "\n",
              "    .colab-df-convert {\n",
              "      background-color: #E8F0FE;\n",
              "      border: none;\n",
              "      border-radius: 50%;\n",
              "      cursor: pointer;\n",
              "      display: none;\n",
              "      fill: #1967D2;\n",
              "      height: 32px;\n",
              "      padding: 0 0 0 0;\n",
              "      width: 32px;\n",
              "    }\n",
              "\n",
              "    .colab-df-convert:hover {\n",
              "      background-color: #E2EBFA;\n",
              "      box-shadow: 0px 1px 2px rgba(60, 64, 67, 0.3), 0px 1px 3px 1px rgba(60, 64, 67, 0.15);\n",
              "      fill: #174EA6;\n",
              "    }\n",
              "\n",
              "    [theme=dark] .colab-df-convert {\n",
              "      background-color: #3B4455;\n",
              "      fill: #D2E3FC;\n",
              "    }\n",
              "\n",
              "    [theme=dark] .colab-df-convert:hover {\n",
              "      background-color: #434B5C;\n",
              "      box-shadow: 0px 1px 3px 1px rgba(0, 0, 0, 0.15);\n",
              "      filter: drop-shadow(0px 1px 2px rgba(0, 0, 0, 0.3));\n",
              "      fill: #FFFFFF;\n",
              "    }\n",
              "  </style>\n",
              "\n",
              "      <script>\n",
              "        const buttonEl =\n",
              "          document.querySelector('#df-73633504-224b-430d-8b50-661e54753236 button.colab-df-convert');\n",
              "        buttonEl.style.display =\n",
              "          google.colab.kernel.accessAllowed ? 'block' : 'none';\n",
              "\n",
              "        async function convertToInteractive(key) {\n",
              "          const element = document.querySelector('#df-73633504-224b-430d-8b50-661e54753236');\n",
              "          const dataTable =\n",
              "            await google.colab.kernel.invokeFunction('convertToInteractive',\n",
              "                                                     [key], {});\n",
              "          if (!dataTable) return;\n",
              "\n",
              "          const docLinkHtml = 'Like what you see? Visit the ' +\n",
              "            '<a target=\"_blank\" href=https://colab.research.google.com/notebooks/data_table.ipynb>data table notebook</a>'\n",
              "            + ' to learn more about interactive tables.';\n",
              "          element.innerHTML = '';\n",
              "          dataTable['output_type'] = 'display_data';\n",
              "          await google.colab.output.renderOutput(dataTable, element);\n",
              "          const docLink = document.createElement('div');\n",
              "          docLink.innerHTML = docLinkHtml;\n",
              "          element.appendChild(docLink);\n",
              "        }\n",
              "      </script>\n",
              "    </div>\n",
              "  </div>\n",
              "  "
            ]
          },
          "metadata": {},
          "execution_count": 363
        }
      ]
    },
    {
      "cell_type": "code",
      "source": [
        "# make sure no outlier\n",
        "\n",
        "recyclePerc = dfRecycle.loc[dfRecycle['load_weight'] > 29540].value_counts().sum()\n",
        "recyclePerc"
      ],
      "metadata": {
        "colab": {
          "base_uri": "https://localhost:8080/"
        },
        "id": "7BjWDO4m5ydy",
        "outputId": "a95ef06c-4639-47a6-fcc9-bca46581914d"
      },
      "execution_count": null,
      "outputs": [
        {
          "output_type": "execute_result",
          "data": {
            "text/plain": [
              "0"
            ]
          },
          "metadata": {},
          "execution_count": 364
        }
      ]
    },
    {
      "cell_type": "markdown",
      "source": [
        "Note : tidak ada data outlier dari dfBalcones, jadi tidak perlu dihapus"
      ],
      "metadata": {
        "id": "wIPEcdyu5oxo"
      }
    },
    {
      "cell_type": "markdown",
      "source": [
        "# Problem 1.6 : Pengukuran Range, Variansi dan Standard Deviasi\n",
        "\n",
        "---\n",
        "\n"
      ],
      "metadata": {
        "id": "DC9bEP1uzqKh"
      }
    },
    {
      "cell_type": "code",
      "source": [
        "# Cari Nilai Mean, Median dan Modus dari dfBalcones\n",
        "\n",
        "bMean = dfBalcones['load_weight'].mean()\n",
        "bMed = dfBalcones['load_weight'].median()\n",
        "bMod = dfBalcones['load_weight'].mode()\n",
        "\n",
        "print('Nilai Mean dari data Balcones : ', bMean)\n",
        "print('Nilai Median dari data Balcones : ', bMed)\n",
        "print('Nilai Modus dari data Balcones : ', bMod)"
      ],
      "metadata": {
        "colab": {
          "base_uri": "https://localhost:8080/"
        },
        "id": "AvUxTSo5z1ta",
        "outputId": "cea3dd90-160c-4545-8ece-f398f32d2566"
      },
      "execution_count": null,
      "outputs": [
        {
          "output_type": "stream",
          "name": "stdout",
          "text": [
            "Nilai Mean dari data Balcones :  9464.652071931196\n",
            "Nilai Median dari data Balcones :  9840.0\n",
            "Nilai Modus dari data Balcones :  0    11880.0\n",
            "dtype: float64\n"
          ]
        }
      ]
    },
    {
      "cell_type": "code",
      "source": [
        "# Cari Nilai Var & Std dari dfBalcones\n",
        "\n",
        "varBal = dfBalcones['load_weight'].var()\n",
        "stdBal = dfBalcones['load_weight'].std()\n",
        "\n",
        "print('Nilai Var dari data Balcones : ', varBal)\n",
        "print('Nilai Std dari data Balcones : ', stdBal)"
      ],
      "metadata": {
        "colab": {
          "base_uri": "https://localhost:8080/"
        },
        "id": "siswS8xD0tLL",
        "outputId": "7a9b7c88-a809-4dc5-8883-16227af5e4de"
      },
      "execution_count": null,
      "outputs": [
        {
          "output_type": "stream",
          "name": "stdout",
          "text": [
            "Nilai Var dari data Balcones :  14916926.032459863\n",
            "Nilai Std dari data Balcones :  3862.243652653191\n"
          ]
        }
      ]
    },
    {
      "cell_type": "code",
      "source": [
        "sns.boxplot(data = dfBalcones, y = 'load_weight')"
      ],
      "metadata": {
        "colab": {
          "base_uri": "https://localhost:8080/"
        },
        "id": "UBauHx4z6I_e",
        "outputId": "4a351ff4-6ef5-4eed-b1cf-6c6d9daaeabc"
      },
      "execution_count": null,
      "outputs": [
        {
          "output_type": "execute_result",
          "data": {
            "text/plain": [
              "<matplotlib.axes._subplots.AxesSubplot at 0x7f55c61dffd0>"
            ]
          },
          "metadata": {},
          "execution_count": 367
        },
        {
          "output_type": "display_data",
          "data": {
            "text/plain": [
              "<Figure size 432x288 with 1 Axes>"
            ],
            "image/png": "[encoded data removed]"
          },
          "metadata": {
            "needs_background": "light"
          }
        }
      ]
    },
    {
      "cell_type": "code",
      "source": [
        "dfBalcones.plot.hist(title = 'BALCONES RECYCLING', color='skyblue', bins=20)\n",
        "plt.axvline(dfBalcones['load_weight'].mean(), color='red', linestyle='dashed', linewidth=2)\n",
        "plt.axvline(dfBalcones['load_weight'].median(), color='black', linestyle='dashed', linewidth=2)\n",
        "plt.show()"
      ],
      "metadata": {
        "colab": {
          "base_uri": "https://localhost:8080/"
        },
        "id": "DBnMNJgkNMLP",
        "outputId": "3f354f9c-55d6-449a-ec7d-50f73c530f27"
      },
      "execution_count": null,
      "outputs": [
        {
          "output_type": "display_data",
          "data": {
            "text/plain": [
              "<Figure size 432x288 with 1 Axes>"
            ],
            "image/png": "[encoded data removed]"
          },
          "metadata": {
            "needs_background": "light"
          }
        }
      ]
    },
    {
      "cell_type": "markdown",
      "source": [
        "note : plot data after check the outliers in `BALCONES RECYCLING` "
      ],
      "metadata": {
        "id": "SZMd_35ROH-F"
      }
    },
    {
      "cell_type": "markdown",
      "source": [
        "- Karena tidak ada data outlier dan kita masih perlu analisa ulang setelah itu, maka perhitungannya hampir sama dengan perhitungan yang diatas"
      ],
      "metadata": {
        "id": "7ntpiyUvOa7i"
      }
    },
    {
      "cell_type": "code",
      "source": [
        "# Cari Nilai Mean, Median dan Modus dari dfBalcones\n",
        "\n",
        "bMean = dfBalcones['load_weight'].mean()\n",
        "bMed = dfBalcones['load_weight'].median()\n",
        "bMod = dfBalcones['load_weight'].mode()\n",
        "\n",
        "print('Nilai Mean dari data Balcones : ', bMean)\n",
        "print('Nilai Median dari data Balcones : ', bMed)\n",
        "print('Nilai Modus dari data Balcones : ', bMod)"
      ],
      "metadata": {
        "colab": {
          "base_uri": "https://localhost:8080/"
        },
        "id": "763lmiKKOjzf",
        "outputId": "0ecc0fde-3612-4e81-a132-4a51bf188877"
      },
      "execution_count": null,
      "outputs": [
        {
          "output_type": "stream",
          "name": "stdout",
          "text": [
            "Nilai Mean dari data Balcones :  9464.652071931196\n",
            "Nilai Median dari data Balcones :  9840.0\n",
            "Nilai Modus dari data Balcones :  0    11880.0\n",
            "dtype: float64\n"
          ]
        }
      ]
    },
    {
      "cell_type": "code",
      "source": [
        "dfBalcones.apply(pd.Series.mode)"
      ],
      "metadata": {
        "colab": {
          "base_uri": "https://localhost:8080/"
        },
        "id": "U4mdVX9wOoBM",
        "outputId": "a75d8890-12f4-466d-d386-d7a93b2a9d35"
      },
      "execution_count": null,
      "outputs": [
        {
          "output_type": "execute_result",
          "data": {
            "text/plain": [
              "                   load_type  load_weight        dropoff_site        date\n",
              "0  RECYCLING - SINGLE STREAM      11880.0  BALCONES RECYCLING  2021-03-04"
            ],
            "text/html": [
              "\n",
              "  <div id=\"df-0bb0b530-d416-4f79-8642-e5f749d26cdb\">\n",
              "    <div class=\"colab-df-container\">\n",
              "      <div>\n",
              "<style scoped>\n",
              "    .dataframe tbody tr th:only-of-type {\n",
              "        vertical-align: middle;\n",
              "    }\n",
              "\n",
              "    .dataframe tbody tr th {\n",
              "        vertical-align: top;\n",
              "    }\n",
              "\n",
              "    .dataframe thead th {\n",
              "        text-align: right;\n",
              "    }\n",
              "</style>\n",
              "<table border=\"1\" class=\"dataframe\">\n",
              "  <thead>\n",
              "    <tr style=\"text-align: right;\">\n",
              "      <th></th>\n",
              "      <th>load_type</th>\n",
              "      <th>load_weight</th>\n",
              "      <th>dropoff_site</th>\n",
              "      <th>date</th>\n",
              "    </tr>\n",
              "  </thead>\n",
              "  <tbody>\n",
              "    <tr>\n",
              "      <th>0</th>\n",
              "      <td>RECYCLING - SINGLE STREAM</td>\n",
              "      <td>11880.0</td>\n",
              "      <td>BALCONES RECYCLING</td>\n",
              "      <td>2021-03-04</td>\n",
              "    </tr>\n",
              "  </tbody>\n",
              "</table>\n",
              "</div>\n",
              "      <button class=\"colab-df-convert\" onclick=\"convertToInteractive('df-0bb0b530-d416-4f79-8642-e5f749d26cdb')\"\n",
              "              title=\"Convert this dataframe to an interactive table.\"\n",
              "              style=\"display:none;\">\n",
              "        \n",
              "  <svg xmlns=\"http://www.w3.org/2000/svg\" height=\"24px\"viewBox=\"0 0 24 24\"\n",
              "       width=\"24px\">\n",
              "    <path d=\"M0 0h24v24H0V0z\" fill=\"none\"/>\n",
              "    <path d=\"M18.56 5.44l.94 2.06.94-2.06 2.06-.94-2.06-.94-.94-2.06-.94 2.06-2.06.94zm-11 1L8.5 8.5l.94-2.06 2.06-.94-2.06-.94L8.5 2.5l-.94 2.06-2.06.94zm10 10l.94 2.06.94-2.06 2.06-.94-2.06-.94-.94-2.06-.94 2.06-2.06.94z\"/><path d=\"M17.41 7.96l-1.37-1.37c-.4-.4-.92-.59-1.43-.59-.52 0-1.04.2-1.43.59L10.3 9.45l-7.72 7.72c-.78.78-.78 2.05 0 2.83L4 21.41c.39.39.9.59 1.41.59.51 0 1.02-.2 1.41-.59l7.78-7.78 2.81-2.81c.8-.78.8-2.07 0-2.86zM5.41 20L4 18.59l7.72-7.72 1.47 1.35L5.41 20z\"/>\n",
              "  </svg>\n",
              "      </button>\n",
              "      \n",
              "  <style>\n",
              "    .colab-df-container {\n",
              "      display:flex;\n",
              "      flex-wrap:wrap;\n",
              "      gap: 12px;\n",
              "    }\n",
              "\n",
              "    .colab-df-convert {\n",
              "      background-color: #E8F0FE;\n",
              "      border: none;\n",
              "      border-radius: 50%;\n",
              "      cursor: pointer;\n",
              "      display: none;\n",
              "      fill: #1967D2;\n",
              "      height: 32px;\n",
              "      padding: 0 0 0 0;\n",
              "      width: 32px;\n",
              "    }\n",
              "\n",
              "    .colab-df-convert:hover {\n",
              "      background-color: #E2EBFA;\n",
              "      box-shadow: 0px 1px 2px rgba(60, 64, 67, 0.3), 0px 1px 3px 1px rgba(60, 64, 67, 0.15);\n",
              "      fill: #174EA6;\n",
              "    }\n",
              "\n",
              "    [theme=dark] .colab-df-convert {\n",
              "      background-color: #3B4455;\n",
              "      fill: #D2E3FC;\n",
              "    }\n",
              "\n",
              "    [theme=dark] .colab-df-convert:hover {\n",
              "      background-color: #434B5C;\n",
              "      box-shadow: 0px 1px 3px 1px rgba(0, 0, 0, 0.15);\n",
              "      filter: drop-shadow(0px 1px 2px rgba(0, 0, 0, 0.3));\n",
              "      fill: #FFFFFF;\n",
              "    }\n",
              "  </style>\n",
              "\n",
              "      <script>\n",
              "        const buttonEl =\n",
              "          document.querySelector('#df-0bb0b530-d416-4f79-8642-e5f749d26cdb button.colab-df-convert');\n",
              "        buttonEl.style.display =\n",
              "          google.colab.kernel.accessAllowed ? 'block' : 'none';\n",
              "\n",
              "        async function convertToInteractive(key) {\n",
              "          const element = document.querySelector('#df-0bb0b530-d416-4f79-8642-e5f749d26cdb');\n",
              "          const dataTable =\n",
              "            await google.colab.kernel.invokeFunction('convertToInteractive',\n",
              "                                                     [key], {});\n",
              "          if (!dataTable) return;\n",
              "\n",
              "          const docLinkHtml = 'Like what you see? Visit the ' +\n",
              "            '<a target=\"_blank\" href=https://colab.research.google.com/notebooks/data_table.ipynb>data table notebook</a>'\n",
              "            + ' to learn more about interactive tables.';\n",
              "          element.innerHTML = '';\n",
              "          dataTable['output_type'] = 'display_data';\n",
              "          await google.colab.output.renderOutput(dataTable, element);\n",
              "          const docLink = document.createElement('div');\n",
              "          docLink.innerHTML = docLinkHtml;\n",
              "          element.appendChild(docLink);\n",
              "        }\n",
              "      </script>\n",
              "    </div>\n",
              "  </div>\n",
              "  "
            ]
          },
          "metadata": {},
          "execution_count": 370
        }
      ]
    },
    {
      "cell_type": "markdown",
      "source": [
        "note : nilai modus dari `droppoff_site` `BALCONES RECYCLING` adalah 11880"
      ],
      "metadata": {
        "id": "DAQesOMzO5tj"
      }
    },
    {
      "cell_type": "markdown",
      "source": [
        "- Data Comparison\n",
        "  - Data yang diambil adalah data dari site ``"
      ],
      "metadata": {
        "id": "-G2t_abKPPsL"
      }
    },
    {
      "cell_type": "code",
      "source": [
        "dfMetal = dfCopy.loc[dfCopy['load_type'] == 'RECYCLED METAL']\n",
        "dfMetal"
      ],
      "metadata": {
        "colab": {
          "base_uri": "https://localhost:8080/"
        },
        "id": "Nqe686ymPXhy",
        "outputId": "5246a643-f093-4d17-971c-2c22fe979efd"
      },
      "execution_count": null,
      "outputs": [
        {
          "output_type": "execute_result",
          "data": {
            "text/plain": [
              "            load_type  load_weight           dropoff_site        date\n",
              "1083   RECYCLED METAL        320.0  AUSTIN IRON AND METAL  2021-07-08\n",
              "1314   RECYCLED METAL        520.0  AUSTIN IRON AND METAL  2021-03-02\n",
              "1477   RECYCLED METAL       8260.0       ORGANICS BY GOSH  2021-03-03\n",
              "2273   RECYCLED METAL        350.0  AUSTIN IRON AND METAL  2021-03-08\n",
              "2529   RECYCLED METAL        280.0  AUSTIN IRON AND METAL  2021-03-09\n",
              "2785   RECYCLED METAL        500.0  AUSTIN IRON AND METAL  2021-03-10\n",
              "3025   RECYCLED METAL        630.0  AUSTIN IRON AND METAL  2021-03-11\n",
              "3474   RECYCLED METAL       1040.0  AUSTIN IRON AND METAL  2021-03-15\n",
              "4530   RECYCLED METAL       5160.0       ORGANICS BY GOSH  2021-03-22\n",
              "4790   RECYCLED METAL        290.0  AUSTIN IRON AND METAL  2021-03-23\n",
              "6445   RECYCLED METAL      17440.0       ORGANICS BY GOSH  2021-04-02\n",
              "6888   RECYCLED METAL        290.0  AUSTIN IRON AND METAL  2021-04-06\n",
              "7642   RECYCLED METAL        240.0  AUSTIN IRON AND METAL  2021-04-12\n",
              "7814   RECYCLED METAL      20760.0       ORGANICS BY GOSH  2021-04-13\n",
              "8713   RECYCLED METAL        480.0  AUSTIN IRON AND METAL  2021-04-19\n",
              "9122   RECYCLED METAL        710.0  AUSTIN IRON AND METAL  2021-04-21\n",
              "9320   RECYCLED METAL        560.0  AUSTIN IRON AND METAL  2021-04-22\n",
              "9876   RECYCLED METAL        260.0  AUSTIN IRON AND METAL  2021-04-27\n",
              "10083  RECYCLED METAL        400.0  AUSTIN IRON AND METAL  2021-04-28\n",
              "10247  RECYCLED METAL        470.0  AUSTIN IRON AND METAL  2021-04-29\n",
              "10598  RECYCLED METAL        300.0  AUSTIN IRON AND METAL  2021-05-03\n",
              "10787  RECYCLED METAL        520.0  AUSTIN IRON AND METAL  2021-05-04\n",
              "10976  RECYCLED METAL        650.0  AUSTIN IRON AND METAL  2021-05-05\n",
              "11151  RECYCLED METAL        550.0  AUSTIN IRON AND METAL  2021-05-06\n",
              "11518  RECYCLED METAL        660.0  AUSTIN IRON AND METAL  2021-05-10\n",
              "11706  RECYCLED METAL       1060.0  AUSTIN IRON AND METAL  2021-05-11\n",
              "11920  RECYCLED METAL        600.0  AUSTIN IRON AND METAL  2021-05-12\n",
              "12114  RECYCLED METAL        320.0  AUSTIN IRON AND METAL  2021-05-13\n",
              "12681  RECYCLED METAL        520.0  AUSTIN IRON AND METAL  2021-05-18\n",
              "13040  RECYCLED METAL        230.0  AUSTIN IRON AND METAL  2021-05-20\n",
              "13576  RECYCLED METAL        600.0  AUSTIN IRON AND METAL  2021-05-25\n",
              "13958  RECYCLED METAL        220.0  AUSTIN IRON AND METAL  2021-05-27\n",
              "14468  RECYCLED METAL        530.0  AUSTIN IRON AND METAL  2021-06-01\n",
              "14817  RECYCLED METAL        260.0  AUSTIN IRON AND METAL  2021-06-03\n",
              "15168  RECYCLED METAL        510.0  AUSTIN IRON AND METAL  2021-06-07\n",
              "15355  RECYCLED METAL        320.0  AUSTIN IRON AND METAL  2021-06-08\n",
              "15764  RECYCLED METAL        340.0  AUSTIN IRON AND METAL  2021-06-10\n",
              "16129  RECYCLED METAL        230.0                    MRF  2021-06-15\n",
              "16499  RECYCLED METAL        160.0  AUSTIN IRON AND METAL  2021-06-16\n",
              "16644  RECYCLED METAL      11040.0       ORGANICS BY GOSH  2021-06-17\n",
              "16702  RECYCLED METAL        380.0  AUSTIN IRON AND METAL  2021-06-17\n",
              "17063  RECYCLED METAL        340.0  AUSTIN IRON AND METAL  2021-06-21\n",
              "17250  RECYCLED METAL        800.0  AUSTIN IRON AND METAL  2021-06-22\n",
              "17444  RECYCLED METAL        460.0  AUSTIN IRON AND METAL  2021-06-23\n",
              "17561  RECYCLED METAL        220.0           TDS LANDFILL  2021-06-24\n",
              "18979  RECYCLED METAL        150.0  AUSTIN IRON AND METAL  2021-07-06\n",
              "19127  RECYCLED METAL        540.0  AUSTIN IRON AND METAL  2021-07-07\n",
              "19687  RECYCLED METAL        260.0  AUSTIN IRON AND METAL  2021-01-05\n",
              "19872  RECYCLED METAL        220.0  AUSTIN IRON AND METAL  2021-01-06\n",
              "20785  RECYCLED METAL        640.0  AUSTIN IRON AND METAL  2021-01-13\n",
              "21516  RECYCLED METAL        830.0  AUSTIN IRON AND METAL  2021-01-19\n",
              "23735  RECYCLED METAL        140.0  AUSTIN IRON AND METAL  2021-02-04\n",
              "24099  RECYCLED METAL        390.0  AUSTIN IRON AND METAL  2021-02-08\n",
              "24288  RECYCLED METAL        780.0  AUSTIN IRON AND METAL  2021-02-09\n",
              "24501  RECYCLED METAL        180.0  AUSTIN IRON AND METAL  2021-02-10\n",
              "25156  RECYCLED METAL        400.0  AUSTIN IRON AND METAL  2021-02-23\n",
              "26156  RECYCLED METAL        360.0  AUSTIN IRON AND METAL  2021-03-01"
            ],
            "text/html": [
              "\n",
              "  <div id=\"df-ba25b935-bbc6-424c-ba2e-b0aec97de250\">\n",
              "    <div class=\"colab-df-container\">\n",
              "      <div>\n",
              "<style scoped>\n",
              "    .dataframe tbody tr th:only-of-type {\n",
              "        vertical-align: middle;\n",
              "    }\n",
              "\n",
              "    .dataframe tbody tr th {\n",
              "        vertical-align: top;\n",
              "    }\n",
              "\n",
              "    .dataframe thead th {\n",
              "        text-align: right;\n",
              "    }\n",
              "</style>\n",
              "<table border=\"1\" class=\"dataframe\">\n",
              "  <thead>\n",
              "    <tr style=\"text-align: right;\">\n",
              "      <th></th>\n",
              "      <th>load_type</th>\n",
              "      <th>load_weight</th>\n",
              "      <th>dropoff_site</th>\n",
              "      <th>date</th>\n",
              "    </tr>\n",
              "  </thead>\n",
              "  <tbody>\n",
              "    <tr>\n",
              "      <th>1083</th>\n",
              "      <td>RECYCLED METAL</td>\n",
              "      <td>320.0</td>\n",
              "      <td>AUSTIN IRON AND METAL</td>\n",
              "      <td>2021-07-08</td>\n",
              "    </tr>\n",
              "    <tr>\n",
              "      <th>1314</th>\n",
              "      <td>RECYCLED METAL</td>\n",
              "      <td>520.0</td>\n",
              "      <td>AUSTIN IRON AND METAL</td>\n",
              "      <td>2021-03-02</td>\n",
              "    </tr>\n",
              "    <tr>\n",
              "      <th>1477</th>\n",
              "      <td>RECYCLED METAL</td>\n",
              "      <td>8260.0</td>\n",
              "      <td>ORGANICS BY GOSH</td>\n",
              "      <td>2021-03-03</td>\n",
              "    </tr>\n",
              "    <tr>\n",
              "      <th>2273</th>\n",
              "      <td>RECYCLED METAL</td>\n",
              "      <td>350.0</td>\n",
              "      <td>AUSTIN IRON AND METAL</td>\n",
              "      <td>2021-03-08</td>\n",
              "    </tr>\n",
              "    <tr>\n",
              "      <th>2529</th>\n",
              "      <td>RECYCLED METAL</td>\n",
              "      <td>280.0</td>\n",
              "      <td>AUSTIN IRON AND METAL</td>\n",
              "      <td>2021-03-09</td>\n",
              "    </tr>\n",
              "    <tr>\n",
              "      <th>2785</th>\n",
              "      <td>RECYCLED METAL</td>\n",
              "      <td>500.0</td>\n",
              "      <td>AUSTIN IRON AND METAL</td>\n",
              "      <td>2021-03-10</td>\n",
              "    </tr>\n",
              "    <tr>\n",
              "      <th>3025</th>\n",
              "      <td>RECYCLED METAL</td>\n",
              "      <td>630.0</td>\n",
              "      <td>AUSTIN IRON AND METAL</td>\n",
              "      <td>2021-03-11</td>\n",
              "    </tr>\n",
              "    <tr>\n",
              "      <th>3474</th>\n",
              "      <td>RECYCLED METAL</td>\n",
              "      <td>1040.0</td>\n",
              "      <td>AUSTIN IRON AND METAL</td>\n",
              "      <td>2021-03-15</td>\n",
              "    </tr>\n",
              "    <tr>\n",
              "      <th>4530</th>\n",
              "      <td>RECYCLED METAL</td>\n",
              "      <td>5160.0</td>\n",
              "      <td>ORGANICS BY GOSH</td>\n",
              "      <td>2021-03-22</td>\n",
              "    </tr>\n",
              "    <tr>\n",
              "      <th>4790</th>\n",
              "      <td>RECYCLED METAL</td>\n",
              "      <td>290.0</td>\n",
              "      <td>AUSTIN IRON AND METAL</td>\n",
              "      <td>2021-03-23</td>\n",
              "    </tr>\n",
              "    <tr>\n",
              "      <th>6445</th>\n",
              "      <td>RECYCLED METAL</td>\n",
              "      <td>17440.0</td>\n",
              "      <td>ORGANICS BY GOSH</td>\n",
              "      <td>2021-04-02</td>\n",
              "    </tr>\n",
              "    <tr>\n",
              "      <th>6888</th>\n",
              "      <td>RECYCLED METAL</td>\n",
              "      <td>290.0</td>\n",
              "      <td>AUSTIN IRON AND METAL</td>\n",
              "      <td>2021-04-06</td>\n",
              "    </tr>\n",
              "    <tr>\n",
              "      <th>7642</th>\n",
              "      <td>RECYCLED METAL</td>\n",
              "      <td>240.0</td>\n",
              "      <td>AUSTIN IRON AND METAL</td>\n",
              "      <td>2021-04-12</td>\n",
              "    </tr>\n",
              "    <tr>\n",
              "      <th>7814</th>\n",
              "      <td>RECYCLED METAL</td>\n",
              "      <td>20760.0</td>\n",
              "      <td>ORGANICS BY GOSH</td>\n",
              "      <td>2021-04-13</td>\n",
              "    </tr>\n",
              "    <tr>\n",
              "      <th>8713</th>\n",
              "      <td>RECYCLED METAL</td>\n",
              "      <td>480.0</td>\n",
              "      <td>AUSTIN IRON AND METAL</td>\n",
              "      <td>2021-04-19</td>\n",
              "    </tr>\n",
              "    <tr>\n",
              "      <th>9122</th>\n",
              "      <td>RECYCLED METAL</td>\n",
              "      <td>710.0</td>\n",
              "      <td>AUSTIN IRON AND METAL</td>\n",
              "      <td>2021-04-21</td>\n",
              "    </tr>\n",
              "    <tr>\n",
              "      <th>9320</th>\n",
              "      <td>RECYCLED METAL</td>\n",
              "      <td>560.0</td>\n",
              "      <td>AUSTIN IRON AND METAL</td>\n",
              "      <td>2021-04-22</td>\n",
              "    </tr>\n",
              "    <tr>\n",
              "      <th>9876</th>\n",
              "      <td>RECYCLED METAL</td>\n",
              "      <td>260.0</td>\n",
              "      <td>AUSTIN IRON AND METAL</td>\n",
              "      <td>2021-04-27</td>\n",
              "    </tr>\n",
              "    <tr>\n",
              "      <th>10083</th>\n",
              "      <td>RECYCLED METAL</td>\n",
              "      <td>400.0</td>\n",
              "      <td>AUSTIN IRON AND METAL</td>\n",
              "      <td>2021-04-28</td>\n",
              "    </tr>\n",
              "    <tr>\n",
              "      <th>10247</th>\n",
              "      <td>RECYCLED METAL</td>\n",
              "      <td>470.0</td>\n",
              "      <td>AUSTIN IRON AND METAL</td>\n",
              "      <td>2021-04-29</td>\n",
              "    </tr>\n",
              "    <tr>\n",
              "      <th>10598</th>\n",
              "      <td>RECYCLED METAL</td>\n",
              "      <td>300.0</td>\n",
              "      <td>AUSTIN IRON AND METAL</td>\n",
              "      <td>2021-05-03</td>\n",
              "    </tr>\n",
              "    <tr>\n",
              "      <th>10787</th>\n",
              "      <td>RECYCLED METAL</td>\n",
              "      <td>520.0</td>\n",
              "      <td>AUSTIN IRON AND METAL</td>\n",
              "      <td>2021-05-04</td>\n",
              "    </tr>\n",
              "    <tr>\n",
              "      <th>10976</th>\n",
              "      <td>RECYCLED METAL</td>\n",
              "      <td>650.0</td>\n",
              "      <td>AUSTIN IRON AND METAL</td>\n",
              "      <td>2021-05-05</td>\n",
              "    </tr>\n",
              "    <tr>\n",
              "      <th>11151</th>\n",
              "      <td>RECYCLED METAL</td>\n",
              "      <td>550.0</td>\n",
              "      <td>AUSTIN IRON AND METAL</td>\n",
              "      <td>2021-05-06</td>\n",
              "    </tr>\n",
              "    <tr>\n",
              "      <th>11518</th>\n",
              "      <td>RECYCLED METAL</td>\n",
              "      <td>660.0</td>\n",
              "      <td>AUSTIN IRON AND METAL</td>\n",
              "      <td>2021-05-10</td>\n",
              "    </tr>\n",
              "    <tr>\n",
              "      <th>11706</th>\n",
              "      <td>RECYCLED METAL</td>\n",
              "      <td>1060.0</td>\n",
              "      <td>AUSTIN IRON AND METAL</td>\n",
              "      <td>2021-05-11</td>\n",
              "    </tr>\n",
              "    <tr>\n",
              "      <th>11920</th>\n",
              "      <td>RECYCLED METAL</td>\n",
              "      <td>600.0</td>\n",
              "      <td>AUSTIN IRON AND METAL</td>\n",
              "      <td>2021-05-12</td>\n",
              "    </tr>\n",
              "    <tr>\n",
              "      <th>12114</th>\n",
              "      <td>RECYCLED METAL</td>\n",
              "      <td>320.0</td>\n",
              "      <td>AUSTIN IRON AND METAL</td>\n",
              "      <td>2021-05-13</td>\n",
              "    </tr>\n",
              "    <tr>\n",
              "      <th>12681</th>\n",
              "      <td>RECYCLED METAL</td>\n",
              "      <td>520.0</td>\n",
              "      <td>AUSTIN IRON AND METAL</td>\n",
              "      <td>2021-05-18</td>\n",
              "    </tr>\n",
              "    <tr>\n",
              "      <th>13040</th>\n",
              "      <td>RECYCLED METAL</td>\n",
              "      <td>230.0</td>\n",
              "      <td>AUSTIN IRON AND METAL</td>\n",
              "      <td>2021-05-20</td>\n",
              "    </tr>\n",
              "    <tr>\n",
              "      <th>13576</th>\n",
              "      <td>RECYCLED METAL</td>\n",
              "      <td>600.0</td>\n",
              "      <td>AUSTIN IRON AND METAL</td>\n",
              "      <td>2021-05-25</td>\n",
              "    </tr>\n",
              "    <tr>\n",
              "      <th>13958</th>\n",
              "      <td>RECYCLED METAL</td>\n",
              "      <td>220.0</td>\n",
              "      <td>AUSTIN IRON AND METAL</td>\n",
              "      <td>2021-05-27</td>\n",
              "    </tr>\n",
              "    <tr>\n",
              "      <th>14468</th>\n",
              "      <td>RECYCLED METAL</td>\n",
              "      <td>530.0</td>\n",
              "      <td>AUSTIN IRON AND METAL</td>\n",
              "      <td>2021-06-01</td>\n",
              "    </tr>\n",
              "    <tr>\n",
              "      <th>14817</th>\n",
              "      <td>RECYCLED METAL</td>\n",
              "      <td>260.0</td>\n",
              "      <td>AUSTIN IRON AND METAL</td>\n",
              "      <td>2021-06-03</td>\n",
              "    </tr>\n",
              "    <tr>\n",
              "      <th>15168</th>\n",
              "      <td>RECYCLED METAL</td>\n",
              "      <td>510.0</td>\n",
              "      <td>AUSTIN IRON AND METAL</td>\n",
              "      <td>2021-06-07</td>\n",
              "    </tr>\n",
              "    <tr>\n",
              "      <th>15355</th>\n",
              "      <td>RECYCLED METAL</td>\n",
              "      <td>320.0</td>\n",
              "      <td>AUSTIN IRON AND METAL</td>\n",
              "      <td>2021-06-08</td>\n",
              "    </tr>\n",
              "    <tr>\n",
              "      <th>15764</th>\n",
              "      <td>RECYCLED METAL</td>\n",
              "      <td>340.0</td>\n",
              "      <td>AUSTIN IRON AND METAL</td>\n",
              "      <td>2021-06-10</td>\n",
              "    </tr>\n",
              "    <tr>\n",
              "      <th>16129</th>\n",
              "      <td>RECYCLED METAL</td>\n",
              "      <td>230.0</td>\n",
              "      <td>MRF</td>\n",
              "      <td>2021-06-15</td>\n",
              "    </tr>\n",
              "    <tr>\n",
              "      <th>16499</th>\n",
              "      <td>RECYCLED METAL</td>\n",
              "      <td>160.0</td>\n",
              "      <td>AUSTIN IRON AND METAL</td>\n",
              "      <td>2021-06-16</td>\n",
              "    </tr>\n",
              "    <tr>\n",
              "      <th>16644</th>\n",
              "      <td>RECYCLED METAL</td>\n",
              "      <td>11040.0</td>\n",
              "      <td>ORGANICS BY GOSH</td>\n",
              "      <td>2021-06-17</td>\n",
              "    </tr>\n",
              "    <tr>\n",
              "      <th>16702</th>\n",
              "      <td>RECYCLED METAL</td>\n",
              "      <td>380.0</td>\n",
              "      <td>AUSTIN IRON AND METAL</td>\n",
              "      <td>2021-06-17</td>\n",
              "    </tr>\n",
              "    <tr>\n",
              "      <th>17063</th>\n",
              "      <td>RECYCLED METAL</td>\n",
              "      <td>340.0</td>\n",
              "      <td>AUSTIN IRON AND METAL</td>\n",
              "      <td>2021-06-21</td>\n",
              "    </tr>\n",
              "    <tr>\n",
              "      <th>17250</th>\n",
              "      <td>RECYCLED METAL</td>\n",
              "      <td>800.0</td>\n",
              "      <td>AUSTIN IRON AND METAL</td>\n",
              "      <td>2021-06-22</td>\n",
              "    </tr>\n",
              "    <tr>\n",
              "      <th>17444</th>\n",
              "      <td>RECYCLED METAL</td>\n",
              "      <td>460.0</td>\n",
              "      <td>AUSTIN IRON AND METAL</td>\n",
              "      <td>2021-06-23</td>\n",
              "    </tr>\n",
              "    <tr>\n",
              "      <th>17561</th>\n",
              "      <td>RECYCLED METAL</td>\n",
              "      <td>220.0</td>\n",
              "      <td>TDS LANDFILL</td>\n",
              "      <td>2021-06-24</td>\n",
              "    </tr>\n",
              "    <tr>\n",
              "      <th>18979</th>\n",
              "      <td>RECYCLED METAL</td>\n",
              "      <td>150.0</td>\n",
              "      <td>AUSTIN IRON AND METAL</td>\n",
              "      <td>2021-07-06</td>\n",
              "    </tr>\n",
              "    <tr>\n",
              "      <th>19127</th>\n",
              "      <td>RECYCLED METAL</td>\n",
              "      <td>540.0</td>\n",
              "      <td>AUSTIN IRON AND METAL</td>\n",
              "      <td>2021-07-07</td>\n",
              "    </tr>\n",
              "    <tr>\n",
              "      <th>19687</th>\n",
              "      <td>RECYCLED METAL</td>\n",
              "      <td>260.0</td>\n",
              "      <td>AUSTIN IRON AND METAL</td>\n",
              "      <td>2021-01-05</td>\n",
              "    </tr>\n",
              "    <tr>\n",
              "      <th>19872</th>\n",
              "      <td>RECYCLED METAL</td>\n",
              "      <td>220.0</td>\n",
              "      <td>AUSTIN IRON AND METAL</td>\n",
              "      <td>2021-01-06</td>\n",
              "    </tr>\n",
              "    <tr>\n",
              "      <th>20785</th>\n",
              "      <td>RECYCLED METAL</td>\n",
              "      <td>640.0</td>\n",
              "      <td>AUSTIN IRON AND METAL</td>\n",
              "      <td>2021-01-13</td>\n",
              "    </tr>\n",
              "    <tr>\n",
              "      <th>21516</th>\n",
              "      <td>RECYCLED METAL</td>\n",
              "      <td>830.0</td>\n",
              "      <td>AUSTIN IRON AND METAL</td>\n",
              "      <td>2021-01-19</td>\n",
              "    </tr>\n",
              "    <tr>\n",
              "      <th>23735</th>\n",
              "      <td>RECYCLED METAL</td>\n",
              "      <td>140.0</td>\n",
              "      <td>AUSTIN IRON AND METAL</td>\n",
              "      <td>2021-02-04</td>\n",
              "    </tr>\n",
              "    <tr>\n",
              "      <th>24099</th>\n",
              "      <td>RECYCLED METAL</td>\n",
              "      <td>390.0</td>\n",
              "      <td>AUSTIN IRON AND METAL</td>\n",
              "      <td>2021-02-08</td>\n",
              "    </tr>\n",
              "    <tr>\n",
              "      <th>24288</th>\n",
              "      <td>RECYCLED METAL</td>\n",
              "      <td>780.0</td>\n",
              "      <td>AUSTIN IRON AND METAL</td>\n",
              "      <td>2021-02-09</td>\n",
              "    </tr>\n",
              "    <tr>\n",
              "      <th>24501</th>\n",
              "      <td>RECYCLED METAL</td>\n",
              "      <td>180.0</td>\n",
              "      <td>AUSTIN IRON AND METAL</td>\n",
              "      <td>2021-02-10</td>\n",
              "    </tr>\n",
              "    <tr>\n",
              "      <th>25156</th>\n",
              "      <td>RECYCLED METAL</td>\n",
              "      <td>400.0</td>\n",
              "      <td>AUSTIN IRON AND METAL</td>\n",
              "      <td>2021-02-23</td>\n",
              "    </tr>\n",
              "    <tr>\n",
              "      <th>26156</th>\n",
              "      <td>RECYCLED METAL</td>\n",
              "      <td>360.0</td>\n",
              "      <td>AUSTIN IRON AND METAL</td>\n",
              "      <td>2021-03-01</td>\n",
              "    </tr>\n",
              "  </tbody>\n",
              "</table>\n",
              "</div>\n",
              "      <button class=\"colab-df-convert\" onclick=\"convertToInteractive('df-ba25b935-bbc6-424c-ba2e-b0aec97de250')\"\n",
              "              title=\"Convert this dataframe to an interactive table.\"\n",
              "              style=\"display:none;\">\n",
              "        \n",
              "  <svg xmlns=\"http://www.w3.org/2000/svg\" height=\"24px\"viewBox=\"0 0 24 24\"\n",
              "       width=\"24px\">\n",
              "    <path d=\"M0 0h24v24H0V0z\" fill=\"none\"/>\n",
              "    <path d=\"M18.56 5.44l.94 2.06.94-2.06 2.06-.94-2.06-.94-.94-2.06-.94 2.06-2.06.94zm-11 1L8.5 8.5l.94-2.06 2.06-.94-2.06-.94L8.5 2.5l-.94 2.06-2.06.94zm10 10l.94 2.06.94-2.06 2.06-.94-2.06-.94-.94-2.06-.94 2.06-2.06.94z\"/><path d=\"M17.41 7.96l-1.37-1.37c-.4-.4-.92-.59-1.43-.59-.52 0-1.04.2-1.43.59L10.3 9.45l-7.72 7.72c-.78.78-.78 2.05 0 2.83L4 21.41c.39.39.9.59 1.41.59.51 0 1.02-.2 1.41-.59l7.78-7.78 2.81-2.81c.8-.78.8-2.07 0-2.86zM5.41 20L4 18.59l7.72-7.72 1.47 1.35L5.41 20z\"/>\n",
              "  </svg>\n",
              "      </button>\n",
              "      \n",
              "  <style>\n",
              "    .colab-df-container {\n",
              "      display:flex;\n",
              "      flex-wrap:wrap;\n",
              "      gap: 12px;\n",
              "    }\n",
              "\n",
              "    .colab-df-convert {\n",
              "      background-color: #E8F0FE;\n",
              "      border: none;\n",
              "      border-radius: 50%;\n",
              "      cursor: pointer;\n",
              "      display: none;\n",
              "      fill: #1967D2;\n",
              "      height: 32px;\n",
              "      padding: 0 0 0 0;\n",
              "      width: 32px;\n",
              "    }\n",
              "\n",
              "    .colab-df-convert:hover {\n",
              "      background-color: #E2EBFA;\n",
              "      box-shadow: 0px 1px 2px rgba(60, 64, 67, 0.3), 0px 1px 3px 1px rgba(60, 64, 67, 0.15);\n",
              "      fill: #174EA6;\n",
              "    }\n",
              "\n",
              "    [theme=dark] .colab-df-convert {\n",
              "      background-color: #3B4455;\n",
              "      fill: #D2E3FC;\n",
              "    }\n",
              "\n",
              "    [theme=dark] .colab-df-convert:hover {\n",
              "      background-color: #434B5C;\n",
              "      box-shadow: 0px 1px 3px 1px rgba(0, 0, 0, 0.15);\n",
              "      filter: drop-shadow(0px 1px 2px rgba(0, 0, 0, 0.3));\n",
              "      fill: #FFFFFF;\n",
              "    }\n",
              "  </style>\n",
              "\n",
              "      <script>\n",
              "        const buttonEl =\n",
              "          document.querySelector('#df-ba25b935-bbc6-424c-ba2e-b0aec97de250 button.colab-df-convert');\n",
              "        buttonEl.style.display =\n",
              "          google.colab.kernel.accessAllowed ? 'block' : 'none';\n",
              "\n",
              "        async function convertToInteractive(key) {\n",
              "          const element = document.querySelector('#df-ba25b935-bbc6-424c-ba2e-b0aec97de250');\n",
              "          const dataTable =\n",
              "            await google.colab.kernel.invokeFunction('convertToInteractive',\n",
              "                                                     [key], {});\n",
              "          if (!dataTable) return;\n",
              "\n",
              "          const docLinkHtml = 'Like what you see? Visit the ' +\n",
              "            '<a target=\"_blank\" href=https://colab.research.google.com/notebooks/data_table.ipynb>data table notebook</a>'\n",
              "            + ' to learn more about interactive tables.';\n",
              "          element.innerHTML = '';\n",
              "          dataTable['output_type'] = 'display_data';\n",
              "          await google.colab.output.renderOutput(dataTable, element);\n",
              "          const docLink = document.createElement('div');\n",
              "          docLink.innerHTML = docLinkHtml;\n",
              "          element.appendChild(docLink);\n",
              "        }\n",
              "      </script>\n",
              "    </div>\n",
              "  </div>\n",
              "  "
            ]
          },
          "metadata": {},
          "execution_count": 371
        }
      ]
    },
    {
      "cell_type": "code",
      "source": [
        "dfMetal.dropoff_site.unique()"
      ],
      "metadata": {
        "colab": {
          "base_uri": "https://localhost:8080/"
        },
        "id": "yF8UQ75PQEBw",
        "outputId": "a7a8905c-31f6-4e6c-911b-0c01942a9b4b"
      },
      "execution_count": null,
      "outputs": [
        {
          "output_type": "execute_result",
          "data": {
            "text/plain": [
              "array(['AUSTIN IRON AND METAL', 'ORGANICS BY GOSH', 'MRF', 'TDS LANDFILL'],\n",
              "      dtype=object)"
            ]
          },
          "metadata": {},
          "execution_count": 372
        }
      ]
    },
    {
      "cell_type": "markdown",
      "source": [
        "note : ada 4 site yang dikhususkan untuk pengolahan limbah `RECYCLED METAL`"
      ],
      "metadata": {
        "id": "OpXwzH7CQrUR"
      }
    },
    {
      "cell_type": "code",
      "source": [
        "totalMetal = dfMetal.groupby(dfMetal['dropoff_site'],sort=True).sum()\n",
        "totalMetal"
      ],
      "metadata": {
        "colab": {
          "base_uri": "https://localhost:8080/"
        },
        "id": "jTdzPh6wQy3u",
        "outputId": "d806f8c2-0959-444d-c16f-95a727a80872"
      },
      "execution_count": null,
      "outputs": [
        {
          "output_type": "execute_result",
          "data": {
            "text/plain": [
              "                       load_weight\n",
              "dropoff_site                      \n",
              "AUSTIN IRON AND METAL      22560.0\n",
              "MRF                          230.0\n",
              "ORGANICS BY GOSH           62660.0\n",
              "TDS LANDFILL                 220.0"
            ],
            "text/html": [
              "\n",
              "  <div id=\"df-ac03c011-eb4b-4a0a-b079-4b3725427e29\">\n",
              "    <div class=\"colab-df-container\">\n",
              "      <div>\n",
              "<style scoped>\n",
              "    .dataframe tbody tr th:only-of-type {\n",
              "        vertical-align: middle;\n",
              "    }\n",
              "\n",
              "    .dataframe tbody tr th {\n",
              "        vertical-align: top;\n",
              "    }\n",
              "\n",
              "    .dataframe thead th {\n",
              "        text-align: right;\n",
              "    }\n",
              "</style>\n",
              "<table border=\"1\" class=\"dataframe\">\n",
              "  <thead>\n",
              "    <tr style=\"text-align: right;\">\n",
              "      <th></th>\n",
              "      <th>load_weight</th>\n",
              "    </tr>\n",
              "    <tr>\n",
              "      <th>dropoff_site</th>\n",
              "      <th></th>\n",
              "    </tr>\n",
              "  </thead>\n",
              "  <tbody>\n",
              "    <tr>\n",
              "      <th>AUSTIN IRON AND METAL</th>\n",
              "      <td>22560.0</td>\n",
              "    </tr>\n",
              "    <tr>\n",
              "      <th>MRF</th>\n",
              "      <td>230.0</td>\n",
              "    </tr>\n",
              "    <tr>\n",
              "      <th>ORGANICS BY GOSH</th>\n",
              "      <td>62660.0</td>\n",
              "    </tr>\n",
              "    <tr>\n",
              "      <th>TDS LANDFILL</th>\n",
              "      <td>220.0</td>\n",
              "    </tr>\n",
              "  </tbody>\n",
              "</table>\n",
              "</div>\n",
              "      <button class=\"colab-df-convert\" onclick=\"convertToInteractive('df-ac03c011-eb4b-4a0a-b079-4b3725427e29')\"\n",
              "              title=\"Convert this dataframe to an interactive table.\"\n",
              "              style=\"display:none;\">\n",
              "        \n",
              "  <svg xmlns=\"http://www.w3.org/2000/svg\" height=\"24px\"viewBox=\"0 0 24 24\"\n",
              "       width=\"24px\">\n",
              "    <path d=\"M0 0h24v24H0V0z\" fill=\"none\"/>\n",
              "    <path d=\"M18.56 5.44l.94 2.06.94-2.06 2.06-.94-2.06-.94-.94-2.06-.94 2.06-2.06.94zm-11 1L8.5 8.5l.94-2.06 2.06-.94-2.06-.94L8.5 2.5l-.94 2.06-2.06.94zm10 10l.94 2.06.94-2.06 2.06-.94-2.06-.94-.94-2.06-.94 2.06-2.06.94z\"/><path d=\"M17.41 7.96l-1.37-1.37c-.4-.4-.92-.59-1.43-.59-.52 0-1.04.2-1.43.59L10.3 9.45l-7.72 7.72c-.78.78-.78 2.05 0 2.83L4 21.41c.39.39.9.59 1.41.59.51 0 1.02-.2 1.41-.59l7.78-7.78 2.81-2.81c.8-.78.8-2.07 0-2.86zM5.41 20L4 18.59l7.72-7.72 1.47 1.35L5.41 20z\"/>\n",
              "  </svg>\n",
              "      </button>\n",
              "      \n",
              "  <style>\n",
              "    .colab-df-container {\n",
              "      display:flex;\n",
              "      flex-wrap:wrap;\n",
              "      gap: 12px;\n",
              "    }\n",
              "\n",
              "    .colab-df-convert {\n",
              "      background-color: #E8F0FE;\n",
              "      border: none;\n",
              "      border-radius: 50%;\n",
              "      cursor: pointer;\n",
              "      display: none;\n",
              "      fill: #1967D2;\n",
              "      height: 32px;\n",
              "      padding: 0 0 0 0;\n",
              "      width: 32px;\n",
              "    }\n",
              "\n",
              "    .colab-df-convert:hover {\n",
              "      background-color: #E2EBFA;\n",
              "      box-shadow: 0px 1px 2px rgba(60, 64, 67, 0.3), 0px 1px 3px 1px rgba(60, 64, 67, 0.15);\n",
              "      fill: #174EA6;\n",
              "    }\n",
              "\n",
              "    [theme=dark] .colab-df-convert {\n",
              "      background-color: #3B4455;\n",
              "      fill: #D2E3FC;\n",
              "    }\n",
              "\n",
              "    [theme=dark] .colab-df-convert:hover {\n",
              "      background-color: #434B5C;\n",
              "      box-shadow: 0px 1px 3px 1px rgba(0, 0, 0, 0.15);\n",
              "      filter: drop-shadow(0px 1px 2px rgba(0, 0, 0, 0.3));\n",
              "      fill: #FFFFFF;\n",
              "    }\n",
              "  </style>\n",
              "\n",
              "      <script>\n",
              "        const buttonEl =\n",
              "          document.querySelector('#df-ac03c011-eb4b-4a0a-b079-4b3725427e29 button.colab-df-convert');\n",
              "        buttonEl.style.display =\n",
              "          google.colab.kernel.accessAllowed ? 'block' : 'none';\n",
              "\n",
              "        async function convertToInteractive(key) {\n",
              "          const element = document.querySelector('#df-ac03c011-eb4b-4a0a-b079-4b3725427e29');\n",
              "          const dataTable =\n",
              "            await google.colab.kernel.invokeFunction('convertToInteractive',\n",
              "                                                     [key], {});\n",
              "          if (!dataTable) return;\n",
              "\n",
              "          const docLinkHtml = 'Like what you see? Visit the ' +\n",
              "            '<a target=\"_blank\" href=https://colab.research.google.com/notebooks/data_table.ipynb>data table notebook</a>'\n",
              "            + ' to learn more about interactive tables.';\n",
              "          element.innerHTML = '';\n",
              "          dataTable['output_type'] = 'display_data';\n",
              "          await google.colab.output.renderOutput(dataTable, element);\n",
              "          const docLink = document.createElement('div');\n",
              "          docLink.innerHTML = docLinkHtml;\n",
              "          element.appendChild(docLink);\n",
              "        }\n",
              "      </script>\n",
              "    </div>\n",
              "  </div>\n",
              "  "
            ]
          },
          "metadata": {},
          "execution_count": 373
        }
      ]
    },
    {
      "cell_type": "markdown",
      "source": [
        "note : data pembanding yang menarik perhatian yaitu site `ORGANICS BY GOSH` karena limbah yang diolah cukup besar"
      ],
      "metadata": {
        "id": "bjCK27O5RWyw"
      }
    },
    {
      "cell_type": "code",
      "source": [
        "dfOrganics = dfMetal.loc[dfMetal['dropoff_site'] == 'ORGANICS BY GOSH']\n",
        "dfOrganics"
      ],
      "metadata": {
        "colab": {
          "base_uri": "https://localhost:8080/"
        },
        "id": "FWGQdyvCSUMy",
        "outputId": "7ac8e0c2-2827-47fb-b3d0-3cc6903d4e8c"
      },
      "execution_count": null,
      "outputs": [
        {
          "output_type": "execute_result",
          "data": {
            "text/plain": [
              "            load_type  load_weight      dropoff_site        date\n",
              "1477   RECYCLED METAL       8260.0  ORGANICS BY GOSH  2021-03-03\n",
              "4530   RECYCLED METAL       5160.0  ORGANICS BY GOSH  2021-03-22\n",
              "6445   RECYCLED METAL      17440.0  ORGANICS BY GOSH  2021-04-02\n",
              "7814   RECYCLED METAL      20760.0  ORGANICS BY GOSH  2021-04-13\n",
              "16644  RECYCLED METAL      11040.0  ORGANICS BY GOSH  2021-06-17"
            ],
            "text/html": [
              "\n",
              "  <div id=\"df-2a430736-5e33-4708-a3e2-1e4087f45c65\">\n",
              "    <div class=\"colab-df-container\">\n",
              "      <div>\n",
              "<style scoped>\n",
              "    .dataframe tbody tr th:only-of-type {\n",
              "        vertical-align: middle;\n",
              "    }\n",
              "\n",
              "    .dataframe tbody tr th {\n",
              "        vertical-align: top;\n",
              "    }\n",
              "\n",
              "    .dataframe thead th {\n",
              "        text-align: right;\n",
              "    }\n",
              "</style>\n",
              "<table border=\"1\" class=\"dataframe\">\n",
              "  <thead>\n",
              "    <tr style=\"text-align: right;\">\n",
              "      <th></th>\n",
              "      <th>load_type</th>\n",
              "      <th>load_weight</th>\n",
              "      <th>dropoff_site</th>\n",
              "      <th>date</th>\n",
              "    </tr>\n",
              "  </thead>\n",
              "  <tbody>\n",
              "    <tr>\n",
              "      <th>1477</th>\n",
              "      <td>RECYCLED METAL</td>\n",
              "      <td>8260.0</td>\n",
              "      <td>ORGANICS BY GOSH</td>\n",
              "      <td>2021-03-03</td>\n",
              "    </tr>\n",
              "    <tr>\n",
              "      <th>4530</th>\n",
              "      <td>RECYCLED METAL</td>\n",
              "      <td>5160.0</td>\n",
              "      <td>ORGANICS BY GOSH</td>\n",
              "      <td>2021-03-22</td>\n",
              "    </tr>\n",
              "    <tr>\n",
              "      <th>6445</th>\n",
              "      <td>RECYCLED METAL</td>\n",
              "      <td>17440.0</td>\n",
              "      <td>ORGANICS BY GOSH</td>\n",
              "      <td>2021-04-02</td>\n",
              "    </tr>\n",
              "    <tr>\n",
              "      <th>7814</th>\n",
              "      <td>RECYCLED METAL</td>\n",
              "      <td>20760.0</td>\n",
              "      <td>ORGANICS BY GOSH</td>\n",
              "      <td>2021-04-13</td>\n",
              "    </tr>\n",
              "    <tr>\n",
              "      <th>16644</th>\n",
              "      <td>RECYCLED METAL</td>\n",
              "      <td>11040.0</td>\n",
              "      <td>ORGANICS BY GOSH</td>\n",
              "      <td>2021-06-17</td>\n",
              "    </tr>\n",
              "  </tbody>\n",
              "</table>\n",
              "</div>\n",
              "      <button class=\"colab-df-convert\" onclick=\"convertToInteractive('df-2a430736-5e33-4708-a3e2-1e4087f45c65')\"\n",
              "              title=\"Convert this dataframe to an interactive table.\"\n",
              "              style=\"display:none;\">\n",
              "        \n",
              "  <svg xmlns=\"http://www.w3.org/2000/svg\" height=\"24px\"viewBox=\"0 0 24 24\"\n",
              "       width=\"24px\">\n",
              "    <path d=\"M0 0h24v24H0V0z\" fill=\"none\"/>\n",
              "    <path d=\"M18.56 5.44l.94 2.06.94-2.06 2.06-.94-2.06-.94-.94-2.06-.94 2.06-2.06.94zm-11 1L8.5 8.5l.94-2.06 2.06-.94-2.06-.94L8.5 2.5l-.94 2.06-2.06.94zm10 10l.94 2.06.94-2.06 2.06-.94-2.06-.94-.94-2.06-.94 2.06-2.06.94z\"/><path d=\"M17.41 7.96l-1.37-1.37c-.4-.4-.92-.59-1.43-.59-.52 0-1.04.2-1.43.59L10.3 9.45l-7.72 7.72c-.78.78-.78 2.05 0 2.83L4 21.41c.39.39.9.59 1.41.59.51 0 1.02-.2 1.41-.59l7.78-7.78 2.81-2.81c.8-.78.8-2.07 0-2.86zM5.41 20L4 18.59l7.72-7.72 1.47 1.35L5.41 20z\"/>\n",
              "  </svg>\n",
              "      </button>\n",
              "      \n",
              "  <style>\n",
              "    .colab-df-container {\n",
              "      display:flex;\n",
              "      flex-wrap:wrap;\n",
              "      gap: 12px;\n",
              "    }\n",
              "\n",
              "    .colab-df-convert {\n",
              "      background-color: #E8F0FE;\n",
              "      border: none;\n",
              "      border-radius: 50%;\n",
              "      cursor: pointer;\n",
              "      display: none;\n",
              "      fill: #1967D2;\n",
              "      height: 32px;\n",
              "      padding: 0 0 0 0;\n",
              "      width: 32px;\n",
              "    }\n",
              "\n",
              "    .colab-df-convert:hover {\n",
              "      background-color: #E2EBFA;\n",
              "      box-shadow: 0px 1px 2px rgba(60, 64, 67, 0.3), 0px 1px 3px 1px rgba(60, 64, 67, 0.15);\n",
              "      fill: #174EA6;\n",
              "    }\n",
              "\n",
              "    [theme=dark] .colab-df-convert {\n",
              "      background-color: #3B4455;\n",
              "      fill: #D2E3FC;\n",
              "    }\n",
              "\n",
              "    [theme=dark] .colab-df-convert:hover {\n",
              "      background-color: #434B5C;\n",
              "      box-shadow: 0px 1px 3px 1px rgba(0, 0, 0, 0.15);\n",
              "      filter: drop-shadow(0px 1px 2px rgba(0, 0, 0, 0.3));\n",
              "      fill: #FFFFFF;\n",
              "    }\n",
              "  </style>\n",
              "\n",
              "      <script>\n",
              "        const buttonEl =\n",
              "          document.querySelector('#df-2a430736-5e33-4708-a3e2-1e4087f45c65 button.colab-df-convert');\n",
              "        buttonEl.style.display =\n",
              "          google.colab.kernel.accessAllowed ? 'block' : 'none';\n",
              "\n",
              "        async function convertToInteractive(key) {\n",
              "          const element = document.querySelector('#df-2a430736-5e33-4708-a3e2-1e4087f45c65');\n",
              "          const dataTable =\n",
              "            await google.colab.kernel.invokeFunction('convertToInteractive',\n",
              "                                                     [key], {});\n",
              "          if (!dataTable) return;\n",
              "\n",
              "          const docLinkHtml = 'Like what you see? Visit the ' +\n",
              "            '<a target=\"_blank\" href=https://colab.research.google.com/notebooks/data_table.ipynb>data table notebook</a>'\n",
              "            + ' to learn more about interactive tables.';\n",
              "          element.innerHTML = '';\n",
              "          dataTable['output_type'] = 'display_data';\n",
              "          await google.colab.output.renderOutput(dataTable, element);\n",
              "          const docLink = document.createElement('div');\n",
              "          docLink.innerHTML = docLinkHtml;\n",
              "          element.appendChild(docLink);\n",
              "        }\n",
              "      </script>\n",
              "    </div>\n",
              "  </div>\n",
              "  "
            ]
          },
          "metadata": {},
          "execution_count": 374
        }
      ]
    },
    {
      "cell_type": "code",
      "source": [
        "totalOrganics = dfOrganics['load_weight'].sum()\n",
        "totalOrganics"
      ],
      "metadata": {
        "colab": {
          "base_uri": "https://localhost:8080/"
        },
        "id": "Q1YcKrWjSlgQ",
        "outputId": "5af7b1c0-604a-4663-c5a2-daf5b1a5221b"
      },
      "execution_count": null,
      "outputs": [
        {
          "output_type": "execute_result",
          "data": {
            "text/plain": [
              "62660.0"
            ]
          },
          "metadata": {},
          "execution_count": 375
        }
      ]
    },
    {
      "cell_type": "markdown",
      "source": [
        "note : total limbah `RECYCLED METAL` yang ada di site `ORGANICS BY GOSH` adalah 62660"
      ],
      "metadata": {
        "id": "MVAq-gRvTTGy"
      }
    },
    {
      "cell_type": "markdown",
      "source": [
        "- Nilai Mean, Median, Modus, Variansi dan Standard Deviasi dari site `ORGANICS BY GOSH`"
      ],
      "metadata": {
        "id": "s-ojdsjPTej9"
      }
    },
    {
      "cell_type": "code",
      "source": [
        "# Define Function Mean, Median, Mode, Variance & Standar\n",
        "\n",
        "orgMean = dfOrganics['load_weight'].mean()\n",
        "orgMed = dfOrganics['load_weight'].median()\n",
        "orgMod = dfOrganics['load_weight'].mode()\n",
        "orgVar = dfOrganics['load_weight'].var()\n",
        "orgStd = dfOrganics['load_weight'].std()\n",
        "\n",
        "# Print Value\n",
        "\n",
        "print('Nilai Mean dari data ORGANICS BY GOSH : ', orgMean)\n",
        "print('Nilai Median dari data ORGANICS BY GOSH : ', orgMed)\n",
        "print('Nilai Modus dari data ORGANICS BY GOSH :\\n', orgMod)\n",
        "print('Nilai Variansi dari data ORGANICS BY GOSH : ', orgVar)\n",
        "print('Nilai Standard dari data ORGANICS BY GOSH : ', orgStd)"
      ],
      "metadata": {
        "colab": {
          "base_uri": "https://localhost:8080/"
        },
        "id": "g40NtwZRTri2",
        "outputId": "6a90390e-b77b-457f-ca7b-ebcd5372c6a0"
      },
      "execution_count": null,
      "outputs": [
        {
          "output_type": "stream",
          "name": "stdout",
          "text": [
            "Nilai Mean dari data ORGANICS BY GOSH :  12532.0\n",
            "Nilai Median dari data ORGANICS BY GOSH :  11040.0\n",
            "Nilai Modus dari data ORGANICS BY GOSH :\n",
            " 0     5160.0\n",
            "1     8260.0\n",
            "2    11040.0\n",
            "3    17440.0\n",
            "4    20760.0\n",
            "dtype: float64\n",
            "Nilai Variansi dari data ORGANICS BY GOSH :  41652720.0\n",
            "Nilai Standard dari data ORGANICS BY GOSH :  6453.891849109342\n"
          ]
        }
      ]
    },
    {
      "cell_type": "markdown",
      "source": [
        "- Create Distribution Plot of `ORGANICS BY GOSH`"
      ],
      "metadata": {
        "id": "7u7eTaaQUu6k"
      }
    },
    {
      "cell_type": "code",
      "source": [
        "# Ploting of Distribution Plot\n",
        "\n",
        "dfOrganics.plot.hist(Label = 'ORGANICS BY GOSH', color='magenta', bins=20)\n",
        "plt.axvline(orgMean, color='blue', linestyle='dashed', linewidth=2)\n",
        "plt.axvline(orgMed, color='black', linestyle='dashed', linewidth=2)\n",
        "plt.show()"
      ],
      "metadata": {
        "colab": {
          "base_uri": "https://localhost:8080/"
        },
        "id": "by6LUxXJU1h4",
        "outputId": "16dd1141-c450-4ec3-cfc9-c145380f3303"
      },
      "execution_count": null,
      "outputs": [
        {
          "output_type": "display_data",
          "data": {
            "text/plain": [
              "<Figure size 432x288 with 1 Axes>"
            ],
            "image/png": "[encoded data removed]"
          },
          "metadata": {
            "needs_background": "light"
          }
        }
      ]
    },
    {
      "cell_type": "markdown",
      "source": [
        "- Check skewness "
      ],
      "metadata": {
        "id": "AOIcoEkyWVlI"
      }
    },
    {
      "cell_type": "code",
      "source": [
        "dfOrganics['load_weight'].skew()"
      ],
      "metadata": {
        "colab": {
          "base_uri": "https://localhost:8080/"
        },
        "id": "tPGsLV7SWWSu",
        "outputId": "1ca0cfe0-3b7e-4c71-a2d8-53d7f5ef57a6"
      },
      "execution_count": null,
      "outputs": [
        {
          "output_type": "execute_result",
          "data": {
            "text/plain": [
              "0.2996635625809256"
            ]
          },
          "metadata": {},
          "execution_count": 378
        }
      ]
    },
    {
      "cell_type": "code",
      "source": [
        "sns.boxplot(data = dfOrganics, y = 'load_weight')"
      ],
      "metadata": {
        "colab": {
          "base_uri": "https://localhost:8080/"
        },
        "id": "ZspsytxyWeP1",
        "outputId": "251cf762-de0c-425c-af8d-e024a19fdd6a"
      },
      "execution_count": null,
      "outputs": [
        {
          "output_type": "execute_result",
          "data": {
            "text/plain": [
              "<matplotlib.axes._subplots.AxesSubplot at 0x7f55c60d9d30>"
            ]
          },
          "metadata": {},
          "execution_count": 379
        },
        {
          "output_type": "display_data",
          "data": {
            "text/plain": [
              "<Figure size 432x288 with 1 Axes>"
            ],
            "image/png": "[encoded data removed]"
          },
          "metadata": {
            "needs_background": "light"
          }
        }
      ]
    },
    {
      "cell_type": "markdown",
      "source": [
        "- Nilai Percentile dan Quartile dari `ORGANICS BY GOSH`"
      ],
      "metadata": {
        "id": "4Wr6SGZeWpPl"
      }
    },
    {
      "cell_type": "code",
      "source": [
        "# Define Function Percentile & Quartile\n",
        "\n",
        "quartOrg = percentile(dfOrganics['load_weight'], [25, 50, 75])\n",
        "orgMin, orgMax = dfOrganics['load_weight'].min(), dfOrganics['load_weight'].max()\n",
        "\n",
        "Q0 = quartOrg[0]\n",
        "Q1 = quartOrg[1]\n",
        "Q2 = quartOrg[2]\n",
        "\n",
        "# Print Value\n",
        "\n",
        "print('Nilai Minimal dfOrganics : ', balcMin)\n",
        "print('Quartile ke 0 dari dfOrganics : ', Q0)\n",
        "print('Quartile ke 1 dari dfOrganics : ', Q1)\n",
        "print('Quartile ke 2 dari dfOrganics : ', Q2)\n",
        "print('Nilai Maximal dfOrganics : ', balcMax)"
      ],
      "metadata": {
        "colab": {
          "base_uri": "https://localhost:8080/"
        },
        "id": "OehaVkdcWwb5",
        "outputId": "8f1eb6e1-aadc-49ff-ec37-0769ef0b2905"
      },
      "execution_count": null,
      "outputs": [
        {
          "output_type": "stream",
          "name": "stdout",
          "text": [
            "Nilai Minimal dfOrganics :  140.0\n",
            "Quartile ke 0 dari dfOrganics :  8260.0\n",
            "Quartile ke 1 dari dfOrganics :  11040.0\n",
            "Quartile ke 2 dari dfOrganics :  17440.0\n",
            "Nilai Maximal dfOrganics :  25780.0\n"
          ]
        }
      ]
    },
    {
      "cell_type": "markdown",
      "source": [
        "# Problem 1.7 : Interval Confidence\n",
        "\n",
        "---\n",
        "\n"
      ],
      "metadata": {
        "id": "WXtrTv2IZrhq"
      }
    },
    {
      "cell_type": "code",
      "source": [
        "# Fungsi Interval Confidence antara dfBalcones & dfOrganics\n",
        "\n",
        "ci = stats.norm.interval(0.95, dfBalcones['load_weight'].mean(), dfOrganics['load_weight'].std())\n",
        "\n",
        "# print fungsi\n",
        "\n",
        "print('Interval Confident C0 : ', ci[0])\n",
        "print('Interval Confident C1 : ', ci[1])"
      ],
      "metadata": {
        "colab": {
          "base_uri": "https://localhost:8080/"
        },
        "id": "ZDu6xDCVn_6H",
        "outputId": "9ac92060-bf03-4592-f505-9f0b6775c87b"
      },
      "execution_count": null,
      "outputs": [
        {
          "output_type": "stream",
          "name": "stdout",
          "text": [
            "Interval Confident C0 :  -3184.743512439727\n",
            "Interval Confident C1 :  22114.04765630212\n"
          ]
        }
      ]
    },
    {
      "cell_type": "markdown",
      "source": [
        "# Problem 1.8 : Analisa Uji Hipotesis\n",
        "\n",
        "---\n",
        "\n"
      ],
      "metadata": {
        "id": "rC348BagZzrd"
      }
    },
    {
      "cell_type": "markdown",
      "source": [
        "Berikut Hipotesis Awal pengujian"
      ],
      "metadata": {
        "id": "42NQRfTar4Ko"
      }
    },
    {
      "cell_type": "markdown",
      "source": [
        "- H0 : μ `BALCONES RECYCLING` `load_weight` = μ `ORGANICS BY GOSH` `load_weight`\n",
        "- H1 : μ `BALCONES RECYCLING` `load_weight` != μ `ORGANICS BY GOSH` `load_weight`"
      ],
      "metadata": {
        "id": "Oj2r9jEuaAtV"
      }
    },
    {
      "cell_type": "markdown",
      "source": [
        "- setelah kita menganilsa dan membandingkan 2 site yaitu `BALCONES RECYCLING` dengan `ORGANICS BY GOSH`, maka kita akan menggunakan t-test untuk Analisa Uji Hipotesis"
      ],
      "metadata": {
        "id": "yDJC4_I9anEQ"
      }
    },
    {
      "cell_type": "code",
      "source": [
        "# Define Function tTest & pValue\n",
        "\n",
        "t_stat, p_value = stats.ttest_ind(dfBalcones['load_weight'], dfOrganics['load_weight'])\n",
        "\n",
        "# Print Value\n",
        "\n",
        "print('Hasil T-Test : ', t_stat)\n",
        "print('Hasil P_Value : ', p_value)"
      ],
      "metadata": {
        "colab": {
          "base_uri": "https://localhost:8080/"
        },
        "id": "YsWTxtHUZ7rE",
        "outputId": "70621c97-f1b1-4e25-f5f9-3141e9376070"
      },
      "execution_count": null,
      "outputs": [
        {
          "output_type": "stream",
          "name": "stdout",
          "text": [
            "Hasil T-Test :  -1.773048272681914\n",
            "Hasil P_Value :  0.07629996166984572\n"
          ]
        }
      ]
    },
    {
      "cell_type": "code",
      "source": [
        "# Random Sampel Populasi Limbah\n",
        "balconesPop = np.random.normal(dfBalcones['load_weight'].mean(), dfBalcones['load_weight'].std(), 10000)\n",
        "organicsPop = np.random.normal(dfOrganics['load_weight'].mean(), dfOrganics['load_weight'].std(), 10000)\n",
        "\n",
        "# Interval Confident\n",
        "ci = stats.norm.interval(0.95, dfBalcones['load_weight'].mean(), dfOrganics['load_weight'].std())\n",
        "\n",
        "plt.figure(figsize=(16,5))\n",
        "sns.histplot(balconesPop, label='BALCONES RECYCLING Population', color='red')\n",
        "sns.histplot(organicsPop, label='ORGANICS BY GOSH Population', color='yellow')\n",
        "\n",
        "# Mean Value\n",
        "plt.axvline(dfBalcones['load_weight'].mean(), color='green', linewidth=3, label='BALCONES RECYCLING load_weight')\n",
        "plt.axvline(dfOrganics['load_weight'].mean(), color='blue', linewidth=3, label='ORGANICS BY GOSH load_weight')\n",
        "\n",
        "plt.axvline(ci[1], color='magenta', linestyle='dashed', linewidth=3, label='Confident Treshold of 95%')\n",
        "plt.axvline(ci[0], color='magenta', linestyle='dashed', linewidth=3, label='Confident Treshold of 95%')\n",
        "\n",
        "# Alternative Hypothesis\n",
        "plt.axvline(balconesPop.mean() + t_stat * balconesPop.std(), color=\"black\", linestyle='dashed', linewidth=3, label='Alternative Hypothesis')\n",
        "plt.axvline(organicsPop.mean() - t_stat * organicsPop.std(), color=\"black\", linestyle='dashed', linewidth=3)\n",
        "\n",
        "# Ploting\n",
        "plt.legend()\n",
        "print('Interval Confident C0 : ', ci[0])\n",
        "print('Interval Confident C1 : ', ci[1])"
      ],
      "metadata": {
        "colab": {
          "base_uri": "https://localhost:8080/"
        },
        "id": "Yu85jPfrb4Rw",
        "outputId": "2905e833-1873-4c92-d545-ce897f95825c"
      },
      "execution_count": null,
      "outputs": [
        {
          "output_type": "stream",
          "name": "stdout",
          "text": [
            "Interval Confident C0 :  -3184.743512439727\n",
            "Interval Confident C1 :  22114.04765630212\n"
          ]
        },
        {
          "output_type": "display_data",
          "data": {
            "text/plain": [
              "<Figure size 1152x360 with 1 Axes>"
            ],
            "image/png": "[encoded data removed]"
          },
          "metadata": {
            "needs_background": "light"
          }
        }
      ]
    },
    {
      "cell_type": "markdown",
      "source": [
        "Note: Based on the above results, we can conclude that we failed to reject the null hypothesis that BALCONES RECYCLING and ORGANICS BY GOSH are not significantly different in handling recyclable waste. From each site for the processing of recycled type waste is almost the same amount, both from `RECYCLED - SINGLE STREAM` type waste and `RECYCLED - METAL` type waste."
      ],
      "metadata": {
        "id": "Rh6U0eE9g-tY"
      }
    },
    {
      "cell_type": "markdown",
      "source": [
        "# Question Mark - Problem 1\n",
        "\n",
        "---\n",
        "\n"
      ],
      "metadata": {
        "id": "qzbl4pq5hagV"
      }
    },
    {
      "cell_type": "markdown",
      "source": [
        "\n",
        "\n",
        "1.   Teknik apa yang kamu pilih untuk handling outlier? jelaskan alasannya!\n",
        "  - Saya menggunakan teknik Z-Score untuk handling outlier dari data yang berdistribusi normal\n",
        "2. Apa konsep dibalik confidence interval sehingga kita dapat menggunakannya untuk menyelesaikan langkah pada nomor 7?\n",
        "  - Konsep Interval Confidence digunakan untuk mengetahui seakurat mungkin range data yang digunakan untuk masing-masing `dropoff_site`.  Biasanya kita menggunakan persentase senilai 95% karena kita menggunakan Hypothesis Awal Two Sample Two Tail, agar rata-rata data yang didapatkan tidak berbeda jauh dari batas atas dan batas bawah data\n",
        "3. Jelaskan jenis uji hipotesis apa yang kamu terapkan dan mengapa?\n",
        "  - Saya menggunakan Hypothesis Two Sampel Two Tail (2S2T) karena saya ingin mengetahui apakah Jenis sampah yang bertipe daur ulang yang diproses di kedua `dropoff_site` sama banyaknya, dan ternyata hasil dari Hypothesis menunjukan bahwa tidak terlalu banyak perbedaan jenis sampah bertipe daur ulang yang diproses dikedua site, sehingga disimpulkan kita tidak dapat menolah Hypothesis nol\n",
        "\n"
      ],
      "metadata": {
        "id": "zMyj8adkh5Mo"
      }
    },
    {
      "cell_type": "markdown",
      "source": [
        "# Problem 2 - Math/Calculus\n",
        "\n",
        "---\n",
        "\n"
      ],
      "metadata": {
        "id": "3RnsH6xTioPV"
      }
    },
    {
      "cell_type": "markdown",
      "source": [
        "Kita sudah punya formula untuk memprediksi sampah ditanggal 10-07-2021\n",
        "\n",
        "---\n",
        "Formulanya\n",
        "\n",
        "**W`(tomorrow)` = W`today` + V * delta t**\n",
        "\n",
        "\n",
        "---\n",
        "\n",
        "\n",
        "\n"
      ],
      "metadata": {
        "id": "A50WlOz3sN29"
      }
    },
    {
      "cell_type": "code",
      "source": [
        "# Grouping data base on date\n",
        "\n",
        "dfPredict = dfCopy.groupby('date')['load_weight'].sum().to_frame()\n",
        "dfPredict"
      ],
      "metadata": {
        "colab": {
          "base_uri": "https://localhost:8080/"
        },
        "id": "8D-04Ueksq9o",
        "outputId": "3eab1d0b-e794-44c9-a832-6c94477507b8"
      },
      "execution_count": null,
      "outputs": [
        {
          "output_type": "execute_result",
          "data": {
            "text/plain": [
              "             load_weight\n",
              "date                    \n",
              "2021-01-01  4.890855e+04\n",
              "2021-01-02  2.206811e+06\n",
              "2021-01-04  2.920260e+06\n",
              "2021-01-05  2.400767e+06\n",
              "2021-01-06  2.457686e+06\n",
              "...                  ...\n",
              "2021-07-05  1.897290e+06\n",
              "2021-07-06  1.995003e+06\n",
              "2021-07-07  1.663124e+06\n",
              "2021-07-08  1.552148e+06\n",
              "2021-07-09  1.814757e+05\n",
              "\n",
              "[166 rows x 1 columns]"
            ],
            "text/html": [
              "\n",
              "  <div id=\"df-25b36c42-5986-4a55-8992-ce2a54d15fd0\">\n",
              "    <div class=\"colab-df-container\">\n",
              "      <div>\n",
              "<style scoped>\n",
              "    .dataframe tbody tr th:only-of-type {\n",
              "        vertical-align: middle;\n",
              "    }\n",
              "\n",
              "    .dataframe tbody tr th {\n",
              "        vertical-align: top;\n",
              "    }\n",
              "\n",
              "    .dataframe thead th {\n",
              "        text-align: right;\n",
              "    }\n",
              "</style>\n",
              "<table border=\"1\" class=\"dataframe\">\n",
              "  <thead>\n",
              "    <tr style=\"text-align: right;\">\n",
              "      <th></th>\n",
              "      <th>load_weight</th>\n",
              "    </tr>\n",
              "    <tr>\n",
              "      <th>date</th>\n",
              "      <th></th>\n",
              "    </tr>\n",
              "  </thead>\n",
              "  <tbody>\n",
              "    <tr>\n",
              "      <th>2021-01-01</th>\n",
              "      <td>4.890855e+04</td>\n",
              "    </tr>\n",
              "    <tr>\n",
              "      <th>2021-01-02</th>\n",
              "      <td>2.206811e+06</td>\n",
              "    </tr>\n",
              "    <tr>\n",
              "      <th>2021-01-04</th>\n",
              "      <td>2.920260e+06</td>\n",
              "    </tr>\n",
              "    <tr>\n",
              "      <th>2021-01-05</th>\n",
              "      <td>2.400767e+06</td>\n",
              "    </tr>\n",
              "    <tr>\n",
              "      <th>2021-01-06</th>\n",
              "      <td>2.457686e+06</td>\n",
              "    </tr>\n",
              "    <tr>\n",
              "      <th>...</th>\n",
              "      <td>...</td>\n",
              "    </tr>\n",
              "    <tr>\n",
              "      <th>2021-07-05</th>\n",
              "      <td>1.897290e+06</td>\n",
              "    </tr>\n",
              "    <tr>\n",
              "      <th>2021-07-06</th>\n",
              "      <td>1.995003e+06</td>\n",
              "    </tr>\n",
              "    <tr>\n",
              "      <th>2021-07-07</th>\n",
              "      <td>1.663124e+06</td>\n",
              "    </tr>\n",
              "    <tr>\n",
              "      <th>2021-07-08</th>\n",
              "      <td>1.552148e+06</td>\n",
              "    </tr>\n",
              "    <tr>\n",
              "      <th>2021-07-09</th>\n",
              "      <td>1.814757e+05</td>\n",
              "    </tr>\n",
              "  </tbody>\n",
              "</table>\n",
              "<p>166 rows × 1 columns</p>\n",
              "</div>\n",
              "      <button class=\"colab-df-convert\" onclick=\"convertToInteractive('df-25b36c42-5986-4a55-8992-ce2a54d15fd0')\"\n",
              "              title=\"Convert this dataframe to an interactive table.\"\n",
              "              style=\"display:none;\">\n",
              "        \n",
              "  <svg xmlns=\"http://www.w3.org/2000/svg\" height=\"24px\"viewBox=\"0 0 24 24\"\n",
              "       width=\"24px\">\n",
              "    <path d=\"M0 0h24v24H0V0z\" fill=\"none\"/>\n",
              "    <path d=\"M18.56 5.44l.94 2.06.94-2.06 2.06-.94-2.06-.94-.94-2.06-.94 2.06-2.06.94zm-11 1L8.5 8.5l.94-2.06 2.06-.94-2.06-.94L8.5 2.5l-.94 2.06-2.06.94zm10 10l.94 2.06.94-2.06 2.06-.94-2.06-.94-.94-2.06-.94 2.06-2.06.94z\"/><path d=\"M17.41 7.96l-1.37-1.37c-.4-.4-.92-.59-1.43-.59-.52 0-1.04.2-1.43.59L10.3 9.45l-7.72 7.72c-.78.78-.78 2.05 0 2.83L4 21.41c.39.39.9.59 1.41.59.51 0 1.02-.2 1.41-.59l7.78-7.78 2.81-2.81c.8-.78.8-2.07 0-2.86zM5.41 20L4 18.59l7.72-7.72 1.47 1.35L5.41 20z\"/>\n",
              "  </svg>\n",
              "      </button>\n",
              "      \n",
              "  <style>\n",
              "    .colab-df-container {\n",
              "      display:flex;\n",
              "      flex-wrap:wrap;\n",
              "      gap: 12px;\n",
              "    }\n",
              "\n",
              "    .colab-df-convert {\n",
              "      background-color: #E8F0FE;\n",
              "      border: none;\n",
              "      border-radius: 50%;\n",
              "      cursor: pointer;\n",
              "      display: none;\n",
              "      fill: #1967D2;\n",
              "      height: 32px;\n",
              "      padding: 0 0 0 0;\n",
              "      width: 32px;\n",
              "    }\n",
              "\n",
              "    .colab-df-convert:hover {\n",
              "      background-color: #E2EBFA;\n",
              "      box-shadow: 0px 1px 2px rgba(60, 64, 67, 0.3), 0px 1px 3px 1px rgba(60, 64, 67, 0.15);\n",
              "      fill: #174EA6;\n",
              "    }\n",
              "\n",
              "    [theme=dark] .colab-df-convert {\n",
              "      background-color: #3B4455;\n",
              "      fill: #D2E3FC;\n",
              "    }\n",
              "\n",
              "    [theme=dark] .colab-df-convert:hover {\n",
              "      background-color: #434B5C;\n",
              "      box-shadow: 0px 1px 3px 1px rgba(0, 0, 0, 0.15);\n",
              "      filter: drop-shadow(0px 1px 2px rgba(0, 0, 0, 0.3));\n",
              "      fill: #FFFFFF;\n",
              "    }\n",
              "  </style>\n",
              "\n",
              "      <script>\n",
              "        const buttonEl =\n",
              "          document.querySelector('#df-25b36c42-5986-4a55-8992-ce2a54d15fd0 button.colab-df-convert');\n",
              "        buttonEl.style.display =\n",
              "          google.colab.kernel.accessAllowed ? 'block' : 'none';\n",
              "\n",
              "        async function convertToInteractive(key) {\n",
              "          const element = document.querySelector('#df-25b36c42-5986-4a55-8992-ce2a54d15fd0');\n",
              "          const dataTable =\n",
              "            await google.colab.kernel.invokeFunction('convertToInteractive',\n",
              "                                                     [key], {});\n",
              "          if (!dataTable) return;\n",
              "\n",
              "          const docLinkHtml = 'Like what you see? Visit the ' +\n",
              "            '<a target=\"_blank\" href=https://colab.research.google.com/notebooks/data_table.ipynb>data table notebook</a>'\n",
              "            + ' to learn more about interactive tables.';\n",
              "          element.innerHTML = '';\n",
              "          dataTable['output_type'] = 'display_data';\n",
              "          await google.colab.output.renderOutput(dataTable, element);\n",
              "          const docLink = document.createElement('div');\n",
              "          docLink.innerHTML = docLinkHtml;\n",
              "          element.appendChild(docLink);\n",
              "        }\n",
              "      </script>\n",
              "    </div>\n",
              "  </div>\n",
              "  "
            ]
          },
          "metadata": {},
          "execution_count": 384
        }
      ]
    },
    {
      "cell_type": "markdown",
      "source": [
        "note : ada 166 baris data berdasarkan `date` dan `load_weight`\n",
        "\n",
        "Now count the differential of our data and dividing with the differential of our data range"
      ],
      "metadata": {
        "id": "lkAVnECFtb7L"
      }
    },
    {
      "cell_type": "code",
      "source": [
        "# Hitung Selisih Data kemudian dibagi dengan panjang data\n",
        "# Define Function\n",
        "\n",
        "vData = np.diff(dfPredict['load_weight'])/np.diff(range(166))\n",
        "vData"
      ],
      "metadata": {
        "colab": {
          "base_uri": "https://localhost:8080/"
        },
        "id": "-uHcEBgetjOO",
        "outputId": "14f78c7d-915e-4026-f091-2bf5eeb1f4e0"
      },
      "execution_count": null,
      "outputs": [
        {
          "output_type": "execute_result",
          "data": {
            "text/plain": [
              "array([ 2.15790286e+06,  7.13448591e+05, -5.19492864e+05,  5.69185452e+04,\n",
              "        6.62342726e+04, -6.05607136e+05, -1.85349141e+06,  2.44401573e+06,\n",
              "       -4.22690000e+05,  6.80228178e+04,  6.20870905e+04, -3.89222818e+05,\n",
              "       -1.73103855e+06,  2.39456286e+06, -1.81800046e+05, -1.79943185e+04,\n",
              "       -9.08956815e+04, -3.23451409e+05, -1.64462855e+06,  2.33922427e+06,\n",
              "       -4.64654273e+05,  1.03752818e+05, -4.61408922e+02, -4.13344273e+05,\n",
              "       -1.74725714e+06,  2.40265859e+06, -3.60620000e+05, -5.02985911e+04,\n",
              "        1.16700000e+05, -3.35988591e+05, -1.75790427e+06, -4.94156815e+04,\n",
              "        2.65705855e+06, -3.84905773e+05,  1.00618499e+05, -1.50721418e+06,\n",
              "        1.02882432e+06, -1.87568141e+06,  1.05132000e+06,  2.66098000e+06,\n",
              "       -5.04400000e+05,  1.48152818e+05,  5.15028637e+04, -9.24291455e+05,\n",
              "       -2.21702855e+06, -4.52156815e+04,  2.95084000e+06, -2.95220000e+05,\n",
              "       -8.62290954e+03,  1.01885452e+04, -3.54825000e+05, -2.24757782e+06,\n",
              "       -1.24182818e+05,  3.14426568e+06, -8.30958191e+04, -2.59805682e+05,\n",
              "       -4.70086369e+04, -4.21102772e+05, -2.14284141e+06,  2.49808637e+05,\n",
              "        2.43821559e+06, -3.57641317e+05, -1.71731455e+05,  5.12628637e+04,\n",
              "       -4.32217136e+05, -1.92788000e+06,  1.12831455e+05,  2.63209012e+06,\n",
              "       -3.11330009e+05,  9.15012925e+04,  1.36000000e+03, -3.55705727e+05,\n",
              "       -1.78233200e+06, -3.60603682e+05,  2.74096714e+06, -1.81847136e+05,\n",
              "       -3.83104318e+05,  1.79787136e+05, -6.69722864e+05, -1.86730427e+06,\n",
              "        2.16399995e+06,  2.06231501e+05, -2.40318591e+05,  8.62294089e+04,\n",
              "       -2.45628000e+05, -1.88548141e+06,  2.55162286e+06, -1.01114089e+04,\n",
              "       -9.84443185e+04, -1.22322864e+05, -3.93670000e+05, -1.74380714e+06,\n",
              "       -3.37195682e+05,  2.70263000e+06, -3.44430000e+05,  6.03628178e+04,\n",
              "       -9.40514548e+04, -3.93728545e+05, -1.59332141e+06,  2.18778373e+06,\n",
              "       -1.60422318e+05,  1.39221409e+05, -3.05721409e+05, -2.76712864e+05,\n",
              "       -1.71019427e+06,  2.39384145e+06, -3.30897136e+05,  1.49251409e+05,\n",
              "       -1.18295727e+05, -1.72268591e+05, -1.80249141e+06,  2.26375145e+06,\n",
              "       -1.93160046e+05,  7.34599542e+04, -2.82427261e+03, -4.03575727e+05,\n",
              "       -1.87351709e+06,  2.55128000e+06, -3.56484318e+05, -3.30000000e+03,\n",
              "       -1.66795727e+05, -3.64002818e+05, -1.79303141e+06,  2.32110900e+06,\n",
              "       -1.07364727e+05,  1.79951227e+05, -4.81440905e+04, -5.73040000e+05,\n",
              "       -1.79002568e+06, -4.52214089e+04,  2.60093000e+06, -1.80821455e+05,\n",
              "        1.21718545e+05, -1.39500000e+04, -4.08885727e+05, -1.80743568e+06,\n",
              "        2.54704714e+06, -3.60104273e+05, -1.33426115e+04, -2.02980000e+01,\n",
              "       -4.70672864e+05, -1.76835423e+06,  2.46616427e+06, -4.83222864e+05,\n",
              "        7.33214089e+04,  1.93140892e+03, -4.52118545e+05, -1.72065427e+06,\n",
              "        2.52288286e+06, -4.67400000e+05,  9.82128178e+04, -6.06685911e+04,\n",
              "       -5.70234273e+05, -1.57719995e+06,  2.51464427e+06, -5.09027136e+05,\n",
              "        2.81140892e+03,  8.50000000e+02, -3.39450000e+05, -1.46738855e+06,\n",
              "        1.61568718e+06,  9.77128178e+04, -3.31878591e+05, -1.10975727e+05,\n",
              "       -1.37067282e+06])"
            ]
          },
          "metadata": {},
          "execution_count": 385
        }
      ]
    },
    {
      "cell_type": "code",
      "source": [
        "# Lakukan perhitungan untuk prediksi data\n",
        "# Define Function\n",
        "\n",
        "wTomorrow = dfPredict['load_weight'][-1] + vData[-1] * 1\n",
        "abs(wTomorrow)"
      ],
      "metadata": {
        "colab": {
          "base_uri": "https://localhost:8080/"
        },
        "id": "f8B-nXdLuICu",
        "outputId": "b7a2655d-e9b5-4e92-f9f0-c48ed095260e"
      },
      "execution_count": null,
      "outputs": [
        {
          "output_type": "execute_result",
          "data": {
            "text/plain": [
              "1189197.1363072763"
            ]
          },
          "metadata": {},
          "execution_count": 386
        }
      ]
    },
    {
      "cell_type": "markdown",
      "source": [
        "note : hasil prediksi total Volume sampah yang ada di tanggal 10-07-2021 sebanyak 1189197.1363072763"
      ],
      "metadata": {
        "id": "eXNJXBgsvBVf"
      }
    },
    {
      "cell_type": "markdown",
      "source": [
        "# Question Mark - Problem 2\n",
        "\n",
        "---\n",
        "\n"
      ],
      "metadata": {
        "id": "kb-Xfd9Pvz0I"
      }
    },
    {
      "cell_type": "markdown",
      "source": [
        "\n",
        "\n",
        "1.   Untuk menghitung turunan pertama dapat digunakan metode simbolik dan numerik, untuk kasus ini, teknik apa yang kamu gunakan?\n",
        "  - Saya menggunakan rumus fungsi yang telah disediakan oleh library numpy yaitu `.diff()`\n",
        "2. Apakah kamu membutuhkan fungsi matematis untuk menghitung turunannya? (ya/tidak) berikan alasanmu!\n",
        "  - Ya, karena fungsi matematis dapat mempercepat proses perhitungan sebuah masalah, dalam kasus ini untuk prediksi total volume sampah di tanggal 10-07-2021\n",
        "3. Berapa load weight yang kamu perkirakan di hari esok (10 Juli 2021)?\n",
        "  - Total `load_weight` di tanggal 10-07-2021 = 1189197.1363072763\n",
        "\n"
      ],
      "metadata": {
        "id": "k4T68SxJv5aW"
      }
    },
    {
      "cell_type": "markdown",
      "source": [
        "# Conclusion\n",
        "\n",
        "\n",
        "---\n",
        "\n"
      ],
      "metadata": {
        "id": "keZPm3h7xMO6"
      }
    },
    {
      "cell_type": "code",
      "source": [
        "# Function to Check Total Volume of Waste\n",
        "\n",
        "volAll = dfCopy['load_weight'].sum()\n",
        "\n",
        "# Function to Check Total Volume of load_type == 'RECYCLING - SINGLE STREAM'\n",
        "\n",
        "volRecycle = dfRecycle['load_weight'].sum()\n",
        "\n",
        "# Function to Check Total Volume of load_type == 'RECYCLED METAL'\n",
        "\n",
        "volMetal = dfMetal['load_weight'].sum()\n",
        "\n",
        "# Function to Check total Recycled - Waste\n",
        "\n",
        "volRecMet = volMetal + volRecycle\n",
        "\n",
        "# Function to Check the percentage of Recycled Waste\n",
        "\n",
        "percentWaste = (volRecycle + volMetal) / volAll * 100\n",
        "\n",
        "# Print Value\n",
        "\n",
        "print('Total Volume of Waste : ', volAll.round(decimals = 2))\n",
        "print('Total Volume of RECYCLING - SINGLE STREAM : ', volRecycle)\n",
        "print('Total Volume of RECYCLING METAL : ', volMetal)\n",
        "print('Volume total of Recycle - Waste : ', volRecMet)\n",
        "print('Percentage : ', percentWaste.round(decimals=2), '%')"
      ],
      "metadata": {
        "colab": {
          "base_uri": "https://localhost:8080/"
        },
        "id": "4hbhElyvKFaN",
        "outputId": "bc760064-5ffe-46ad-c15e-3a7a21328873"
      },
      "execution_count": null,
      "outputs": [
        {
          "output_type": "stream",
          "name": "stdout",
          "text": [
            "Total Volume of Waste :  319825204.39\n",
            "Total Volume of RECYCLING - SINGLE STREAM :  64954430.0\n",
            "Total Volume of RECYCLING METAL :  85670.0\n",
            "Volume total of Recycle - Waste :  65040100.0\n",
            "Percentage :  20.34 %\n"
          ]
        }
      ]
    },
    {
      "cell_type": "markdown",
      "source": [
        "\n",
        "1.   The total volume of waste in the city of Austin as of 09-07-2021 was 319,825,204.39 with recycled type waste, be it `RECYCLING - SINGLE STREAM` or `RECYCLED METAL` as much as 65,040,100 or about 20.34% of the total waste. Making it the second largest type of waste. The Austin city government may be able to add `dropoff_sites` to process this recyclable waste so that this type of waste can be reused by the people of Austin. \n",
        "2.   We see that the distribution of waste data in the city of Austin has been well implemented with the normal distribution weights. If the waste data is not well distributed, then I hope the Austin city government can be more specific to manage the waste distribution data in the city of Austin so that the government can know how to handle each type of waste."
      ],
      "metadata": {
        "id": "MUXr27DcKBY5"
      }
    }
  ]
}