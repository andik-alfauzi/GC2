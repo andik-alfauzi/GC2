{
  "nbformat": 4,
  "nbformat_minor": 0,
  "metadata": {
    "colab": {
      "provenance": [],
      "toc_visible": true
    },
    "kernelspec": {
      "name": "python3",
      "display_name": "Python 3"
    },
    "language_info": {
      "name": "python"
    }
  },
  "cells": [
    {
      "cell_type": "markdown",
      "source": [
        "# Graded Challenge 2"
      ],
      "metadata": {
        "id": "pzxWqcPFl9mY"
      }
    },
    {
      "cell_type": "markdown",
      "source": [
        "- Andik Al Fauzi - FTDS-RMT-018"
      ],
      "metadata": {
        "id": "Mryr9g85mHMb"
      }
    },
    {
      "cell_type": "markdown",
      "source": [
        "# SQL Query to get data from Big Query"
      ],
      "metadata": {
        "id": "BHGFl3Ca-HsN"
      }
    },
    {
      "cell_type": "code",
      "execution_count": 82,
      "metadata": {
        "id": "wmXXdvKu-DLS"
      },
      "outputs": [],
      "source": [
        "# Load Data from Google Big Query\n",
        "\n",
        "# SELECT report_date,load_time, load_type, load_weight, dropoff_site FROM bigquery-public-data.austin_waste.waste_and_diversion\n",
        "# WHERE report_date BETWEEN '2021-01-01' AND '2021-12-31'"
      ]
    },
    {
      "cell_type": "markdown",
      "source": [
        "# Data Preparation"
      ],
      "metadata": {
        "id": "NtmPC6VDrS4m"
      }
    },
    {
      "cell_type": "code",
      "source": [
        "# Install Library Matplotlib\n",
        "\n",
        "!pip install matplotlib"
      ],
      "metadata": {
        "colab": {
          "base_uri": "https://localhost:8080/"
        },
        "id": "cB0byw96hpsf",
        "outputId": "93f514d8-4dbf-4ad9-e14b-6d711a6b7dc6"
      },
      "execution_count": 2,
      "outputs": [
        {
          "output_type": "stream",
          "name": "stdout",
          "text": [
            "Looking in indexes: https://pypi.org/simple, https://us-python.pkg.dev/colab-wheels/public/simple/\n",
            "Requirement already satisfied: matplotlib in /usr/local/lib/python3.8/dist-packages (3.2.2)\n",
            "Requirement already satisfied: python-dateutil>=2.1 in /usr/local/lib/python3.8/dist-packages (from matplotlib) (2.8.2)\n",
            "Requirement already satisfied: numpy>=1.11 in /usr/local/lib/python3.8/dist-packages (from matplotlib) (1.21.6)\n",
            "Requirement already satisfied: pyparsing!=2.0.4,!=2.1.2,!=2.1.6,>=2.0.1 in /usr/local/lib/python3.8/dist-packages (from matplotlib) (3.0.9)\n",
            "Requirement already satisfied: cycler>=0.10 in /usr/local/lib/python3.8/dist-packages (from matplotlib) (0.11.0)\n",
            "Requirement already satisfied: kiwisolver>=1.0.1 in /usr/local/lib/python3.8/dist-packages (from matplotlib) (1.4.4)\n",
            "Requirement already satisfied: six>=1.5 in /usr/local/lib/python3.8/dist-packages (from python-dateutil>=2.1->matplotlib) (1.15.0)\n"
          ]
        }
      ]
    },
    {
      "cell_type": "code",
      "source": [
        "# Importing Library\n",
        "\n",
        "import pandas as pd\n",
        "import numpy as np\n",
        "from numpy import percentile\n",
        "import matplotlib.pyplot as plt\n",
        "from scipy import stats\n",
        "import seaborn as sns\n",
        "import statistics"
      ],
      "metadata": {
        "id": "WU-hrkTj-Ona"
      },
      "execution_count": 83,
      "outputs": []
    },
    {
      "cell_type": "code",
      "source": [
        "# Load Data CSV\n",
        "\n",
        "df = pd.read_csv('/content/h8dsft_P0W2_Andik_Al_Fauzi.csv')"
      ],
      "metadata": {
        "id": "ZgIbhWm0FfIW"
      },
      "execution_count": 4,
      "outputs": []
    },
    {
      "cell_type": "code",
      "source": [
        "# Create a copy data\n",
        "# Reason : make sure the original data is untouchable\n",
        "\n",
        "dfCopy = df.copy()"
      ],
      "metadata": {
        "id": "Lc1NcYw6LGOW"
      },
      "execution_count": 5,
      "outputs": []
    },
    {
      "cell_type": "code",
      "source": [
        "# show 10 row of data\n",
        "\n",
        "dfCopy.head()"
      ],
      "metadata": {
        "colab": {
          "base_uri": "https://localhost:8080/",
          "height": 206
        },
        "id": "p4LsNULzFtVm",
        "outputId": "b2ee2a1e-9390-41cc-8590-73d1c118945f"
      },
      "execution_count": 6,
      "outputs": [
        {
          "output_type": "execute_result",
          "data": {
            "text/plain": [
              "  report_date                       load_time load_type  load_weight  \\\n",
              "0  2021-07-08  2021-07-08 12:00:00.000000 UTC     TIRES       2260.0   \n",
              "1  2021-07-08  2021-07-08 11:00:00.000000 UTC     TIRES       1260.0   \n",
              "2  2021-07-08  2021-07-08 03:00:00.000000 UTC     TIRES        800.0   \n",
              "3  2021-05-01  2021-05-01 12:29:00.000000 UTC     TIRES        760.0   \n",
              "4  2021-07-03  2021-07-03 12:09:00.000000 UTC     TIRES       1400.0   \n",
              "\n",
              "  dropoff_site  \n",
              "0          MRF  \n",
              "1          MRF  \n",
              "2          MRF  \n",
              "3          MRF  \n",
              "4          MRF  "
            ],
            "text/html": [
              "\n",
              "  <div id=\"df-143f4150-583e-486b-97fd-854d1225c068\">\n",
              "    <div class=\"colab-df-container\">\n",
              "      <div>\n",
              "<style scoped>\n",
              "    .dataframe tbody tr th:only-of-type {\n",
              "        vertical-align: middle;\n",
              "    }\n",
              "\n",
              "    .dataframe tbody tr th {\n",
              "        vertical-align: top;\n",
              "    }\n",
              "\n",
              "    .dataframe thead th {\n",
              "        text-align: right;\n",
              "    }\n",
              "</style>\n",
              "<table border=\"1\" class=\"dataframe\">\n",
              "  <thead>\n",
              "    <tr style=\"text-align: right;\">\n",
              "      <th></th>\n",
              "      <th>report_date</th>\n",
              "      <th>load_time</th>\n",
              "      <th>load_type</th>\n",
              "      <th>load_weight</th>\n",
              "      <th>dropoff_site</th>\n",
              "    </tr>\n",
              "  </thead>\n",
              "  <tbody>\n",
              "    <tr>\n",
              "      <th>0</th>\n",
              "      <td>2021-07-08</td>\n",
              "      <td>2021-07-08 12:00:00.000000 UTC</td>\n",
              "      <td>TIRES</td>\n",
              "      <td>2260.0</td>\n",
              "      <td>MRF</td>\n",
              "    </tr>\n",
              "    <tr>\n",
              "      <th>1</th>\n",
              "      <td>2021-07-08</td>\n",
              "      <td>2021-07-08 11:00:00.000000 UTC</td>\n",
              "      <td>TIRES</td>\n",
              "      <td>1260.0</td>\n",
              "      <td>MRF</td>\n",
              "    </tr>\n",
              "    <tr>\n",
              "      <th>2</th>\n",
              "      <td>2021-07-08</td>\n",
              "      <td>2021-07-08 03:00:00.000000 UTC</td>\n",
              "      <td>TIRES</td>\n",
              "      <td>800.0</td>\n",
              "      <td>MRF</td>\n",
              "    </tr>\n",
              "    <tr>\n",
              "      <th>3</th>\n",
              "      <td>2021-05-01</td>\n",
              "      <td>2021-05-01 12:29:00.000000 UTC</td>\n",
              "      <td>TIRES</td>\n",
              "      <td>760.0</td>\n",
              "      <td>MRF</td>\n",
              "    </tr>\n",
              "    <tr>\n",
              "      <th>4</th>\n",
              "      <td>2021-07-03</td>\n",
              "      <td>2021-07-03 12:09:00.000000 UTC</td>\n",
              "      <td>TIRES</td>\n",
              "      <td>1400.0</td>\n",
              "      <td>MRF</td>\n",
              "    </tr>\n",
              "  </tbody>\n",
              "</table>\n",
              "</div>\n",
              "      <button class=\"colab-df-convert\" onclick=\"convertToInteractive('df-143f4150-583e-486b-97fd-854d1225c068')\"\n",
              "              title=\"Convert this dataframe to an interactive table.\"\n",
              "              style=\"display:none;\">\n",
              "        \n",
              "  <svg xmlns=\"http://www.w3.org/2000/svg\" height=\"24px\"viewBox=\"0 0 24 24\"\n",
              "       width=\"24px\">\n",
              "    <path d=\"M0 0h24v24H0V0z\" fill=\"none\"/>\n",
              "    <path d=\"M18.56 5.44l.94 2.06.94-2.06 2.06-.94-2.06-.94-.94-2.06-.94 2.06-2.06.94zm-11 1L8.5 8.5l.94-2.06 2.06-.94-2.06-.94L8.5 2.5l-.94 2.06-2.06.94zm10 10l.94 2.06.94-2.06 2.06-.94-2.06-.94-.94-2.06-.94 2.06-2.06.94z\"/><path d=\"M17.41 7.96l-1.37-1.37c-.4-.4-.92-.59-1.43-.59-.52 0-1.04.2-1.43.59L10.3 9.45l-7.72 7.72c-.78.78-.78 2.05 0 2.83L4 21.41c.39.39.9.59 1.41.59.51 0 1.02-.2 1.41-.59l7.78-7.78 2.81-2.81c.8-.78.8-2.07 0-2.86zM5.41 20L4 18.59l7.72-7.72 1.47 1.35L5.41 20z\"/>\n",
              "  </svg>\n",
              "      </button>\n",
              "      \n",
              "  <style>\n",
              "    .colab-df-container {\n",
              "      display:flex;\n",
              "      flex-wrap:wrap;\n",
              "      gap: 12px;\n",
              "    }\n",
              "\n",
              "    .colab-df-convert {\n",
              "      background-color: #E8F0FE;\n",
              "      border: none;\n",
              "      border-radius: 50%;\n",
              "      cursor: pointer;\n",
              "      display: none;\n",
              "      fill: #1967D2;\n",
              "      height: 32px;\n",
              "      padding: 0 0 0 0;\n",
              "      width: 32px;\n",
              "    }\n",
              "\n",
              "    .colab-df-convert:hover {\n",
              "      background-color: #E2EBFA;\n",
              "      box-shadow: 0px 1px 2px rgba(60, 64, 67, 0.3), 0px 1px 3px 1px rgba(60, 64, 67, 0.15);\n",
              "      fill: #174EA6;\n",
              "    }\n",
              "\n",
              "    [theme=dark] .colab-df-convert {\n",
              "      background-color: #3B4455;\n",
              "      fill: #D2E3FC;\n",
              "    }\n",
              "\n",
              "    [theme=dark] .colab-df-convert:hover {\n",
              "      background-color: #434B5C;\n",
              "      box-shadow: 0px 1px 3px 1px rgba(0, 0, 0, 0.15);\n",
              "      filter: drop-shadow(0px 1px 2px rgba(0, 0, 0, 0.3));\n",
              "      fill: #FFFFFF;\n",
              "    }\n",
              "  </style>\n",
              "\n",
              "      <script>\n",
              "        const buttonEl =\n",
              "          document.querySelector('#df-143f4150-583e-486b-97fd-854d1225c068 button.colab-df-convert');\n",
              "        buttonEl.style.display =\n",
              "          google.colab.kernel.accessAllowed ? 'block' : 'none';\n",
              "\n",
              "        async function convertToInteractive(key) {\n",
              "          const element = document.querySelector('#df-143f4150-583e-486b-97fd-854d1225c068');\n",
              "          const dataTable =\n",
              "            await google.colab.kernel.invokeFunction('convertToInteractive',\n",
              "                                                     [key], {});\n",
              "          if (!dataTable) return;\n",
              "\n",
              "          const docLinkHtml = 'Like what you see? Visit the ' +\n",
              "            '<a target=\"_blank\" href=https://colab.research.google.com/notebooks/data_table.ipynb>data table notebook</a>'\n",
              "            + ' to learn more about interactive tables.';\n",
              "          element.innerHTML = '';\n",
              "          dataTable['output_type'] = 'display_data';\n",
              "          await google.colab.output.renderOutput(dataTable, element);\n",
              "          const docLink = document.createElement('div');\n",
              "          docLink.innerHTML = docLinkHtml;\n",
              "          element.appendChild(docLink);\n",
              "        }\n",
              "      </script>\n",
              "    </div>\n",
              "  </div>\n",
              "  "
            ]
          },
          "metadata": {},
          "execution_count": 6
        }
      ]
    },
    {
      "cell_type": "code",
      "source": [
        "# Cek row & column data\n",
        "\n",
        "dfCopy.shape"
      ],
      "metadata": {
        "colab": {
          "base_uri": "https://localhost:8080/"
        },
        "id": "RV4EMjpNF5Ai",
        "outputId": "1c8133ef-944e-4d42-dba0-df0ebf6de7b5"
      },
      "execution_count": 7,
      "outputs": [
        {
          "output_type": "execute_result",
          "data": {
            "text/plain": [
              "(26157, 5)"
            ]
          },
          "metadata": {},
          "execution_count": 7
        }
      ]
    },
    {
      "cell_type": "code",
      "source": [
        "# Cek data \n",
        "\n",
        "dfCopy.describe()"
      ],
      "metadata": {
        "colab": {
          "base_uri": "https://localhost:8080/",
          "height": 300
        },
        "id": "KrLMymttIJRI",
        "outputId": "16b3c8ef-6d9c-477e-e7a3-155d1d8b98d3"
      },
      "execution_count": 8,
      "outputs": [
        {
          "output_type": "execute_result",
          "data": {
            "text/plain": [
              "         load_weight\n",
              "count   25109.000000\n",
              "mean    12227.136307\n",
              "std      7135.059565\n",
              "min         0.000000\n",
              "25%      7060.000000\n",
              "50%     11300.000000\n",
              "75%     16380.000000\n",
              "max    245540.000000"
            ],
            "text/html": [
              "\n",
              "  <div id=\"df-25cd55a5-9411-40d0-a0ad-99a109928a11\">\n",
              "    <div class=\"colab-df-container\">\n",
              "      <div>\n",
              "<style scoped>\n",
              "    .dataframe tbody tr th:only-of-type {\n",
              "        vertical-align: middle;\n",
              "    }\n",
              "\n",
              "    .dataframe tbody tr th {\n",
              "        vertical-align: top;\n",
              "    }\n",
              "\n",
              "    .dataframe thead th {\n",
              "        text-align: right;\n",
              "    }\n",
              "</style>\n",
              "<table border=\"1\" class=\"dataframe\">\n",
              "  <thead>\n",
              "    <tr style=\"text-align: right;\">\n",
              "      <th></th>\n",
              "      <th>load_weight</th>\n",
              "    </tr>\n",
              "  </thead>\n",
              "  <tbody>\n",
              "    <tr>\n",
              "      <th>count</th>\n",
              "      <td>25109.000000</td>\n",
              "    </tr>\n",
              "    <tr>\n",
              "      <th>mean</th>\n",
              "      <td>12227.136307</td>\n",
              "    </tr>\n",
              "    <tr>\n",
              "      <th>std</th>\n",
              "      <td>7135.059565</td>\n",
              "    </tr>\n",
              "    <tr>\n",
              "      <th>min</th>\n",
              "      <td>0.000000</td>\n",
              "    </tr>\n",
              "    <tr>\n",
              "      <th>25%</th>\n",
              "      <td>7060.000000</td>\n",
              "    </tr>\n",
              "    <tr>\n",
              "      <th>50%</th>\n",
              "      <td>11300.000000</td>\n",
              "    </tr>\n",
              "    <tr>\n",
              "      <th>75%</th>\n",
              "      <td>16380.000000</td>\n",
              "    </tr>\n",
              "    <tr>\n",
              "      <th>max</th>\n",
              "      <td>245540.000000</td>\n",
              "    </tr>\n",
              "  </tbody>\n",
              "</table>\n",
              "</div>\n",
              "      <button class=\"colab-df-convert\" onclick=\"convertToInteractive('df-25cd55a5-9411-40d0-a0ad-99a109928a11')\"\n",
              "              title=\"Convert this dataframe to an interactive table.\"\n",
              "              style=\"display:none;\">\n",
              "        \n",
              "  <svg xmlns=\"http://www.w3.org/2000/svg\" height=\"24px\"viewBox=\"0 0 24 24\"\n",
              "       width=\"24px\">\n",
              "    <path d=\"M0 0h24v24H0V0z\" fill=\"none\"/>\n",
              "    <path d=\"M18.56 5.44l.94 2.06.94-2.06 2.06-.94-2.06-.94-.94-2.06-.94 2.06-2.06.94zm-11 1L8.5 8.5l.94-2.06 2.06-.94-2.06-.94L8.5 2.5l-.94 2.06-2.06.94zm10 10l.94 2.06.94-2.06 2.06-.94-2.06-.94-.94-2.06-.94 2.06-2.06.94z\"/><path d=\"M17.41 7.96l-1.37-1.37c-.4-.4-.92-.59-1.43-.59-.52 0-1.04.2-1.43.59L10.3 9.45l-7.72 7.72c-.78.78-.78 2.05 0 2.83L4 21.41c.39.39.9.59 1.41.59.51 0 1.02-.2 1.41-.59l7.78-7.78 2.81-2.81c.8-.78.8-2.07 0-2.86zM5.41 20L4 18.59l7.72-7.72 1.47 1.35L5.41 20z\"/>\n",
              "  </svg>\n",
              "      </button>\n",
              "      \n",
              "  <style>\n",
              "    .colab-df-container {\n",
              "      display:flex;\n",
              "      flex-wrap:wrap;\n",
              "      gap: 12px;\n",
              "    }\n",
              "\n",
              "    .colab-df-convert {\n",
              "      background-color: #E8F0FE;\n",
              "      border: none;\n",
              "      border-radius: 50%;\n",
              "      cursor: pointer;\n",
              "      display: none;\n",
              "      fill: #1967D2;\n",
              "      height: 32px;\n",
              "      padding: 0 0 0 0;\n",
              "      width: 32px;\n",
              "    }\n",
              "\n",
              "    .colab-df-convert:hover {\n",
              "      background-color: #E2EBFA;\n",
              "      box-shadow: 0px 1px 2px rgba(60, 64, 67, 0.3), 0px 1px 3px 1px rgba(60, 64, 67, 0.15);\n",
              "      fill: #174EA6;\n",
              "    }\n",
              "\n",
              "    [theme=dark] .colab-df-convert {\n",
              "      background-color: #3B4455;\n",
              "      fill: #D2E3FC;\n",
              "    }\n",
              "\n",
              "    [theme=dark] .colab-df-convert:hover {\n",
              "      background-color: #434B5C;\n",
              "      box-shadow: 0px 1px 3px 1px rgba(0, 0, 0, 0.15);\n",
              "      filter: drop-shadow(0px 1px 2px rgba(0, 0, 0, 0.3));\n",
              "      fill: #FFFFFF;\n",
              "    }\n",
              "  </style>\n",
              "\n",
              "      <script>\n",
              "        const buttonEl =\n",
              "          document.querySelector('#df-25cd55a5-9411-40d0-a0ad-99a109928a11 button.colab-df-convert');\n",
              "        buttonEl.style.display =\n",
              "          google.colab.kernel.accessAllowed ? 'block' : 'none';\n",
              "\n",
              "        async function convertToInteractive(key) {\n",
              "          const element = document.querySelector('#df-25cd55a5-9411-40d0-a0ad-99a109928a11');\n",
              "          const dataTable =\n",
              "            await google.colab.kernel.invokeFunction('convertToInteractive',\n",
              "                                                     [key], {});\n",
              "          if (!dataTable) return;\n",
              "\n",
              "          const docLinkHtml = 'Like what you see? Visit the ' +\n",
              "            '<a target=\"_blank\" href=https://colab.research.google.com/notebooks/data_table.ipynb>data table notebook</a>'\n",
              "            + ' to learn more about interactive tables.';\n",
              "          element.innerHTML = '';\n",
              "          dataTable['output_type'] = 'display_data';\n",
              "          await google.colab.output.renderOutput(dataTable, element);\n",
              "          const docLink = document.createElement('div');\n",
              "          docLink.innerHTML = docLinkHtml;\n",
              "          element.appendChild(docLink);\n",
              "        }\n",
              "      </script>\n",
              "    </div>\n",
              "  </div>\n",
              "  "
            ]
          },
          "metadata": {},
          "execution_count": 8
        }
      ]
    },
    {
      "cell_type": "code",
      "source": [
        "# Cek data type\n",
        "\n",
        "dfCopy.info()"
      ],
      "metadata": {
        "colab": {
          "base_uri": "https://localhost:8080/"
        },
        "id": "hVSAq2JiF8E9",
        "outputId": "2467e134-6a4b-4c25-9c90-1b2a1d6cbd77"
      },
      "execution_count": 9,
      "outputs": [
        {
          "output_type": "stream",
          "name": "stdout",
          "text": [
            "<class 'pandas.core.frame.DataFrame'>\n",
            "RangeIndex: 26157 entries, 0 to 26156\n",
            "Data columns (total 5 columns):\n",
            " #   Column        Non-Null Count  Dtype  \n",
            "---  ------        --------------  -----  \n",
            " 0   report_date   26157 non-null  object \n",
            " 1   load_time     26157 non-null  object \n",
            " 2   load_type     26157 non-null  object \n",
            " 3   load_weight   25109 non-null  float64\n",
            " 4   dropoff_site  26157 non-null  object \n",
            "dtypes: float64(1), object(4)\n",
            "memory usage: 1021.9+ KB\n"
          ]
        }
      ]
    },
    {
      "cell_type": "code",
      "source": [
        "# Convert kolom report_date to datetime\n",
        "\n",
        "dfCopy['report_date'] = pd.to_datetime(dfCopy['report_date'])\n",
        "\n",
        "# Inserting new date format\n",
        "# reason : karena jika pakai kolom lama maka ada beberapa internal error jika dipanggil variable nya untuk kemudian di plot\n",
        "\n",
        "dfCopy['date'] = dfCopy['report_date'].dt.date\n",
        "\n",
        "# Convert kolom load_weight to float\n",
        "dfCopy['load_weight'] = dfCopy['load_weight'].astype(float)"
      ],
      "metadata": {
        "id": "CSYv6gQc4UU5"
      },
      "execution_count": 10,
      "outputs": []
    },
    {
      "cell_type": "code",
      "source": [
        "# Drop column load_time & report_time because it's unnecessary\n",
        "\n",
        "dfCopy.drop(['load_time'], axis=1, inplace=True)\n",
        "dfCopy.drop(['report_date'], axis=1, inplace=True)"
      ],
      "metadata": {
        "id": "zOg0s2XfFZPC"
      },
      "execution_count": 11,
      "outputs": []
    },
    {
      "cell_type": "code",
      "source": [
        "# Cek status convert & drop\n",
        "\n",
        "dfCopy.info()"
      ],
      "metadata": {
        "colab": {
          "base_uri": "https://localhost:8080/"
        },
        "id": "kw-Jzi5B46wJ",
        "outputId": "91b70043-4de6-4be8-cdfd-e618d01a35c5"
      },
      "execution_count": 12,
      "outputs": [
        {
          "output_type": "stream",
          "name": "stdout",
          "text": [
            "<class 'pandas.core.frame.DataFrame'>\n",
            "RangeIndex: 26157 entries, 0 to 26156\n",
            "Data columns (total 4 columns):\n",
            " #   Column        Non-Null Count  Dtype  \n",
            "---  ------        --------------  -----  \n",
            " 0   load_type     26157 non-null  object \n",
            " 1   load_weight   25109 non-null  float64\n",
            " 2   dropoff_site  26157 non-null  object \n",
            " 3   date          26157 non-null  object \n",
            "dtypes: float64(1), object(3)\n",
            "memory usage: 817.5+ KB\n"
          ]
        }
      ]
    },
    {
      "cell_type": "code",
      "source": [
        "# Cek maximal date from `report_date` column\n",
        "\n",
        "dfCopy['date'].max()"
      ],
      "metadata": {
        "colab": {
          "base_uri": "https://localhost:8080/"
        },
        "id": "Nq8LUluNGAHS",
        "outputId": "2a77be8d-8cf3-49f7-b85e-10c60dc11b02"
      },
      "execution_count": 13,
      "outputs": [
        {
          "output_type": "execute_result",
          "data": {
            "text/plain": [
              "datetime.date(2021, 7, 9)"
            ]
          },
          "metadata": {},
          "execution_count": 13
        }
      ]
    },
    {
      "cell_type": "markdown",
      "source": [
        "note : check the data whether it is in accordance with what is informed in the Assignment (max data on July 09, 2021)."
      ],
      "metadata": {
        "id": "5xKUqnn0jqjP"
      }
    },
    {
      "cell_type": "code",
      "source": [
        "# Cek total data null\n",
        "\n",
        "dfCopy.isnull().sum()"
      ],
      "metadata": {
        "colab": {
          "base_uri": "https://localhost:8080/"
        },
        "id": "b1WnRn8lLSAc",
        "outputId": "f62b8e23-425e-4796-cb77-c2ea6fd7b8b5"
      },
      "execution_count": 14,
      "outputs": [
        {
          "output_type": "execute_result",
          "data": {
            "text/plain": [
              "load_type          0\n",
              "load_weight     1048\n",
              "dropoff_site       0\n",
              "date               0\n",
              "dtype: int64"
            ]
          },
          "metadata": {},
          "execution_count": 14
        }
      ]
    },
    {
      "cell_type": "markdown",
      "source": [
        "Di dalam column `load_weight` terdapat 1048 baris missing value"
      ],
      "metadata": {
        "id": "Al62L9xasKoo"
      }
    },
    {
      "cell_type": "markdown",
      "source": [
        "# Problem 1.1 Handle Missing Value"
      ],
      "metadata": {
        "id": "l9jKbNKwfF0F"
      }
    },
    {
      "cell_type": "code",
      "source": [
        "# Insert Missing Value in load_weight with mean\n",
        "# Reason : Karena kemungkinan missing value tersebut dapat diisi dengan rata-rata sampah yang diangkut pada setiap sitenya\n",
        "\n",
        "dfCopy.fillna(dfCopy['load_weight'].mean(), inplace=True)"
      ],
      "metadata": {
        "id": "DDlKSuD4PV7i"
      },
      "execution_count": 15,
      "outputs": []
    },
    {
      "cell_type": "code",
      "source": [
        "# Cek data null yang sudah diinsert\n",
        "\n",
        "dfCopy.isnull().sum()"
      ],
      "metadata": {
        "colab": {
          "base_uri": "https://localhost:8080/"
        },
        "id": "YPTdq0DsPuYq",
        "outputId": "61c2fa47-87f4-4c76-e6ff-74410cd6dbe0"
      },
      "execution_count": 16,
      "outputs": [
        {
          "output_type": "execute_result",
          "data": {
            "text/plain": [
              "load_type       0\n",
              "load_weight     0\n",
              "dropoff_site    0\n",
              "date            0\n",
              "dtype: int64"
            ]
          },
          "metadata": {},
          "execution_count": 16
        }
      ]
    },
    {
      "cell_type": "markdown",
      "source": [
        "Note : replace data null sudah berhasil dengan memasukan nilai mean dari kolom `load_weight`"
      ],
      "metadata": {
        "id": "HsmMPFMgjWr2"
      }
    },
    {
      "cell_type": "markdown",
      "source": [
        "# Problem 1.2.1 : Melihat rentang waktu pengambilan data"
      ],
      "metadata": {
        "id": "pJ1a_4rDjI0W"
      }
    },
    {
      "cell_type": "code",
      "source": [
        "# Cek total data\n",
        "\n",
        "dfCopy['date'].max() - dfCopy['date'].min()"
      ],
      "metadata": {
        "colab": {
          "base_uri": "https://localhost:8080/"
        },
        "id": "kTdib4dofvro",
        "outputId": "73956b52-3488-48e1-8be4-99e4fa50cb84"
      },
      "execution_count": 17,
      "outputs": [
        {
          "output_type": "execute_result",
          "data": {
            "text/plain": [
              "datetime.timedelta(days=189)"
            ]
          },
          "metadata": {},
          "execution_count": 17
        }
      ]
    },
    {
      "cell_type": "markdown",
      "source": [
        "# Problem 1.2.2 : Ada apa saja tipe load sampah di kota Austin berdasarkan data"
      ],
      "metadata": {
        "id": "_dcWgNgj51i6"
      }
    },
    {
      "cell_type": "code",
      "source": [
        "# Cek Unique Data kolom load_type\n",
        "\n",
        "dfCopy.load_type.unique()"
      ],
      "metadata": {
        "colab": {
          "base_uri": "https://localhost:8080/"
        },
        "id": "4WLuwy1Lij71",
        "outputId": "666cd583-2131-4f16-f83a-bac36b5d6fcd"
      },
      "execution_count": 18,
      "outputs": [
        {
          "output_type": "execute_result",
          "data": {
            "text/plain": [
              "array(['TIRES', 'RECYCLING - SINGLE STREAM', 'SWEEPING', 'BRUSH',\n",
              "       'GARBAGE COLLECTIONS', 'YARD TRIMMING', 'BULK', 'ORGANICS',\n",
              "       'DEAD ANIMAL', 'MIXED LITTER', 'LITTER', 'RECYCLED METAL',\n",
              "       'CONTAMINATED RECYCLING', 'CONTAMINATED ORGANICS'], dtype=object)"
            ]
          },
          "metadata": {},
          "execution_count": 18
        }
      ]
    },
    {
      "cell_type": "code",
      "source": [
        "# Cek unique di kolom dropoff_site\n",
        "\n",
        "dfCopy.dropoff_site.unique()"
      ],
      "metadata": {
        "colab": {
          "base_uri": "https://localhost:8080/"
        },
        "id": "q8PBleOl5m3e",
        "outputId": "e1883851-7a31-4038-bebf-cf73efcc7d8c"
      },
      "execution_count": 19,
      "outputs": [
        {
          "output_type": "execute_result",
          "data": {
            "text/plain": [
              "array(['MRF', 'TDS - MRF', 'ONION CREEK', 'PARK CENTER', 'HORNSBY BEND',\n",
              "       'TDS LANDFILL', 'GREAT NORTHERN', 'ORGANICS BY GOSH',\n",
              "       'BALCONES RECYCLING', 'ON ROUTE HIGH DUMP',\n",
              "       'AUSTIN IRON AND METAL', 'PARK BEND', 'BALCONES WOODS',\n",
              "       'STEINER LANDFILL', 'WESTFIELD', 'ST. EDWARDS',\n",
              "       'AUSTIN WOOD RECYCLING', 'WILCAB'], dtype=object)"
            ]
          },
          "metadata": {},
          "execution_count": 19
        }
      ]
    },
    {
      "cell_type": "code",
      "source": [
        "# Cek Total Data di masing-masing load_type\n",
        "\n",
        "dfCopy['load_type'].value_counts()"
      ],
      "metadata": {
        "colab": {
          "base_uri": "https://localhost:8080/"
        },
        "id": "7vRXEiC3jdUX",
        "outputId": "89ebf000-124e-4677-d0b2-b613d1c12b1d"
      },
      "execution_count": 20,
      "outputs": [
        {
          "output_type": "execute_result",
          "data": {
            "text/plain": [
              "GARBAGE COLLECTIONS          8242\n",
              "RECYCLING - SINGLE STREAM    6760\n",
              "ORGANICS                     5763\n",
              "BULK                         1594\n",
              "BRUSH                        1517\n",
              "SWEEPING                     1390\n",
              "MIXED LITTER                  329\n",
              "TIRES                         175\n",
              "DEAD ANIMAL                   150\n",
              "YARD TRIMMING                 137\n",
              "RECYCLED METAL                 57\n",
              "LITTER                         41\n",
              "CONTAMINATED RECYCLING          1\n",
              "CONTAMINATED ORGANICS           1\n",
              "Name: load_type, dtype: int64"
            ]
          },
          "metadata": {},
          "execution_count": 20
        }
      ]
    },
    {
      "cell_type": "markdown",
      "source": [
        "Note : \n",
        "- ada 14 jenis sampah yang ada di lokasi pembuangan sampah di negara Austin dan yang paling banyak adalah sampah rumah tangga"
      ],
      "metadata": {
        "id": "lPjqNofT6e-_"
      }
    },
    {
      "cell_type": "markdown",
      "source": [
        "# Problem 1.2.3 : Mengetahui tempat pembuangan sampah ada dimana saja"
      ],
      "metadata": {
        "id": "6oPkj7VC6uEV"
      }
    },
    {
      "cell_type": "code",
      "source": [
        "# Cek Banyak data di masing-masing dropoff_site\n",
        "\n",
        "dfCopy['dropoff_site'].value_counts()"
      ],
      "metadata": {
        "colab": {
          "base_uri": "https://localhost:8080/"
        },
        "id": "ipBLIms56Pgl",
        "outputId": "f3bbd15f-a90c-4f55-d518-24f5f3342fb9"
      },
      "execution_count": 21,
      "outputs": [
        {
          "output_type": "execute_result",
          "data": {
            "text/plain": [
              "TDS LANDFILL             10694\n",
              "ORGANICS BY GOSH          5755\n",
              "BALCONES RECYCLING        3837\n",
              "TDS - MRF                 2948\n",
              "HORNSBY BEND              1655\n",
              "ONION CREEK                813\n",
              "MRF                        168\n",
              "ON ROUTE HIGH DUMP          81\n",
              "PARK CENTER                 75\n",
              "GREAT NORTHERN              70\n",
              "AUSTIN IRON AND METAL       50\n",
              "PARK BEND                    4\n",
              "AUSTIN WOOD RECYCLING        2\n",
              "BALCONES WOODS               1\n",
              "STEINER LANDFILL             1\n",
              "WESTFIELD                    1\n",
              "ST. EDWARDS                  1\n",
              "WILCAB                       1\n",
              "Name: dropoff_site, dtype: int64"
            ]
          },
          "metadata": {},
          "execution_count": 21
        }
      ]
    },
    {
      "cell_type": "markdown",
      "source": [
        "Kesimpulan : \n",
        "- ada 18 site sampah yang ada di lokasi pembuangan sampah di negara Austin"
      ],
      "metadata": {
        "id": "UBfSTciI6khC"
      }
    },
    {
      "cell_type": "markdown",
      "source": [
        "# Problem 1.3 : Central Tendency untuk Beginning Insight"
      ],
      "metadata": {
        "id": "uMxTmqSEa7dD"
      }
    },
    {
      "cell_type": "code",
      "source": [
        "# Cek data maximal di load_weight\n",
        "\n",
        "dfCopy['load_weight'].max()"
      ],
      "metadata": {
        "colab": {
          "base_uri": "https://localhost:8080/"
        },
        "id": "GicFSa-8zGaV",
        "outputId": "5a6ab226-539c-45ed-de01-db02a42c8a3a"
      },
      "execution_count": 22,
      "outputs": [
        {
          "output_type": "execute_result",
          "data": {
            "text/plain": [
              "245540.0"
            ]
          },
          "metadata": {},
          "execution_count": 22
        }
      ]
    },
    {
      "cell_type": "code",
      "source": [
        "# Cek data minimal di load_weight\n",
        "\n",
        "dfCopy['load_weight'].min()"
      ],
      "metadata": {
        "colab": {
          "base_uri": "https://localhost:8080/"
        },
        "id": "1j36ZYra1Bp-",
        "outputId": "9c385f65-0815-48a9-ab18-8b67f866dd8f"
      },
      "execution_count": 23,
      "outputs": [
        {
          "output_type": "execute_result",
          "data": {
            "text/plain": [
              "0.0"
            ]
          },
          "metadata": {},
          "execution_count": 23
        }
      ]
    },
    {
      "cell_type": "code",
      "source": [
        "# Nilai Mean kolom dropoff_site & load_weight\n",
        "\n",
        "dfCopy.groupby(dfCopy['dropoff_site'], sort=True)['load_weight'].mean()"
      ],
      "metadata": {
        "id": "44DB4h7Na3Qa",
        "colab": {
          "base_uri": "https://localhost:8080/"
        },
        "outputId": "357f86a3-15e6-4c43-a23d-3ba3b68f7178"
      },
      "execution_count": 24,
      "outputs": [
        {
          "output_type": "execute_result",
          "data": {
            "text/plain": [
              "dropoff_site\n",
              "AUSTIN IRON AND METAL      451.200000\n",
              "AUSTIN WOOD RECYCLING     4050.000000\n",
              "BALCONES RECYCLING        9464.652072\n",
              "BALCONES WOODS            8460.000000\n",
              "GREAT NORTHERN           12820.810338\n",
              "HORNSBY BEND              6638.792392\n",
              "MRF                       1799.982143\n",
              "ON ROUTE HIGH DUMP       12252.939342\n",
              "ONION CREEK              12227.136307\n",
              "ORGANICS BY GOSH         11819.476266\n",
              "PARK BEND                13385.000000\n",
              "PARK CENTER              12227.136307\n",
              "ST. EDWARDS              12227.136307\n",
              "STEINER LANDFILL           780.000000\n",
              "TDS - MRF                 9872.550882\n",
              "TDS LANDFILL             15168.581817\n",
              "WESTFIELD                16020.000000\n",
              "WILCAB                   12227.136307\n",
              "Name: load_weight, dtype: float64"
            ]
          },
          "metadata": {},
          "execution_count": 24
        }
      ]
    },
    {
      "cell_type": "markdown",
      "source": [
        "note : berikut adalah data mean di masing-masing tempat pembuangan sampah"
      ],
      "metadata": {
        "id": "0OpemH_oIfMs"
      }
    },
    {
      "cell_type": "code",
      "source": [
        "# Nilai Median kolom dropoff_site & load_weight\n",
        "\n",
        "dfCopy.groupby(dfCopy['dropoff_site'], sort=True)['load_weight'].median()"
      ],
      "metadata": {
        "colab": {
          "base_uri": "https://localhost:8080/"
        },
        "id": "ggujsmsByocM",
        "outputId": "2279715d-68e3-4d4b-a128-eef0f692ef2e"
      },
      "execution_count": 25,
      "outputs": [
        {
          "output_type": "execute_result",
          "data": {
            "text/plain": [
              "dropoff_site\n",
              "AUSTIN IRON AND METAL      400.000000\n",
              "AUSTIN WOOD RECYCLING     4050.000000\n",
              "BALCONES RECYCLING        9840.000000\n",
              "BALCONES WOODS            8460.000000\n",
              "GREAT NORTHERN           12227.136307\n",
              "HORNSBY BEND              6400.000000\n",
              "MRF                       1360.000000\n",
              "ON ROUTE HIGH DUMP       12227.136307\n",
              "ONION CREEK              12227.136307\n",
              "ORGANICS BY GOSH         11920.000000\n",
              "PARK BEND                12330.000000\n",
              "PARK CENTER              12227.136307\n",
              "ST. EDWARDS              12227.136307\n",
              "STEINER LANDFILL           780.000000\n",
              "TDS - MRF                10330.000000\n",
              "TDS LANDFILL             14920.000000\n",
              "WESTFIELD                16020.000000\n",
              "WILCAB                   12227.136307\n",
              "Name: load_weight, dtype: float64"
            ]
          },
          "metadata": {},
          "execution_count": 25
        }
      ]
    },
    {
      "cell_type": "markdown",
      "source": [
        "note : berikut adalah data median di masing-masing tempat pembuangan sampah"
      ],
      "metadata": {
        "id": "OqbbJfiFIqbo"
      }
    },
    {
      "cell_type": "code",
      "source": [
        "# Mencari Nilai Modus di kolom dropoff_site\n",
        "\n",
        "dfCopy['dropoff_site'].mode()"
      ],
      "metadata": {
        "id": "V48M4vwNcPU5",
        "colab": {
          "base_uri": "https://localhost:8080/"
        },
        "outputId": "2f706691-d9fd-4ee1-9bc6-8c39914de0eb"
      },
      "execution_count": 26,
      "outputs": [
        {
          "output_type": "execute_result",
          "data": {
            "text/plain": [
              "0    TDS LANDFILL\n",
              "dtype: object"
            ]
          },
          "metadata": {},
          "execution_count": 26
        }
      ]
    },
    {
      "cell_type": "markdown",
      "source": [
        "Note : Tempat Pembuangan Sampah yang paling banyak dipilih adalah TDS LANDFILL"
      ],
      "metadata": {
        "id": "M982qi8MgzVN"
      }
    },
    {
      "cell_type": "code",
      "source": [
        "# Persiapan awal data untuk dianalisa\n",
        "\n",
        "dfCopy.groupby(dfCopy['dropoff_site'], sort=True)['load_weight'].apply(pd.Series.mode).to_frame()"
      ],
      "metadata": {
        "colab": {
          "base_uri": "https://localhost:8080/",
          "height": 896
        },
        "id": "zhxNE8e7pfm5",
        "outputId": "d02d0aaf-1e1b-4bf2-f310-5747604d92ef"
      },
      "execution_count": 27,
      "outputs": [
        {
          "output_type": "execute_result",
          "data": {
            "text/plain": [
              "                          load_weight\n",
              "dropoff_site                         \n",
              "AUSTIN IRON AND METAL 0    260.000000\n",
              "                      1    320.000000\n",
              "                      2    520.000000\n",
              "AUSTIN WOOD RECYCLING 0   2340.000000\n",
              "                      1   5760.000000\n",
              "BALCONES RECYCLING    0  11880.000000\n",
              "BALCONES WOODS        0   8460.000000\n",
              "GREAT NORTHERN        0  12227.136307\n",
              "HORNSBY BEND          0   5500.000000\n",
              "MRF                   0    960.000000\n",
              "ON ROUTE HIGH DUMP    0  12227.136307\n",
              "ONION CREEK           0  12227.136307\n",
              "ORGANICS BY GOSH      0  14580.000000\n",
              "PARK BEND             0   8480.000000\n",
              "                      1   8960.000000\n",
              "                      2  15700.000000\n",
              "                      3  20400.000000\n",
              "PARK CENTER           0  12227.136307\n",
              "ST. EDWARDS           0  12227.136307\n",
              "STEINER LANDFILL      0    780.000000\n",
              "TDS - MRF             0  10360.000000\n",
              "TDS LANDFILL          0     20.000000\n",
              "                      1     60.000000\n",
              "                      2  12020.000000\n",
              "WESTFIELD             0  16020.000000\n",
              "WILCAB                0  12227.136307"
            ],
            "text/html": [
              "\n",
              "  <div id=\"df-0398e1c2-031e-4074-8d77-0edbb2267d5a\">\n",
              "    <div class=\"colab-df-container\">\n",
              "      <div>\n",
              "<style scoped>\n",
              "    .dataframe tbody tr th:only-of-type {\n",
              "        vertical-align: middle;\n",
              "    }\n",
              "\n",
              "    .dataframe tbody tr th {\n",
              "        vertical-align: top;\n",
              "    }\n",
              "\n",
              "    .dataframe thead th {\n",
              "        text-align: right;\n",
              "    }\n",
              "</style>\n",
              "<table border=\"1\" class=\"dataframe\">\n",
              "  <thead>\n",
              "    <tr style=\"text-align: right;\">\n",
              "      <th></th>\n",
              "      <th></th>\n",
              "      <th>load_weight</th>\n",
              "    </tr>\n",
              "    <tr>\n",
              "      <th>dropoff_site</th>\n",
              "      <th></th>\n",
              "      <th></th>\n",
              "    </tr>\n",
              "  </thead>\n",
              "  <tbody>\n",
              "    <tr>\n",
              "      <th rowspan=\"3\" valign=\"top\">AUSTIN IRON AND METAL</th>\n",
              "      <th>0</th>\n",
              "      <td>260.000000</td>\n",
              "    </tr>\n",
              "    <tr>\n",
              "      <th>1</th>\n",
              "      <td>320.000000</td>\n",
              "    </tr>\n",
              "    <tr>\n",
              "      <th>2</th>\n",
              "      <td>520.000000</td>\n",
              "    </tr>\n",
              "    <tr>\n",
              "      <th rowspan=\"2\" valign=\"top\">AUSTIN WOOD RECYCLING</th>\n",
              "      <th>0</th>\n",
              "      <td>2340.000000</td>\n",
              "    </tr>\n",
              "    <tr>\n",
              "      <th>1</th>\n",
              "      <td>5760.000000</td>\n",
              "    </tr>\n",
              "    <tr>\n",
              "      <th>BALCONES RECYCLING</th>\n",
              "      <th>0</th>\n",
              "      <td>11880.000000</td>\n",
              "    </tr>\n",
              "    <tr>\n",
              "      <th>BALCONES WOODS</th>\n",
              "      <th>0</th>\n",
              "      <td>8460.000000</td>\n",
              "    </tr>\n",
              "    <tr>\n",
              "      <th>GREAT NORTHERN</th>\n",
              "      <th>0</th>\n",
              "      <td>12227.136307</td>\n",
              "    </tr>\n",
              "    <tr>\n",
              "      <th>HORNSBY BEND</th>\n",
              "      <th>0</th>\n",
              "      <td>5500.000000</td>\n",
              "    </tr>\n",
              "    <tr>\n",
              "      <th>MRF</th>\n",
              "      <th>0</th>\n",
              "      <td>960.000000</td>\n",
              "    </tr>\n",
              "    <tr>\n",
              "      <th>ON ROUTE HIGH DUMP</th>\n",
              "      <th>0</th>\n",
              "      <td>12227.136307</td>\n",
              "    </tr>\n",
              "    <tr>\n",
              "      <th>ONION CREEK</th>\n",
              "      <th>0</th>\n",
              "      <td>12227.136307</td>\n",
              "    </tr>\n",
              "    <tr>\n",
              "      <th>ORGANICS BY GOSH</th>\n",
              "      <th>0</th>\n",
              "      <td>14580.000000</td>\n",
              "    </tr>\n",
              "    <tr>\n",
              "      <th rowspan=\"4\" valign=\"top\">PARK BEND</th>\n",
              "      <th>0</th>\n",
              "      <td>8480.000000</td>\n",
              "    </tr>\n",
              "    <tr>\n",
              "      <th>1</th>\n",
              "      <td>8960.000000</td>\n",
              "    </tr>\n",
              "    <tr>\n",
              "      <th>2</th>\n",
              "      <td>15700.000000</td>\n",
              "    </tr>\n",
              "    <tr>\n",
              "      <th>3</th>\n",
              "      <td>20400.000000</td>\n",
              "    </tr>\n",
              "    <tr>\n",
              "      <th>PARK CENTER</th>\n",
              "      <th>0</th>\n",
              "      <td>12227.136307</td>\n",
              "    </tr>\n",
              "    <tr>\n",
              "      <th>ST. EDWARDS</th>\n",
              "      <th>0</th>\n",
              "      <td>12227.136307</td>\n",
              "    </tr>\n",
              "    <tr>\n",
              "      <th>STEINER LANDFILL</th>\n",
              "      <th>0</th>\n",
              "      <td>780.000000</td>\n",
              "    </tr>\n",
              "    <tr>\n",
              "      <th>TDS - MRF</th>\n",
              "      <th>0</th>\n",
              "      <td>10360.000000</td>\n",
              "    </tr>\n",
              "    <tr>\n",
              "      <th rowspan=\"3\" valign=\"top\">TDS LANDFILL</th>\n",
              "      <th>0</th>\n",
              "      <td>20.000000</td>\n",
              "    </tr>\n",
              "    <tr>\n",
              "      <th>1</th>\n",
              "      <td>60.000000</td>\n",
              "    </tr>\n",
              "    <tr>\n",
              "      <th>2</th>\n",
              "      <td>12020.000000</td>\n",
              "    </tr>\n",
              "    <tr>\n",
              "      <th>WESTFIELD</th>\n",
              "      <th>0</th>\n",
              "      <td>16020.000000</td>\n",
              "    </tr>\n",
              "    <tr>\n",
              "      <th>WILCAB</th>\n",
              "      <th>0</th>\n",
              "      <td>12227.136307</td>\n",
              "    </tr>\n",
              "  </tbody>\n",
              "</table>\n",
              "</div>\n",
              "      <button class=\"colab-df-convert\" onclick=\"convertToInteractive('df-0398e1c2-031e-4074-8d77-0edbb2267d5a')\"\n",
              "              title=\"Convert this dataframe to an interactive table.\"\n",
              "              style=\"display:none;\">\n",
              "        \n",
              "  <svg xmlns=\"http://www.w3.org/2000/svg\" height=\"24px\"viewBox=\"0 0 24 24\"\n",
              "       width=\"24px\">\n",
              "    <path d=\"M0 0h24v24H0V0z\" fill=\"none\"/>\n",
              "    <path d=\"M18.56 5.44l.94 2.06.94-2.06 2.06-.94-2.06-.94-.94-2.06-.94 2.06-2.06.94zm-11 1L8.5 8.5l.94-2.06 2.06-.94-2.06-.94L8.5 2.5l-.94 2.06-2.06.94zm10 10l.94 2.06.94-2.06 2.06-.94-2.06-.94-.94-2.06-.94 2.06-2.06.94z\"/><path d=\"M17.41 7.96l-1.37-1.37c-.4-.4-.92-.59-1.43-.59-.52 0-1.04.2-1.43.59L10.3 9.45l-7.72 7.72c-.78.78-.78 2.05 0 2.83L4 21.41c.39.39.9.59 1.41.59.51 0 1.02-.2 1.41-.59l7.78-7.78 2.81-2.81c.8-.78.8-2.07 0-2.86zM5.41 20L4 18.59l7.72-7.72 1.47 1.35L5.41 20z\"/>\n",
              "  </svg>\n",
              "      </button>\n",
              "      \n",
              "  <style>\n",
              "    .colab-df-container {\n",
              "      display:flex;\n",
              "      flex-wrap:wrap;\n",
              "      gap: 12px;\n",
              "    }\n",
              "\n",
              "    .colab-df-convert {\n",
              "      background-color: #E8F0FE;\n",
              "      border: none;\n",
              "      border-radius: 50%;\n",
              "      cursor: pointer;\n",
              "      display: none;\n",
              "      fill: #1967D2;\n",
              "      height: 32px;\n",
              "      padding: 0 0 0 0;\n",
              "      width: 32px;\n",
              "    }\n",
              "\n",
              "    .colab-df-convert:hover {\n",
              "      background-color: #E2EBFA;\n",
              "      box-shadow: 0px 1px 2px rgba(60, 64, 67, 0.3), 0px 1px 3px 1px rgba(60, 64, 67, 0.15);\n",
              "      fill: #174EA6;\n",
              "    }\n",
              "\n",
              "    [theme=dark] .colab-df-convert {\n",
              "      background-color: #3B4455;\n",
              "      fill: #D2E3FC;\n",
              "    }\n",
              "\n",
              "    [theme=dark] .colab-df-convert:hover {\n",
              "      background-color: #434B5C;\n",
              "      box-shadow: 0px 1px 3px 1px rgba(0, 0, 0, 0.15);\n",
              "      filter: drop-shadow(0px 1px 2px rgba(0, 0, 0, 0.3));\n",
              "      fill: #FFFFFF;\n",
              "    }\n",
              "  </style>\n",
              "\n",
              "      <script>\n",
              "        const buttonEl =\n",
              "          document.querySelector('#df-0398e1c2-031e-4074-8d77-0edbb2267d5a button.colab-df-convert');\n",
              "        buttonEl.style.display =\n",
              "          google.colab.kernel.accessAllowed ? 'block' : 'none';\n",
              "\n",
              "        async function convertToInteractive(key) {\n",
              "          const element = document.querySelector('#df-0398e1c2-031e-4074-8d77-0edbb2267d5a');\n",
              "          const dataTable =\n",
              "            await google.colab.kernel.invokeFunction('convertToInteractive',\n",
              "                                                     [key], {});\n",
              "          if (!dataTable) return;\n",
              "\n",
              "          const docLinkHtml = 'Like what you see? Visit the ' +\n",
              "            '<a target=\"_blank\" href=https://colab.research.google.com/notebooks/data_table.ipynb>data table notebook</a>'\n",
              "            + ' to learn more about interactive tables.';\n",
              "          element.innerHTML = '';\n",
              "          dataTable['output_type'] = 'display_data';\n",
              "          await google.colab.output.renderOutput(dataTable, element);\n",
              "          const docLink = document.createElement('div');\n",
              "          docLink.innerHTML = docLinkHtml;\n",
              "          element.appendChild(docLink);\n",
              "        }\n",
              "      </script>\n",
              "    </div>\n",
              "  </div>\n",
              "  "
            ]
          },
          "metadata": {},
          "execution_count": 27
        }
      ]
    },
    {
      "cell_type": "code",
      "source": [
        "# Lihat banyak data berdasarkan tipe sampah\n",
        "\n",
        "dfCopy['load_type'].value_counts()"
      ],
      "metadata": {
        "colab": {
          "base_uri": "https://localhost:8080/"
        },
        "id": "QUP9pMR230jr",
        "outputId": "757401fa-69f7-4215-da3f-d2577d3c0062"
      },
      "execution_count": 28,
      "outputs": [
        {
          "output_type": "execute_result",
          "data": {
            "text/plain": [
              "GARBAGE COLLECTIONS          8242\n",
              "RECYCLING - SINGLE STREAM    6760\n",
              "ORGANICS                     5763\n",
              "BULK                         1594\n",
              "BRUSH                        1517\n",
              "SWEEPING                     1390\n",
              "MIXED LITTER                  329\n",
              "TIRES                         175\n",
              "DEAD ANIMAL                   150\n",
              "YARD TRIMMING                 137\n",
              "RECYCLED METAL                 57\n",
              "LITTER                         41\n",
              "CONTAMINATED RECYCLING          1\n",
              "CONTAMINATED ORGANICS           1\n",
              "Name: load_type, dtype: int64"
            ]
          },
          "metadata": {},
          "execution_count": 28
        }
      ]
    },
    {
      "cell_type": "markdown",
      "source": [
        "dari tipe sampah diatas, maka akan dipilih tipe sampah `RECYCLING - SINGLE STREAM` untuk dianalisa lebih lanjut"
      ],
      "metadata": {
        "id": "2xO-4qo147Gy"
      }
    },
    {
      "cell_type": "code",
      "source": [
        "# Mengelompokan data berdasarkan `RECYCLING - SINGLE STREAM` di kolom `load_type`\n",
        "\n",
        "dfRecycle = dfCopy.loc[dfCopy['load_type'] == 'RECYCLING - SINGLE STREAM']\n",
        "dfRecycle"
      ],
      "metadata": {
        "colab": {
          "base_uri": "https://localhost:8080/",
          "height": 423
        },
        "id": "sMGOfA_W5GON",
        "outputId": "2a8859c3-1b23-48f8-bda5-724cb3e45ec9"
      },
      "execution_count": 29,
      "outputs": [
        {
          "output_type": "execute_result",
          "data": {
            "text/plain": [
              "                       load_type  load_weight        dropoff_site        date\n",
              "15     RECYCLING - SINGLE STREAM        700.0           TDS - MRF  2021-05-01\n",
              "16     RECYCLING - SINGLE STREAM        720.0           TDS - MRF  2021-06-12\n",
              "17     RECYCLING - SINGLE STREAM        300.0           TDS - MRF  2021-03-06\n",
              "1051   RECYCLING - SINGLE STREAM       3260.0  BALCONES RECYCLING  2021-02-11\n",
              "1052   RECYCLING - SINGLE STREAM       5300.0  BALCONES RECYCLING  2021-02-11\n",
              "...                          ...          ...                 ...         ...\n",
              "25989  RECYCLING - SINGLE STREAM       9220.0           TDS - MRF  2021-03-01\n",
              "25990  RECYCLING - SINGLE STREAM      11780.0           TDS - MRF  2021-03-01\n",
              "25991  RECYCLING - SINGLE STREAM       4180.0           TDS - MRF  2021-03-01\n",
              "25992  RECYCLING - SINGLE STREAM      15080.0           TDS - MRF  2021-03-01\n",
              "26112  RECYCLING - SINGLE STREAM       5320.0        TDS LANDFILL  2021-03-01\n",
              "\n",
              "[6760 rows x 4 columns]"
            ],
            "text/html": [
              "\n",
              "  <div id=\"df-6139b97f-710c-4963-830d-31f923529432\">\n",
              "    <div class=\"colab-df-container\">\n",
              "      <div>\n",
              "<style scoped>\n",
              "    .dataframe tbody tr th:only-of-type {\n",
              "        vertical-align: middle;\n",
              "    }\n",
              "\n",
              "    .dataframe tbody tr th {\n",
              "        vertical-align: top;\n",
              "    }\n",
              "\n",
              "    .dataframe thead th {\n",
              "        text-align: right;\n",
              "    }\n",
              "</style>\n",
              "<table border=\"1\" class=\"dataframe\">\n",
              "  <thead>\n",
              "    <tr style=\"text-align: right;\">\n",
              "      <th></th>\n",
              "      <th>load_type</th>\n",
              "      <th>load_weight</th>\n",
              "      <th>dropoff_site</th>\n",
              "      <th>date</th>\n",
              "    </tr>\n",
              "  </thead>\n",
              "  <tbody>\n",
              "    <tr>\n",
              "      <th>15</th>\n",
              "      <td>RECYCLING - SINGLE STREAM</td>\n",
              "      <td>700.0</td>\n",
              "      <td>TDS - MRF</td>\n",
              "      <td>2021-05-01</td>\n",
              "    </tr>\n",
              "    <tr>\n",
              "      <th>16</th>\n",
              "      <td>RECYCLING - SINGLE STREAM</td>\n",
              "      <td>720.0</td>\n",
              "      <td>TDS - MRF</td>\n",
              "      <td>2021-06-12</td>\n",
              "    </tr>\n",
              "    <tr>\n",
              "      <th>17</th>\n",
              "      <td>RECYCLING - SINGLE STREAM</td>\n",
              "      <td>300.0</td>\n",
              "      <td>TDS - MRF</td>\n",
              "      <td>2021-03-06</td>\n",
              "    </tr>\n",
              "    <tr>\n",
              "      <th>1051</th>\n",
              "      <td>RECYCLING - SINGLE STREAM</td>\n",
              "      <td>3260.0</td>\n",
              "      <td>BALCONES RECYCLING</td>\n",
              "      <td>2021-02-11</td>\n",
              "    </tr>\n",
              "    <tr>\n",
              "      <th>1052</th>\n",
              "      <td>RECYCLING - SINGLE STREAM</td>\n",
              "      <td>5300.0</td>\n",
              "      <td>BALCONES RECYCLING</td>\n",
              "      <td>2021-02-11</td>\n",
              "    </tr>\n",
              "    <tr>\n",
              "      <th>...</th>\n",
              "      <td>...</td>\n",
              "      <td>...</td>\n",
              "      <td>...</td>\n",
              "      <td>...</td>\n",
              "    </tr>\n",
              "    <tr>\n",
              "      <th>25989</th>\n",
              "      <td>RECYCLING - SINGLE STREAM</td>\n",
              "      <td>9220.0</td>\n",
              "      <td>TDS - MRF</td>\n",
              "      <td>2021-03-01</td>\n",
              "    </tr>\n",
              "    <tr>\n",
              "      <th>25990</th>\n",
              "      <td>RECYCLING - SINGLE STREAM</td>\n",
              "      <td>11780.0</td>\n",
              "      <td>TDS - MRF</td>\n",
              "      <td>2021-03-01</td>\n",
              "    </tr>\n",
              "    <tr>\n",
              "      <th>25991</th>\n",
              "      <td>RECYCLING - SINGLE STREAM</td>\n",
              "      <td>4180.0</td>\n",
              "      <td>TDS - MRF</td>\n",
              "      <td>2021-03-01</td>\n",
              "    </tr>\n",
              "    <tr>\n",
              "      <th>25992</th>\n",
              "      <td>RECYCLING - SINGLE STREAM</td>\n",
              "      <td>15080.0</td>\n",
              "      <td>TDS - MRF</td>\n",
              "      <td>2021-03-01</td>\n",
              "    </tr>\n",
              "    <tr>\n",
              "      <th>26112</th>\n",
              "      <td>RECYCLING - SINGLE STREAM</td>\n",
              "      <td>5320.0</td>\n",
              "      <td>TDS LANDFILL</td>\n",
              "      <td>2021-03-01</td>\n",
              "    </tr>\n",
              "  </tbody>\n",
              "</table>\n",
              "<p>6760 rows × 4 columns</p>\n",
              "</div>\n",
              "      <button class=\"colab-df-convert\" onclick=\"convertToInteractive('df-6139b97f-710c-4963-830d-31f923529432')\"\n",
              "              title=\"Convert this dataframe to an interactive table.\"\n",
              "              style=\"display:none;\">\n",
              "        \n",
              "  <svg xmlns=\"http://www.w3.org/2000/svg\" height=\"24px\"viewBox=\"0 0 24 24\"\n",
              "       width=\"24px\">\n",
              "    <path d=\"M0 0h24v24H0V0z\" fill=\"none\"/>\n",
              "    <path d=\"M18.56 5.44l.94 2.06.94-2.06 2.06-.94-2.06-.94-.94-2.06-.94 2.06-2.06.94zm-11 1L8.5 8.5l.94-2.06 2.06-.94-2.06-.94L8.5 2.5l-.94 2.06-2.06.94zm10 10l.94 2.06.94-2.06 2.06-.94-2.06-.94-.94-2.06-.94 2.06-2.06.94z\"/><path d=\"M17.41 7.96l-1.37-1.37c-.4-.4-.92-.59-1.43-.59-.52 0-1.04.2-1.43.59L10.3 9.45l-7.72 7.72c-.78.78-.78 2.05 0 2.83L4 21.41c.39.39.9.59 1.41.59.51 0 1.02-.2 1.41-.59l7.78-7.78 2.81-2.81c.8-.78.8-2.07 0-2.86zM5.41 20L4 18.59l7.72-7.72 1.47 1.35L5.41 20z\"/>\n",
              "  </svg>\n",
              "      </button>\n",
              "      \n",
              "  <style>\n",
              "    .colab-df-container {\n",
              "      display:flex;\n",
              "      flex-wrap:wrap;\n",
              "      gap: 12px;\n",
              "    }\n",
              "\n",
              "    .colab-df-convert {\n",
              "      background-color: #E8F0FE;\n",
              "      border: none;\n",
              "      border-radius: 50%;\n",
              "      cursor: pointer;\n",
              "      display: none;\n",
              "      fill: #1967D2;\n",
              "      height: 32px;\n",
              "      padding: 0 0 0 0;\n",
              "      width: 32px;\n",
              "    }\n",
              "\n",
              "    .colab-df-convert:hover {\n",
              "      background-color: #E2EBFA;\n",
              "      box-shadow: 0px 1px 2px rgba(60, 64, 67, 0.3), 0px 1px 3px 1px rgba(60, 64, 67, 0.15);\n",
              "      fill: #174EA6;\n",
              "    }\n",
              "\n",
              "    [theme=dark] .colab-df-convert {\n",
              "      background-color: #3B4455;\n",
              "      fill: #D2E3FC;\n",
              "    }\n",
              "\n",
              "    [theme=dark] .colab-df-convert:hover {\n",
              "      background-color: #434B5C;\n",
              "      box-shadow: 0px 1px 3px 1px rgba(0, 0, 0, 0.15);\n",
              "      filter: drop-shadow(0px 1px 2px rgba(0, 0, 0, 0.3));\n",
              "      fill: #FFFFFF;\n",
              "    }\n",
              "  </style>\n",
              "\n",
              "      <script>\n",
              "        const buttonEl =\n",
              "          document.querySelector('#df-6139b97f-710c-4963-830d-31f923529432 button.colab-df-convert');\n",
              "        buttonEl.style.display =\n",
              "          google.colab.kernel.accessAllowed ? 'block' : 'none';\n",
              "\n",
              "        async function convertToInteractive(key) {\n",
              "          const element = document.querySelector('#df-6139b97f-710c-4963-830d-31f923529432');\n",
              "          const dataTable =\n",
              "            await google.colab.kernel.invokeFunction('convertToInteractive',\n",
              "                                                     [key], {});\n",
              "          if (!dataTable) return;\n",
              "\n",
              "          const docLinkHtml = 'Like what you see? Visit the ' +\n",
              "            '<a target=\"_blank\" href=https://colab.research.google.com/notebooks/data_table.ipynb>data table notebook</a>'\n",
              "            + ' to learn more about interactive tables.';\n",
              "          element.innerHTML = '';\n",
              "          dataTable['output_type'] = 'display_data';\n",
              "          await google.colab.output.renderOutput(dataTable, element);\n",
              "          const docLink = document.createElement('div');\n",
              "          docLink.innerHTML = docLinkHtml;\n",
              "          element.appendChild(docLink);\n",
              "        }\n",
              "      </script>\n",
              "    </div>\n",
              "  </div>\n",
              "  "
            ]
          },
          "metadata": {},
          "execution_count": 29
        }
      ]
    },
    {
      "cell_type": "code",
      "source": [
        "# Mencari total data `RECYCLING - SINGLE STREAM` di masing-masing `dropoff_site`\n",
        "\n",
        "totalRecycle = dfRecycle.groupby(dfRecycle['dropoff_site'],sort=True)['load_weight'].sum()\n",
        "totalRecycle"
      ],
      "metadata": {
        "colab": {
          "base_uri": "https://localhost:8080/"
        },
        "id": "L_0mfb435jBK",
        "outputId": "f478f795-1596-469a-dcd8-c953681e1477"
      },
      "execution_count": 30,
      "outputs": [
        {
          "output_type": "execute_result",
          "data": {
            "text/plain": [
              "dropoff_site\n",
              "AUSTIN WOOD RECYCLING        8100.0\n",
              "BALCONES RECYCLING       36315870.0\n",
              "BALCONES WOODS               8460.0\n",
              "TDS - MRF                28614260.0\n",
              "TDS LANDFILL                 7740.0\n",
              "Name: load_weight, dtype: float64"
            ]
          },
          "metadata": {},
          "execution_count": 30
        }
      ]
    },
    {
      "cell_type": "markdown",
      "source": [
        "note : `BALCONES RECYCLING` menjadi tempat terbanyak dalam mengolah sampah tipe `RECYCLING - SINGLE STREAM`"
      ],
      "metadata": {
        "id": "YbuhNFTT52LU"
      }
    },
    {
      "cell_type": "markdown",
      "source": [
        "# Problem 1.4 : Pemilihan Site Pengolahan Sampah"
      ],
      "metadata": {
        "id": "F9F2K3s44P0f"
      }
    },
    {
      "cell_type": "markdown",
      "source": [
        "Alasan : karena di site ini yang paling banyak mengelola sampah daur ulang / `RECYCLING - SINGLE STREAM`"
      ],
      "metadata": {
        "id": "FP3PLYPw4YxO"
      }
    },
    {
      "cell_type": "code",
      "source": [
        "dfBalcones = dfCopy.loc[dfCopy['dropoff_site'] == 'BALCONES RECYCLING']\n",
        "dfBalcones"
      ],
      "metadata": {
        "id": "nvlxg1BWI8Pt",
        "colab": {
          "base_uri": "https://localhost:8080/",
          "height": 423
        },
        "outputId": "430f9b8b-cb06-4b88-9dca-afc23cfc9f48"
      },
      "execution_count": 31,
      "outputs": [
        {
          "output_type": "execute_result",
          "data": {
            "text/plain": [
              "                       load_type  load_weight        dropoff_site        date\n",
              "1051   RECYCLING - SINGLE STREAM       3260.0  BALCONES RECYCLING  2021-02-11\n",
              "1052   RECYCLING - SINGLE STREAM       5300.0  BALCONES RECYCLING  2021-02-11\n",
              "1053   RECYCLING - SINGLE STREAM       4880.0  BALCONES RECYCLING  2021-02-11\n",
              "1054   RECYCLING - SINGLE STREAM      12420.0  BALCONES RECYCLING  2021-02-11\n",
              "1055   RECYCLING - SINGLE STREAM      12280.0  BALCONES RECYCLING  2021-02-11\n",
              "...                          ...          ...                 ...         ...\n",
              "25911  RECYCLING - SINGLE STREAM      11640.0  BALCONES RECYCLING  2021-02-26\n",
              "25912  RECYCLING - SINGLE STREAM      11780.0  BALCONES RECYCLING  2021-02-26\n",
              "25913  RECYCLING - SINGLE STREAM       8520.0  BALCONES RECYCLING  2021-02-26\n",
              "25914  RECYCLING - SINGLE STREAM       6800.0  BALCONES RECYCLING  2021-02-26\n",
              "25915  RECYCLING - SINGLE STREAM      10860.0  BALCONES RECYCLING  2021-02-26\n",
              "\n",
              "[3837 rows x 4 columns]"
            ],
            "text/html": [
              "\n",
              "  <div id=\"df-2960fae8-1f0b-4b64-ab50-9cf01186bc34\">\n",
              "    <div class=\"colab-df-container\">\n",
              "      <div>\n",
              "<style scoped>\n",
              "    .dataframe tbody tr th:only-of-type {\n",
              "        vertical-align: middle;\n",
              "    }\n",
              "\n",
              "    .dataframe tbody tr th {\n",
              "        vertical-align: top;\n",
              "    }\n",
              "\n",
              "    .dataframe thead th {\n",
              "        text-align: right;\n",
              "    }\n",
              "</style>\n",
              "<table border=\"1\" class=\"dataframe\">\n",
              "  <thead>\n",
              "    <tr style=\"text-align: right;\">\n",
              "      <th></th>\n",
              "      <th>load_type</th>\n",
              "      <th>load_weight</th>\n",
              "      <th>dropoff_site</th>\n",
              "      <th>date</th>\n",
              "    </tr>\n",
              "  </thead>\n",
              "  <tbody>\n",
              "    <tr>\n",
              "      <th>1051</th>\n",
              "      <td>RECYCLING - SINGLE STREAM</td>\n",
              "      <td>3260.0</td>\n",
              "      <td>BALCONES RECYCLING</td>\n",
              "      <td>2021-02-11</td>\n",
              "    </tr>\n",
              "    <tr>\n",
              "      <th>1052</th>\n",
              "      <td>RECYCLING - SINGLE STREAM</td>\n",
              "      <td>5300.0</td>\n",
              "      <td>BALCONES RECYCLING</td>\n",
              "      <td>2021-02-11</td>\n",
              "    </tr>\n",
              "    <tr>\n",
              "      <th>1053</th>\n",
              "      <td>RECYCLING - SINGLE STREAM</td>\n",
              "      <td>4880.0</td>\n",
              "      <td>BALCONES RECYCLING</td>\n",
              "      <td>2021-02-11</td>\n",
              "    </tr>\n",
              "    <tr>\n",
              "      <th>1054</th>\n",
              "      <td>RECYCLING - SINGLE STREAM</td>\n",
              "      <td>12420.0</td>\n",
              "      <td>BALCONES RECYCLING</td>\n",
              "      <td>2021-02-11</td>\n",
              "    </tr>\n",
              "    <tr>\n",
              "      <th>1055</th>\n",
              "      <td>RECYCLING - SINGLE STREAM</td>\n",
              "      <td>12280.0</td>\n",
              "      <td>BALCONES RECYCLING</td>\n",
              "      <td>2021-02-11</td>\n",
              "    </tr>\n",
              "    <tr>\n",
              "      <th>...</th>\n",
              "      <td>...</td>\n",
              "      <td>...</td>\n",
              "      <td>...</td>\n",
              "      <td>...</td>\n",
              "    </tr>\n",
              "    <tr>\n",
              "      <th>25911</th>\n",
              "      <td>RECYCLING - SINGLE STREAM</td>\n",
              "      <td>11640.0</td>\n",
              "      <td>BALCONES RECYCLING</td>\n",
              "      <td>2021-02-26</td>\n",
              "    </tr>\n",
              "    <tr>\n",
              "      <th>25912</th>\n",
              "      <td>RECYCLING - SINGLE STREAM</td>\n",
              "      <td>11780.0</td>\n",
              "      <td>BALCONES RECYCLING</td>\n",
              "      <td>2021-02-26</td>\n",
              "    </tr>\n",
              "    <tr>\n",
              "      <th>25913</th>\n",
              "      <td>RECYCLING - SINGLE STREAM</td>\n",
              "      <td>8520.0</td>\n",
              "      <td>BALCONES RECYCLING</td>\n",
              "      <td>2021-02-26</td>\n",
              "    </tr>\n",
              "    <tr>\n",
              "      <th>25914</th>\n",
              "      <td>RECYCLING - SINGLE STREAM</td>\n",
              "      <td>6800.0</td>\n",
              "      <td>BALCONES RECYCLING</td>\n",
              "      <td>2021-02-26</td>\n",
              "    </tr>\n",
              "    <tr>\n",
              "      <th>25915</th>\n",
              "      <td>RECYCLING - SINGLE STREAM</td>\n",
              "      <td>10860.0</td>\n",
              "      <td>BALCONES RECYCLING</td>\n",
              "      <td>2021-02-26</td>\n",
              "    </tr>\n",
              "  </tbody>\n",
              "</table>\n",
              "<p>3837 rows × 4 columns</p>\n",
              "</div>\n",
              "      <button class=\"colab-df-convert\" onclick=\"convertToInteractive('df-2960fae8-1f0b-4b64-ab50-9cf01186bc34')\"\n",
              "              title=\"Convert this dataframe to an interactive table.\"\n",
              "              style=\"display:none;\">\n",
              "        \n",
              "  <svg xmlns=\"http://www.w3.org/2000/svg\" height=\"24px\"viewBox=\"0 0 24 24\"\n",
              "       width=\"24px\">\n",
              "    <path d=\"M0 0h24v24H0V0z\" fill=\"none\"/>\n",
              "    <path d=\"M18.56 5.44l.94 2.06.94-2.06 2.06-.94-2.06-.94-.94-2.06-.94 2.06-2.06.94zm-11 1L8.5 8.5l.94-2.06 2.06-.94-2.06-.94L8.5 2.5l-.94 2.06-2.06.94zm10 10l.94 2.06.94-2.06 2.06-.94-2.06-.94-.94-2.06-.94 2.06-2.06.94z\"/><path d=\"M17.41 7.96l-1.37-1.37c-.4-.4-.92-.59-1.43-.59-.52 0-1.04.2-1.43.59L10.3 9.45l-7.72 7.72c-.78.78-.78 2.05 0 2.83L4 21.41c.39.39.9.59 1.41.59.51 0 1.02-.2 1.41-.59l7.78-7.78 2.81-2.81c.8-.78.8-2.07 0-2.86zM5.41 20L4 18.59l7.72-7.72 1.47 1.35L5.41 20z\"/>\n",
              "  </svg>\n",
              "      </button>\n",
              "      \n",
              "  <style>\n",
              "    .colab-df-container {\n",
              "      display:flex;\n",
              "      flex-wrap:wrap;\n",
              "      gap: 12px;\n",
              "    }\n",
              "\n",
              "    .colab-df-convert {\n",
              "      background-color: #E8F0FE;\n",
              "      border: none;\n",
              "      border-radius: 50%;\n",
              "      cursor: pointer;\n",
              "      display: none;\n",
              "      fill: #1967D2;\n",
              "      height: 32px;\n",
              "      padding: 0 0 0 0;\n",
              "      width: 32px;\n",
              "    }\n",
              "\n",
              "    .colab-df-convert:hover {\n",
              "      background-color: #E2EBFA;\n",
              "      box-shadow: 0px 1px 2px rgba(60, 64, 67, 0.3), 0px 1px 3px 1px rgba(60, 64, 67, 0.15);\n",
              "      fill: #174EA6;\n",
              "    }\n",
              "\n",
              "    [theme=dark] .colab-df-convert {\n",
              "      background-color: #3B4455;\n",
              "      fill: #D2E3FC;\n",
              "    }\n",
              "\n",
              "    [theme=dark] .colab-df-convert:hover {\n",
              "      background-color: #434B5C;\n",
              "      box-shadow: 0px 1px 3px 1px rgba(0, 0, 0, 0.15);\n",
              "      filter: drop-shadow(0px 1px 2px rgba(0, 0, 0, 0.3));\n",
              "      fill: #FFFFFF;\n",
              "    }\n",
              "  </style>\n",
              "\n",
              "      <script>\n",
              "        const buttonEl =\n",
              "          document.querySelector('#df-2960fae8-1f0b-4b64-ab50-9cf01186bc34 button.colab-df-convert');\n",
              "        buttonEl.style.display =\n",
              "          google.colab.kernel.accessAllowed ? 'block' : 'none';\n",
              "\n",
              "        async function convertToInteractive(key) {\n",
              "          const element = document.querySelector('#df-2960fae8-1f0b-4b64-ab50-9cf01186bc34');\n",
              "          const dataTable =\n",
              "            await google.colab.kernel.invokeFunction('convertToInteractive',\n",
              "                                                     [key], {});\n",
              "          if (!dataTable) return;\n",
              "\n",
              "          const docLinkHtml = 'Like what you see? Visit the ' +\n",
              "            '<a target=\"_blank\" href=https://colab.research.google.com/notebooks/data_table.ipynb>data table notebook</a>'\n",
              "            + ' to learn more about interactive tables.';\n",
              "          element.innerHTML = '';\n",
              "          dataTable['output_type'] = 'display_data';\n",
              "          await google.colab.output.renderOutput(dataTable, element);\n",
              "          const docLink = document.createElement('div');\n",
              "          docLink.innerHTML = docLinkHtml;\n",
              "          element.appendChild(docLink);\n",
              "        }\n",
              "      </script>\n",
              "    </div>\n",
              "  </div>\n",
              "  "
            ]
          },
          "metadata": {},
          "execution_count": 31
        }
      ]
    },
    {
      "cell_type": "code",
      "source": [
        "sumBalcones = dfBalcones.value_counts().sum()\n",
        "sumBalcones"
      ],
      "metadata": {
        "colab": {
          "base_uri": "https://localhost:8080/"
        },
        "id": "LBcZQl34YbLy",
        "outputId": "a6488813-2c77-4feb-e51c-7393ecd66fa3"
      },
      "execution_count": 32,
      "outputs": [
        {
          "output_type": "execute_result",
          "data": {
            "text/plain": [
              "3837"
            ]
          },
          "metadata": {},
          "execution_count": 32
        }
      ]
    },
    {
      "cell_type": "markdown",
      "source": [
        "Note : Ada 3837 data di `BALCONES RECYCLING`"
      ],
      "metadata": {
        "id": "199ogjg1-s2e"
      }
    },
    {
      "cell_type": "code",
      "source": [
        "sumRecycle = dfRecycle.value_counts().sum()\n",
        "sumRecycle"
      ],
      "metadata": {
        "colab": {
          "base_uri": "https://localhost:8080/"
        },
        "id": "IRwILqlEijhv",
        "outputId": "59d942d8-04ce-42ba-d313-3dfebf2de09d"
      },
      "execution_count": 33,
      "outputs": [
        {
          "output_type": "execute_result",
          "data": {
            "text/plain": [
              "6760"
            ]
          },
          "metadata": {},
          "execution_count": 33
        }
      ]
    },
    {
      "cell_type": "markdown",
      "source": [
        "Note : Ada 6760 data di `RECYCLING - SINGLE STREAM`"
      ],
      "metadata": {
        "id": "cCje2a9xG-l1"
      }
    },
    {
      "cell_type": "code",
      "source": [
        "sumRecycle = sumBalcones/sumRecycle * 100\n",
        "print(sumRecycle, '%')"
      ],
      "metadata": {
        "colab": {
          "base_uri": "https://localhost:8080/"
        },
        "id": "Mf6xB22pi48z",
        "outputId": "607150dc-f2e8-4f7b-fdf9-77325779e865"
      },
      "execution_count": 34,
      "outputs": [
        {
          "output_type": "stream",
          "name": "stdout",
          "text": [
            "56.760355029585796 %\n"
          ]
        }
      ]
    },
    {
      "cell_type": "markdown",
      "source": [
        "note : total sampah `RECYCLING - SINGLE STREAM` diolah di `BALCONES RECYCLING` sebesar 56.760355029585796%"
      ],
      "metadata": {
        "id": "ywiH4EXQjVGT"
      }
    },
    {
      "cell_type": "code",
      "source": [
        "# Cek Missing Value di dfBalcones\n",
        "\n",
        "dfBalcones.isnull().sum()"
      ],
      "metadata": {
        "colab": {
          "base_uri": "https://localhost:8080/"
        },
        "id": "bzNMbjUPj0mF",
        "outputId": "8cb6cd8c-1db8-4e3f-c3e4-2976212f082a"
      },
      "execution_count": 35,
      "outputs": [
        {
          "output_type": "execute_result",
          "data": {
            "text/plain": [
              "load_type       0\n",
              "load_weight     0\n",
              "dropoff_site    0\n",
              "date            0\n",
              "dtype: int64"
            ]
          },
          "metadata": {},
          "execution_count": 35
        }
      ]
    },
    {
      "cell_type": "code",
      "source": [
        "# Cek Missing Value di dfRecycle\n",
        "\n",
        "dfRecycle.isnull().sum()"
      ],
      "metadata": {
        "colab": {
          "base_uri": "https://localhost:8080/"
        },
        "id": "5muUfQ_z_I67",
        "outputId": "52ebe07a-798a-4e34-fbb6-82736af278be"
      },
      "execution_count": 36,
      "outputs": [
        {
          "output_type": "execute_result",
          "data": {
            "text/plain": [
              "load_type       0\n",
              "load_weight     0\n",
              "dropoff_site    0\n",
              "date            0\n",
              "dtype: int64"
            ]
          },
          "metadata": {},
          "execution_count": 36
        }
      ]
    },
    {
      "cell_type": "markdown",
      "source": [
        "note : tidak ada missing value"
      ],
      "metadata": {
        "id": "bOv8oZT1j--q"
      }
    },
    {
      "cell_type": "code",
      "source": [
        "# # Cek distribusi data\n",
        "\n",
        "dfBalcones.plot.hist(title='BALCONES RECYCLING', color=\"blue\", bins=20)\n",
        "plt.axvline(dfRecycle['load_weight'].mean(), color='red', linestyle='dashed', linewidth=2)\n",
        "plt.axvline(dfRecycle['load_weight'].median(), color='black', linestyle='dashed', linewidth=2)\n",
        "plt.show()"
      ],
      "metadata": {
        "colab": {
          "base_uri": "https://localhost:8080/",
          "height": 281
        },
        "id": "6ccL_DSFkC5U",
        "outputId": "a8de5dc6-6945-47d5-d2db-d5bf700c9ac6"
      },
      "execution_count": 37,
      "outputs": [
        {
          "output_type": "display_data",
          "data": {
            "text/plain": [
              "<Figure size 432x288 with 1 Axes>"
            ],
            "image/png": "[encoded data removed]"
          },
          "metadata": {
            "needs_background": "light"
          }
        }
      ]
    },
    {
      "cell_type": "markdown",
      "source": [
        "Note : skewness bernilai negative karena nilai mean < median"
      ],
      "metadata": {
        "id": "4RwzSjrMzSMT"
      }
    },
    {
      "cell_type": "code",
      "source": [
        "# Cek Skewness\n",
        "\n",
        "dfBalcones['load_weight'].skew()"
      ],
      "metadata": {
        "id": "CqIM4btylpso",
        "colab": {
          "base_uri": "https://localhost:8080/"
        },
        "outputId": "e962f06c-0d07-4530-b7cb-b9c70acd03d0"
      },
      "execution_count": 38,
      "outputs": [
        {
          "output_type": "execute_result",
          "data": {
            "text/plain": [
              "0.10148179348246143"
            ]
          },
          "metadata": {},
          "execution_count": 38
        }
      ]
    },
    {
      "cell_type": "markdown",
      "source": [
        "Note : nilai skewness sebesar 0.10148179348246143 dan data masih dalam kondisi normal"
      ],
      "metadata": {
        "id": "OMou5yR1zbqa"
      }
    },
    {
      "cell_type": "code",
      "source": [
        "sns.boxplot(data=dfBalcones, y='load_weight')"
      ],
      "metadata": {
        "id": "J2vrmn1plzH3",
        "colab": {
          "base_uri": "https://localhost:8080/",
          "height": 269
        },
        "outputId": "66bcf710-548a-4898-8fc2-43ce06938e87"
      },
      "execution_count": 39,
      "outputs": [
        {
          "output_type": "execute_result",
          "data": {
            "text/plain": [
              "<matplotlib.axes._subplots.AxesSubplot at 0x7f86a04195b0>"
            ]
          },
          "metadata": {},
          "execution_count": 39
        },
        {
          "output_type": "display_data",
          "data": {
            "text/plain": [
              "<Figure size 432x288 with 1 Axes>"
            ],
            "image/png": "[encoded data removed]"
          },
          "metadata": {
            "needs_background": "light"
          }
        }
      ]
    },
    {
      "cell_type": "markdown",
      "source": [
        "# Problem 1.5 : Check data Outlier"
      ],
      "metadata": {
        "id": "vHQiHobo5M-j"
      }
    },
    {
      "cell_type": "markdown",
      "source": [
        "- Nilai Percentile dan Quartile dari data dfBalcones"
      ],
      "metadata": {
        "id": "2qKHfl6hXwvm"
      }
    },
    {
      "cell_type": "code",
      "source": [
        "quartBal = percentile(dfBalcones['load_weight'], [25, 50, 75])\n",
        "balcMin, balcMax = dfBalcones['load_weight'].min(), dfBalcones['load_weight'].max()\n",
        "\n",
        "Q0 = quartBal[0]\n",
        "Q1 = quartBal[1]\n",
        "Q2 = quartBal[2]\n",
        "\n",
        "print('Nilai Minimal dfBalcones : ', balcMin)\n",
        "print('Quartile ke 0 dari dfBalcones : ', Q0)\n",
        "print('Quartile ke 1 dari dfBalcones : ', Q1)\n",
        "print('Quartile ke 2 dari dfBalcones : ', Q2)\n",
        "print('Nilai Maximal dfBalcones : ', balcMax)"
      ],
      "metadata": {
        "colab": {
          "base_uri": "https://localhost:8080/"
        },
        "id": "MamHgvRU5lo5",
        "outputId": "81e1fc71-f6dc-4d12-9250-89f6fda301b4"
      },
      "execution_count": 75,
      "outputs": [
        {
          "output_type": "stream",
          "name": "stdout",
          "text": [
            "Nilai Minimal dfBalcones :  140.0\n",
            "Quartile ke 0 dari dfBalcones :  6260.0\n",
            "Quartile ke 1 dari dfBalcones :  9840.0\n",
            "Quartile ke 2 dari dfBalcones :  12080.0\n",
            "Nilai Maximal dfBalcones :  25780.0\n"
          ]
        }
      ]
    },
    {
      "cell_type": "markdown",
      "source": [
        "- Nilai Extreme dfBalcones"
      ],
      "metadata": {
        "id": "D1zdr0TN59kX"
      }
    },
    {
      "cell_type": "code",
      "source": [
        "IQR = Q2 - Q0\n",
        "upper = Q2 + 3 * IQR\n",
        "lower = Q0 + 3 * IQR\n",
        "\n",
        "print('Nilai Extreme dari dfBalcones : ', IQR)\n",
        "print('Nilai Upper dari dfBalcones : ', upper)\n",
        "print('Nilai Lower dari dfBalcones : ', lower)"
      ],
      "metadata": {
        "colab": {
          "base_uri": "https://localhost:8080/"
        },
        "id": "fuxcFxl15XaD",
        "outputId": "67966129-9023-4efb-ce02-9de5b85385be"
      },
      "execution_count": 41,
      "outputs": [
        {
          "output_type": "stream",
          "name": "stdout",
          "text": [
            "Nilai Extreme dari dfBalcones :  5820.0\n",
            "Nilai Upper dari dfBalcones :  29540.0\n",
            "Nilai Lower dari dfBalcones :  23720.0\n"
          ]
        }
      ]
    },
    {
      "cell_type": "code",
      "source": [
        "# Cari data outlier berdasarkan nilai upper dfBalcones\n",
        "\n",
        "dfBalcones.loc[dfBalcones['load_weight'] > 29540]"
      ],
      "metadata": {
        "colab": {
          "base_uri": "https://localhost:8080/",
          "height": 49
        },
        "id": "yhGTd4zI5Oaa",
        "outputId": "6a688340-2dc2-4a87-8c89-7a0c2476effb"
      },
      "execution_count": 42,
      "outputs": [
        {
          "output_type": "execute_result",
          "data": {
            "text/plain": [
              "Empty DataFrame\n",
              "Columns: [load_type, load_weight, dropoff_site, date]\n",
              "Index: []"
            ],
            "text/html": [
              "\n",
              "  <div id=\"df-9c0eaf96-0244-4f2f-b829-990af976fd11\">\n",
              "    <div class=\"colab-df-container\">\n",
              "      <div>\n",
              "<style scoped>\n",
              "    .dataframe tbody tr th:only-of-type {\n",
              "        vertical-align: middle;\n",
              "    }\n",
              "\n",
              "    .dataframe tbody tr th {\n",
              "        vertical-align: top;\n",
              "    }\n",
              "\n",
              "    .dataframe thead th {\n",
              "        text-align: right;\n",
              "    }\n",
              "</style>\n",
              "<table border=\"1\" class=\"dataframe\">\n",
              "  <thead>\n",
              "    <tr style=\"text-align: right;\">\n",
              "      <th></th>\n",
              "      <th>load_type</th>\n",
              "      <th>load_weight</th>\n",
              "      <th>dropoff_site</th>\n",
              "      <th>date</th>\n",
              "    </tr>\n",
              "  </thead>\n",
              "  <tbody>\n",
              "  </tbody>\n",
              "</table>\n",
              "</div>\n",
              "      <button class=\"colab-df-convert\" onclick=\"convertToInteractive('df-9c0eaf96-0244-4f2f-b829-990af976fd11')\"\n",
              "              title=\"Convert this dataframe to an interactive table.\"\n",
              "              style=\"display:none;\">\n",
              "        \n",
              "  <svg xmlns=\"http://www.w3.org/2000/svg\" height=\"24px\"viewBox=\"0 0 24 24\"\n",
              "       width=\"24px\">\n",
              "    <path d=\"M0 0h24v24H0V0z\" fill=\"none\"/>\n",
              "    <path d=\"M18.56 5.44l.94 2.06.94-2.06 2.06-.94-2.06-.94-.94-2.06-.94 2.06-2.06.94zm-11 1L8.5 8.5l.94-2.06 2.06-.94-2.06-.94L8.5 2.5l-.94 2.06-2.06.94zm10 10l.94 2.06.94-2.06 2.06-.94-2.06-.94-.94-2.06-.94 2.06-2.06.94z\"/><path d=\"M17.41 7.96l-1.37-1.37c-.4-.4-.92-.59-1.43-.59-.52 0-1.04.2-1.43.59L10.3 9.45l-7.72 7.72c-.78.78-.78 2.05 0 2.83L4 21.41c.39.39.9.59 1.41.59.51 0 1.02-.2 1.41-.59l7.78-7.78 2.81-2.81c.8-.78.8-2.07 0-2.86zM5.41 20L4 18.59l7.72-7.72 1.47 1.35L5.41 20z\"/>\n",
              "  </svg>\n",
              "      </button>\n",
              "      \n",
              "  <style>\n",
              "    .colab-df-container {\n",
              "      display:flex;\n",
              "      flex-wrap:wrap;\n",
              "      gap: 12px;\n",
              "    }\n",
              "\n",
              "    .colab-df-convert {\n",
              "      background-color: #E8F0FE;\n",
              "      border: none;\n",
              "      border-radius: 50%;\n",
              "      cursor: pointer;\n",
              "      display: none;\n",
              "      fill: #1967D2;\n",
              "      height: 32px;\n",
              "      padding: 0 0 0 0;\n",
              "      width: 32px;\n",
              "    }\n",
              "\n",
              "    .colab-df-convert:hover {\n",
              "      background-color: #E2EBFA;\n",
              "      box-shadow: 0px 1px 2px rgba(60, 64, 67, 0.3), 0px 1px 3px 1px rgba(60, 64, 67, 0.15);\n",
              "      fill: #174EA6;\n",
              "    }\n",
              "\n",
              "    [theme=dark] .colab-df-convert {\n",
              "      background-color: #3B4455;\n",
              "      fill: #D2E3FC;\n",
              "    }\n",
              "\n",
              "    [theme=dark] .colab-df-convert:hover {\n",
              "      background-color: #434B5C;\n",
              "      box-shadow: 0px 1px 3px 1px rgba(0, 0, 0, 0.15);\n",
              "      filter: drop-shadow(0px 1px 2px rgba(0, 0, 0, 0.3));\n",
              "      fill: #FFFFFF;\n",
              "    }\n",
              "  </style>\n",
              "\n",
              "      <script>\n",
              "        const buttonEl =\n",
              "          document.querySelector('#df-9c0eaf96-0244-4f2f-b829-990af976fd11 button.colab-df-convert');\n",
              "        buttonEl.style.display =\n",
              "          google.colab.kernel.accessAllowed ? 'block' : 'none';\n",
              "\n",
              "        async function convertToInteractive(key) {\n",
              "          const element = document.querySelector('#df-9c0eaf96-0244-4f2f-b829-990af976fd11');\n",
              "          const dataTable =\n",
              "            await google.colab.kernel.invokeFunction('convertToInteractive',\n",
              "                                                     [key], {});\n",
              "          if (!dataTable) return;\n",
              "\n",
              "          const docLinkHtml = 'Like what you see? Visit the ' +\n",
              "            '<a target=\"_blank\" href=https://colab.research.google.com/notebooks/data_table.ipynb>data table notebook</a>'\n",
              "            + ' to learn more about interactive tables.';\n",
              "          element.innerHTML = '';\n",
              "          dataTable['output_type'] = 'display_data';\n",
              "          await google.colab.output.renderOutput(dataTable, element);\n",
              "          const docLink = document.createElement('div');\n",
              "          docLink.innerHTML = docLinkHtml;\n",
              "          element.appendChild(docLink);\n",
              "        }\n",
              "      </script>\n",
              "    </div>\n",
              "  </div>\n",
              "  "
            ]
          },
          "metadata": {},
          "execution_count": 42
        }
      ]
    },
    {
      "cell_type": "code",
      "source": [
        "recyclePerc = dfRecycle.loc[dfRecycle['load_weight'] > 29540].value_counts().sum()\n",
        "recyclePerc"
      ],
      "metadata": {
        "colab": {
          "base_uri": "https://localhost:8080/"
        },
        "id": "7BjWDO4m5ydy",
        "outputId": "9c58b374-6c9c-4158-e513-e0f1d226c221"
      },
      "execution_count": 43,
      "outputs": [
        {
          "output_type": "execute_result",
          "data": {
            "text/plain": [
              "0"
            ]
          },
          "metadata": {},
          "execution_count": 43
        }
      ]
    },
    {
      "cell_type": "markdown",
      "source": [
        "Note : tidak ada data outlier dari dfBalcones, jadi tidak perlu dihapus"
      ],
      "metadata": {
        "id": "wIPEcdyu5oxo"
      }
    },
    {
      "cell_type": "markdown",
      "source": [
        "# Problem 1.6 : Pengukuran Range, Variansi dan Standard Deviasi"
      ],
      "metadata": {
        "id": "DC9bEP1uzqKh"
      }
    },
    {
      "cell_type": "code",
      "source": [
        "# Cari Nilai Mean, Median dan Modus dari dfBalcones\n",
        "\n",
        "bMean = dfBalcones['load_weight'].mean()\n",
        "bMed = dfBalcones['load_weight'].median()\n",
        "bMod = dfBalcones['load_weight'].mode()\n",
        "\n",
        "print('Nilai Mean dari data Balcones : ', bMean)\n",
        "print('Nilai Median dari data Balcones : ', bMed)\n",
        "print('Nilai Modus dari data Balcones : ', bMod)"
      ],
      "metadata": {
        "colab": {
          "base_uri": "https://localhost:8080/"
        },
        "id": "AvUxTSo5z1ta",
        "outputId": "65cbead4-a732-4f7b-a740-8018a9341e9e"
      },
      "execution_count": 44,
      "outputs": [
        {
          "output_type": "stream",
          "name": "stdout",
          "text": [
            "Nilai Mean dari data Balcones :  9464.652071931196\n",
            "Nilai Median dari data Balcones :  9840.0\n",
            "Nilai Modus dari data Balcones :  0    11880.0\n",
            "dtype: float64\n"
          ]
        }
      ]
    },
    {
      "cell_type": "code",
      "source": [
        "# Cari Nilai Var & Std dari dfBalcones\n",
        "\n",
        "varBal = dfBalcones['load_weight'].var()\n",
        "stdBal = dfBalcones['load_weight'].std()\n",
        "\n",
        "print('Nilai Var dari data Balcones : ', varBal)\n",
        "print('Nilai Std dari data Balcones : ', stdBal)"
      ],
      "metadata": {
        "colab": {
          "base_uri": "https://localhost:8080/"
        },
        "id": "siswS8xD0tLL",
        "outputId": "471f1054-f902-4d1e-bdea-c1039ad17b9c"
      },
      "execution_count": 45,
      "outputs": [
        {
          "output_type": "stream",
          "name": "stdout",
          "text": [
            "Nilai Var dari data Balcones :  14916926.032459863\n",
            "Nilai Std dari data Balcones :  3862.243652653191\n"
          ]
        }
      ]
    },
    {
      "cell_type": "code",
      "source": [
        "sns.boxplot(data = dfBalcones, y = 'load_weight')"
      ],
      "metadata": {
        "colab": {
          "base_uri": "https://localhost:8080/",
          "height": 269
        },
        "id": "UBauHx4z6I_e",
        "outputId": "9a2f1133-ff6e-4430-c2f2-b584a6f45d72"
      },
      "execution_count": 46,
      "outputs": [
        {
          "output_type": "execute_result",
          "data": {
            "text/plain": [
              "<matplotlib.axes._subplots.AxesSubplot at 0x7f869d5b2850>"
            ]
          },
          "metadata": {},
          "execution_count": 46
        },
        {
          "output_type": "display_data",
          "data": {
            "text/plain": [
              "<Figure size 432x288 with 1 Axes>"
            ],
            "image/png": "[encoded data removed]"
          },
          "metadata": {
            "needs_background": "light"
          }
        }
      ]
    },
    {
      "cell_type": "code",
      "source": [
        "dfBalcones.plot.hist(title = 'BALCONES RECYCLING', color='skyblue', bins=20)\n",
        "plt.axvline(dfBalcones['load_weight'].mean(), color='red', linestyle='dashed', linewidth=2)\n",
        "plt.axvline(dfBalcones['load_weight'].median(), color='black', linestyle='dashed', linewidth=2)\n",
        "plt.show()"
      ],
      "metadata": {
        "colab": {
          "base_uri": "https://localhost:8080/",
          "height": 281
        },
        "id": "DBnMNJgkNMLP",
        "outputId": "792a6a33-1cb7-4184-fece-84c728c8d22b"
      },
      "execution_count": 49,
      "outputs": [
        {
          "output_type": "display_data",
          "data": {
            "text/plain": [
              "<Figure size 432x288 with 1 Axes>"
            ],
            "image/png": "[encoded data removed]"
          },
          "metadata": {
            "needs_background": "light"
          }
        }
      ]
    },
    {
      "cell_type": "markdown",
      "source": [
        "note : plot data after check the outliers in `BALCONES RECYCLING` "
      ],
      "metadata": {
        "id": "SZMd_35ROH-F"
      }
    },
    {
      "cell_type": "markdown",
      "source": [
        "- Karena tidak ada data outlier dan kita masih perlu analisa ulang setelah itu, maka perhitungannya hampir sama dengan perhitungan yang diatas"
      ],
      "metadata": {
        "id": "7ntpiyUvOa7i"
      }
    },
    {
      "cell_type": "code",
      "source": [
        "# Cari Nilai Mean, Median dan Modus dari dfBalcones\n",
        "\n",
        "bMean = dfBalcones['load_weight'].mean()\n",
        "bMed = dfBalcones['load_weight'].median()\n",
        "bMod = dfBalcones['load_weight'].mode()\n",
        "\n",
        "print('Nilai Mean dari data Balcones : ', bMean)\n",
        "print('Nilai Median dari data Balcones : ', bMed)\n",
        "print('Nilai Modus dari data Balcones : ', bMod)"
      ],
      "metadata": {
        "colab": {
          "base_uri": "https://localhost:8080/"
        },
        "id": "763lmiKKOjzf",
        "outputId": "140f36c1-0244-477e-fe6d-1c08bd8cead8"
      },
      "execution_count": 50,
      "outputs": [
        {
          "output_type": "stream",
          "name": "stdout",
          "text": [
            "Nilai Mean dari data Balcones :  9464.652071931196\n",
            "Nilai Median dari data Balcones :  9840.0\n",
            "Nilai Modus dari data Balcones :  0    11880.0\n",
            "dtype: float64\n"
          ]
        }
      ]
    },
    {
      "cell_type": "code",
      "source": [
        "dfBalcones.apply(pd.Series.mode)"
      ],
      "metadata": {
        "colab": {
          "base_uri": "https://localhost:8080/",
          "height": 81
        },
        "id": "U4mdVX9wOoBM",
        "outputId": "06d7ec41-56c5-4ff3-e2b2-77674848a173"
      },
      "execution_count": 52,
      "outputs": [
        {
          "output_type": "execute_result",
          "data": {
            "text/plain": [
              "                   load_type  load_weight        dropoff_site        date\n",
              "0  RECYCLING - SINGLE STREAM      11880.0  BALCONES RECYCLING  2021-03-04"
            ],
            "text/html": [
              "\n",
              "  <div id=\"df-6f92770e-d85a-4a4e-989f-7c6959c07139\">\n",
              "    <div class=\"colab-df-container\">\n",
              "      <div>\n",
              "<style scoped>\n",
              "    .dataframe tbody tr th:only-of-type {\n",
              "        vertical-align: middle;\n",
              "    }\n",
              "\n",
              "    .dataframe tbody tr th {\n",
              "        vertical-align: top;\n",
              "    }\n",
              "\n",
              "    .dataframe thead th {\n",
              "        text-align: right;\n",
              "    }\n",
              "</style>\n",
              "<table border=\"1\" class=\"dataframe\">\n",
              "  <thead>\n",
              "    <tr style=\"text-align: right;\">\n",
              "      <th></th>\n",
              "      <th>load_type</th>\n",
              "      <th>load_weight</th>\n",
              "      <th>dropoff_site</th>\n",
              "      <th>date</th>\n",
              "    </tr>\n",
              "  </thead>\n",
              "  <tbody>\n",
              "    <tr>\n",
              "      <th>0</th>\n",
              "      <td>RECYCLING - SINGLE STREAM</td>\n",
              "      <td>11880.0</td>\n",
              "      <td>BALCONES RECYCLING</td>\n",
              "      <td>2021-03-04</td>\n",
              "    </tr>\n",
              "  </tbody>\n",
              "</table>\n",
              "</div>\n",
              "      <button class=\"colab-df-convert\" onclick=\"convertToInteractive('df-6f92770e-d85a-4a4e-989f-7c6959c07139')\"\n",
              "              title=\"Convert this dataframe to an interactive table.\"\n",
              "              style=\"display:none;\">\n",
              "        \n",
              "  <svg xmlns=\"http://www.w3.org/2000/svg\" height=\"24px\"viewBox=\"0 0 24 24\"\n",
              "       width=\"24px\">\n",
              "    <path d=\"M0 0h24v24H0V0z\" fill=\"none\"/>\n",
              "    <path d=\"M18.56 5.44l.94 2.06.94-2.06 2.06-.94-2.06-.94-.94-2.06-.94 2.06-2.06.94zm-11 1L8.5 8.5l.94-2.06 2.06-.94-2.06-.94L8.5 2.5l-.94 2.06-2.06.94zm10 10l.94 2.06.94-2.06 2.06-.94-2.06-.94-.94-2.06-.94 2.06-2.06.94z\"/><path d=\"M17.41 7.96l-1.37-1.37c-.4-.4-.92-.59-1.43-.59-.52 0-1.04.2-1.43.59L10.3 9.45l-7.72 7.72c-.78.78-.78 2.05 0 2.83L4 21.41c.39.39.9.59 1.41.59.51 0 1.02-.2 1.41-.59l7.78-7.78 2.81-2.81c.8-.78.8-2.07 0-2.86zM5.41 20L4 18.59l7.72-7.72 1.47 1.35L5.41 20z\"/>\n",
              "  </svg>\n",
              "      </button>\n",
              "      \n",
              "  <style>\n",
              "    .colab-df-container {\n",
              "      display:flex;\n",
              "      flex-wrap:wrap;\n",
              "      gap: 12px;\n",
              "    }\n",
              "\n",
              "    .colab-df-convert {\n",
              "      background-color: #E8F0FE;\n",
              "      border: none;\n",
              "      border-radius: 50%;\n",
              "      cursor: pointer;\n",
              "      display: none;\n",
              "      fill: #1967D2;\n",
              "      height: 32px;\n",
              "      padding: 0 0 0 0;\n",
              "      width: 32px;\n",
              "    }\n",
              "\n",
              "    .colab-df-convert:hover {\n",
              "      background-color: #E2EBFA;\n",
              "      box-shadow: 0px 1px 2px rgba(60, 64, 67, 0.3), 0px 1px 3px 1px rgba(60, 64, 67, 0.15);\n",
              "      fill: #174EA6;\n",
              "    }\n",
              "\n",
              "    [theme=dark] .colab-df-convert {\n",
              "      background-color: #3B4455;\n",
              "      fill: #D2E3FC;\n",
              "    }\n",
              "\n",
              "    [theme=dark] .colab-df-convert:hover {\n",
              "      background-color: #434B5C;\n",
              "      box-shadow: 0px 1px 3px 1px rgba(0, 0, 0, 0.15);\n",
              "      filter: drop-shadow(0px 1px 2px rgba(0, 0, 0, 0.3));\n",
              "      fill: #FFFFFF;\n",
              "    }\n",
              "  </style>\n",
              "\n",
              "      <script>\n",
              "        const buttonEl =\n",
              "          document.querySelector('#df-6f92770e-d85a-4a4e-989f-7c6959c07139 button.colab-df-convert');\n",
              "        buttonEl.style.display =\n",
              "          google.colab.kernel.accessAllowed ? 'block' : 'none';\n",
              "\n",
              "        async function convertToInteractive(key) {\n",
              "          const element = document.querySelector('#df-6f92770e-d85a-4a4e-989f-7c6959c07139');\n",
              "          const dataTable =\n",
              "            await google.colab.kernel.invokeFunction('convertToInteractive',\n",
              "                                                     [key], {});\n",
              "          if (!dataTable) return;\n",
              "\n",
              "          const docLinkHtml = 'Like what you see? Visit the ' +\n",
              "            '<a target=\"_blank\" href=https://colab.research.google.com/notebooks/data_table.ipynb>data table notebook</a>'\n",
              "            + ' to learn more about interactive tables.';\n",
              "          element.innerHTML = '';\n",
              "          dataTable['output_type'] = 'display_data';\n",
              "          await google.colab.output.renderOutput(dataTable, element);\n",
              "          const docLink = document.createElement('div');\n",
              "          docLink.innerHTML = docLinkHtml;\n",
              "          element.appendChild(docLink);\n",
              "        }\n",
              "      </script>\n",
              "    </div>\n",
              "  </div>\n",
              "  "
            ]
          },
          "metadata": {},
          "execution_count": 52
        }
      ]
    },
    {
      "cell_type": "markdown",
      "source": [
        "note : nilai modus dari `droppoff_site` `BALCONES RECYCLING` adalah 11880"
      ],
      "metadata": {
        "id": "DAQesOMzO5tj"
      }
    },
    {
      "cell_type": "markdown",
      "source": [
        "- Data Comparison\n",
        "  - Data yang diambil adalah data dari site ``"
      ],
      "metadata": {
        "id": "-G2t_abKPPsL"
      }
    },
    {
      "cell_type": "code",
      "source": [
        "dfMetal = dfCopy.loc[dfCopy['load_type'] == 'RECYCLED METAL']\n",
        "dfMetal"
      ],
      "metadata": {
        "colab": {
          "base_uri": "https://localhost:8080/",
          "height": 1000
        },
        "id": "Nqe686ymPXhy",
        "outputId": "d9901b83-af3a-4fc1-c6fd-9a4147d2e0b7"
      },
      "execution_count": 63,
      "outputs": [
        {
          "output_type": "execute_result",
          "data": {
            "text/plain": [
              "            load_type  load_weight           dropoff_site        date\n",
              "1083   RECYCLED METAL        320.0  AUSTIN IRON AND METAL  2021-07-08\n",
              "1314   RECYCLED METAL        520.0  AUSTIN IRON AND METAL  2021-03-02\n",
              "1477   RECYCLED METAL       8260.0       ORGANICS BY GOSH  2021-03-03\n",
              "2273   RECYCLED METAL        350.0  AUSTIN IRON AND METAL  2021-03-08\n",
              "2529   RECYCLED METAL        280.0  AUSTIN IRON AND METAL  2021-03-09\n",
              "2785   RECYCLED METAL        500.0  AUSTIN IRON AND METAL  2021-03-10\n",
              "3025   RECYCLED METAL        630.0  AUSTIN IRON AND METAL  2021-03-11\n",
              "3474   RECYCLED METAL       1040.0  AUSTIN IRON AND METAL  2021-03-15\n",
              "4530   RECYCLED METAL       5160.0       ORGANICS BY GOSH  2021-03-22\n",
              "4790   RECYCLED METAL        290.0  AUSTIN IRON AND METAL  2021-03-23\n",
              "6445   RECYCLED METAL      17440.0       ORGANICS BY GOSH  2021-04-02\n",
              "6888   RECYCLED METAL        290.0  AUSTIN IRON AND METAL  2021-04-06\n",
              "7642   RECYCLED METAL        240.0  AUSTIN IRON AND METAL  2021-04-12\n",
              "7814   RECYCLED METAL      20760.0       ORGANICS BY GOSH  2021-04-13\n",
              "8713   RECYCLED METAL        480.0  AUSTIN IRON AND METAL  2021-04-19\n",
              "9122   RECYCLED METAL        710.0  AUSTIN IRON AND METAL  2021-04-21\n",
              "9320   RECYCLED METAL        560.0  AUSTIN IRON AND METAL  2021-04-22\n",
              "9876   RECYCLED METAL        260.0  AUSTIN IRON AND METAL  2021-04-27\n",
              "10083  RECYCLED METAL        400.0  AUSTIN IRON AND METAL  2021-04-28\n",
              "10247  RECYCLED METAL        470.0  AUSTIN IRON AND METAL  2021-04-29\n",
              "10598  RECYCLED METAL        300.0  AUSTIN IRON AND METAL  2021-05-03\n",
              "10787  RECYCLED METAL        520.0  AUSTIN IRON AND METAL  2021-05-04\n",
              "10976  RECYCLED METAL        650.0  AUSTIN IRON AND METAL  2021-05-05\n",
              "11151  RECYCLED METAL        550.0  AUSTIN IRON AND METAL  2021-05-06\n",
              "11518  RECYCLED METAL        660.0  AUSTIN IRON AND METAL  2021-05-10\n",
              "11706  RECYCLED METAL       1060.0  AUSTIN IRON AND METAL  2021-05-11\n",
              "11920  RECYCLED METAL        600.0  AUSTIN IRON AND METAL  2021-05-12\n",
              "12114  RECYCLED METAL        320.0  AUSTIN IRON AND METAL  2021-05-13\n",
              "12681  RECYCLED METAL        520.0  AUSTIN IRON AND METAL  2021-05-18\n",
              "13040  RECYCLED METAL        230.0  AUSTIN IRON AND METAL  2021-05-20\n",
              "13576  RECYCLED METAL        600.0  AUSTIN IRON AND METAL  2021-05-25\n",
              "13958  RECYCLED METAL        220.0  AUSTIN IRON AND METAL  2021-05-27\n",
              "14468  RECYCLED METAL        530.0  AUSTIN IRON AND METAL  2021-06-01\n",
              "14817  RECYCLED METAL        260.0  AUSTIN IRON AND METAL  2021-06-03\n",
              "15168  RECYCLED METAL        510.0  AUSTIN IRON AND METAL  2021-06-07\n",
              "15355  RECYCLED METAL        320.0  AUSTIN IRON AND METAL  2021-06-08\n",
              "15764  RECYCLED METAL        340.0  AUSTIN IRON AND METAL  2021-06-10\n",
              "16129  RECYCLED METAL        230.0                    MRF  2021-06-15\n",
              "16499  RECYCLED METAL        160.0  AUSTIN IRON AND METAL  2021-06-16\n",
              "16644  RECYCLED METAL      11040.0       ORGANICS BY GOSH  2021-06-17\n",
              "16702  RECYCLED METAL        380.0  AUSTIN IRON AND METAL  2021-06-17\n",
              "17063  RECYCLED METAL        340.0  AUSTIN IRON AND METAL  2021-06-21\n",
              "17250  RECYCLED METAL        800.0  AUSTIN IRON AND METAL  2021-06-22\n",
              "17444  RECYCLED METAL        460.0  AUSTIN IRON AND METAL  2021-06-23\n",
              "17561  RECYCLED METAL        220.0           TDS LANDFILL  2021-06-24\n",
              "18979  RECYCLED METAL        150.0  AUSTIN IRON AND METAL  2021-07-06\n",
              "19127  RECYCLED METAL        540.0  AUSTIN IRON AND METAL  2021-07-07\n",
              "19687  RECYCLED METAL        260.0  AUSTIN IRON AND METAL  2021-01-05\n",
              "19872  RECYCLED METAL        220.0  AUSTIN IRON AND METAL  2021-01-06\n",
              "20785  RECYCLED METAL        640.0  AUSTIN IRON AND METAL  2021-01-13\n",
              "21516  RECYCLED METAL        830.0  AUSTIN IRON AND METAL  2021-01-19\n",
              "23735  RECYCLED METAL        140.0  AUSTIN IRON AND METAL  2021-02-04\n",
              "24099  RECYCLED METAL        390.0  AUSTIN IRON AND METAL  2021-02-08\n",
              "24288  RECYCLED METAL        780.0  AUSTIN IRON AND METAL  2021-02-09\n",
              "24501  RECYCLED METAL        180.0  AUSTIN IRON AND METAL  2021-02-10\n",
              "25156  RECYCLED METAL        400.0  AUSTIN IRON AND METAL  2021-02-23\n",
              "26156  RECYCLED METAL        360.0  AUSTIN IRON AND METAL  2021-03-01"
            ],
            "text/html": [
              "\n",
              "  <div id=\"df-32548b25-10ac-4b32-bc1b-7e3cf3572c26\">\n",
              "    <div class=\"colab-df-container\">\n",
              "      <div>\n",
              "<style scoped>\n",
              "    .dataframe tbody tr th:only-of-type {\n",
              "        vertical-align: middle;\n",
              "    }\n",
              "\n",
              "    .dataframe tbody tr th {\n",
              "        vertical-align: top;\n",
              "    }\n",
              "\n",
              "    .dataframe thead th {\n",
              "        text-align: right;\n",
              "    }\n",
              "</style>\n",
              "<table border=\"1\" class=\"dataframe\">\n",
              "  <thead>\n",
              "    <tr style=\"text-align: right;\">\n",
              "      <th></th>\n",
              "      <th>load_type</th>\n",
              "      <th>load_weight</th>\n",
              "      <th>dropoff_site</th>\n",
              "      <th>date</th>\n",
              "    </tr>\n",
              "  </thead>\n",
              "  <tbody>\n",
              "    <tr>\n",
              "      <th>1083</th>\n",
              "      <td>RECYCLED METAL</td>\n",
              "      <td>320.0</td>\n",
              "      <td>AUSTIN IRON AND METAL</td>\n",
              "      <td>2021-07-08</td>\n",
              "    </tr>\n",
              "    <tr>\n",
              "      <th>1314</th>\n",
              "      <td>RECYCLED METAL</td>\n",
              "      <td>520.0</td>\n",
              "      <td>AUSTIN IRON AND METAL</td>\n",
              "      <td>2021-03-02</td>\n",
              "    </tr>\n",
              "    <tr>\n",
              "      <th>1477</th>\n",
              "      <td>RECYCLED METAL</td>\n",
              "      <td>8260.0</td>\n",
              "      <td>ORGANICS BY GOSH</td>\n",
              "      <td>2021-03-03</td>\n",
              "    </tr>\n",
              "    <tr>\n",
              "      <th>2273</th>\n",
              "      <td>RECYCLED METAL</td>\n",
              "      <td>350.0</td>\n",
              "      <td>AUSTIN IRON AND METAL</td>\n",
              "      <td>2021-03-08</td>\n",
              "    </tr>\n",
              "    <tr>\n",
              "      <th>2529</th>\n",
              "      <td>RECYCLED METAL</td>\n",
              "      <td>280.0</td>\n",
              "      <td>AUSTIN IRON AND METAL</td>\n",
              "      <td>2021-03-09</td>\n",
              "    </tr>\n",
              "    <tr>\n",
              "      <th>2785</th>\n",
              "      <td>RECYCLED METAL</td>\n",
              "      <td>500.0</td>\n",
              "      <td>AUSTIN IRON AND METAL</td>\n",
              "      <td>2021-03-10</td>\n",
              "    </tr>\n",
              "    <tr>\n",
              "      <th>3025</th>\n",
              "      <td>RECYCLED METAL</td>\n",
              "      <td>630.0</td>\n",
              "      <td>AUSTIN IRON AND METAL</td>\n",
              "      <td>2021-03-11</td>\n",
              "    </tr>\n",
              "    <tr>\n",
              "      <th>3474</th>\n",
              "      <td>RECYCLED METAL</td>\n",
              "      <td>1040.0</td>\n",
              "      <td>AUSTIN IRON AND METAL</td>\n",
              "      <td>2021-03-15</td>\n",
              "    </tr>\n",
              "    <tr>\n",
              "      <th>4530</th>\n",
              "      <td>RECYCLED METAL</td>\n",
              "      <td>5160.0</td>\n",
              "      <td>ORGANICS BY GOSH</td>\n",
              "      <td>2021-03-22</td>\n",
              "    </tr>\n",
              "    <tr>\n",
              "      <th>4790</th>\n",
              "      <td>RECYCLED METAL</td>\n",
              "      <td>290.0</td>\n",
              "      <td>AUSTIN IRON AND METAL</td>\n",
              "      <td>2021-03-23</td>\n",
              "    </tr>\n",
              "    <tr>\n",
              "      <th>6445</th>\n",
              "      <td>RECYCLED METAL</td>\n",
              "      <td>17440.0</td>\n",
              "      <td>ORGANICS BY GOSH</td>\n",
              "      <td>2021-04-02</td>\n",
              "    </tr>\n",
              "    <tr>\n",
              "      <th>6888</th>\n",
              "      <td>RECYCLED METAL</td>\n",
              "      <td>290.0</td>\n",
              "      <td>AUSTIN IRON AND METAL</td>\n",
              "      <td>2021-04-06</td>\n",
              "    </tr>\n",
              "    <tr>\n",
              "      <th>7642</th>\n",
              "      <td>RECYCLED METAL</td>\n",
              "      <td>240.0</td>\n",
              "      <td>AUSTIN IRON AND METAL</td>\n",
              "      <td>2021-04-12</td>\n",
              "    </tr>\n",
              "    <tr>\n",
              "      <th>7814</th>\n",
              "      <td>RECYCLED METAL</td>\n",
              "      <td>20760.0</td>\n",
              "      <td>ORGANICS BY GOSH</td>\n",
              "      <td>2021-04-13</td>\n",
              "    </tr>\n",
              "    <tr>\n",
              "      <th>8713</th>\n",
              "      <td>RECYCLED METAL</td>\n",
              "      <td>480.0</td>\n",
              "      <td>AUSTIN IRON AND METAL</td>\n",
              "      <td>2021-04-19</td>\n",
              "    </tr>\n",
              "    <tr>\n",
              "      <th>9122</th>\n",
              "      <td>RECYCLED METAL</td>\n",
              "      <td>710.0</td>\n",
              "      <td>AUSTIN IRON AND METAL</td>\n",
              "      <td>2021-04-21</td>\n",
              "    </tr>\n",
              "    <tr>\n",
              "      <th>9320</th>\n",
              "      <td>RECYCLED METAL</td>\n",
              "      <td>560.0</td>\n",
              "      <td>AUSTIN IRON AND METAL</td>\n",
              "      <td>2021-04-22</td>\n",
              "    </tr>\n",
              "    <tr>\n",
              "      <th>9876</th>\n",
              "      <td>RECYCLED METAL</td>\n",
              "      <td>260.0</td>\n",
              "      <td>AUSTIN IRON AND METAL</td>\n",
              "      <td>2021-04-27</td>\n",
              "    </tr>\n",
              "    <tr>\n",
              "      <th>10083</th>\n",
              "      <td>RECYCLED METAL</td>\n",
              "      <td>400.0</td>\n",
              "      <td>AUSTIN IRON AND METAL</td>\n",
              "      <td>2021-04-28</td>\n",
              "    </tr>\n",
              "    <tr>\n",
              "      <th>10247</th>\n",
              "      <td>RECYCLED METAL</td>\n",
              "      <td>470.0</td>\n",
              "      <td>AUSTIN IRON AND METAL</td>\n",
              "      <td>2021-04-29</td>\n",
              "    </tr>\n",
              "    <tr>\n",
              "      <th>10598</th>\n",
              "      <td>RECYCLED METAL</td>\n",
              "      <td>300.0</td>\n",
              "      <td>AUSTIN IRON AND METAL</td>\n",
              "      <td>2021-05-03</td>\n",
              "    </tr>\n",
              "    <tr>\n",
              "      <th>10787</th>\n",
              "      <td>RECYCLED METAL</td>\n",
              "      <td>520.0</td>\n",
              "      <td>AUSTIN IRON AND METAL</td>\n",
              "      <td>2021-05-04</td>\n",
              "    </tr>\n",
              "    <tr>\n",
              "      <th>10976</th>\n",
              "      <td>RECYCLED METAL</td>\n",
              "      <td>650.0</td>\n",
              "      <td>AUSTIN IRON AND METAL</td>\n",
              "      <td>2021-05-05</td>\n",
              "    </tr>\n",
              "    <tr>\n",
              "      <th>11151</th>\n",
              "      <td>RECYCLED METAL</td>\n",
              "      <td>550.0</td>\n",
              "      <td>AUSTIN IRON AND METAL</td>\n",
              "      <td>2021-05-06</td>\n",
              "    </tr>\n",
              "    <tr>\n",
              "      <th>11518</th>\n",
              "      <td>RECYCLED METAL</td>\n",
              "      <td>660.0</td>\n",
              "      <td>AUSTIN IRON AND METAL</td>\n",
              "      <td>2021-05-10</td>\n",
              "    </tr>\n",
              "    <tr>\n",
              "      <th>11706</th>\n",
              "      <td>RECYCLED METAL</td>\n",
              "      <td>1060.0</td>\n",
              "      <td>AUSTIN IRON AND METAL</td>\n",
              "      <td>2021-05-11</td>\n",
              "    </tr>\n",
              "    <tr>\n",
              "      <th>11920</th>\n",
              "      <td>RECYCLED METAL</td>\n",
              "      <td>600.0</td>\n",
              "      <td>AUSTIN IRON AND METAL</td>\n",
              "      <td>2021-05-12</td>\n",
              "    </tr>\n",
              "    <tr>\n",
              "      <th>12114</th>\n",
              "      <td>RECYCLED METAL</td>\n",
              "      <td>320.0</td>\n",
              "      <td>AUSTIN IRON AND METAL</td>\n",
              "      <td>2021-05-13</td>\n",
              "    </tr>\n",
              "    <tr>\n",
              "      <th>12681</th>\n",
              "      <td>RECYCLED METAL</td>\n",
              "      <td>520.0</td>\n",
              "      <td>AUSTIN IRON AND METAL</td>\n",
              "      <td>2021-05-18</td>\n",
              "    </tr>\n",
              "    <tr>\n",
              "      <th>13040</th>\n",
              "      <td>RECYCLED METAL</td>\n",
              "      <td>230.0</td>\n",
              "      <td>AUSTIN IRON AND METAL</td>\n",
              "      <td>2021-05-20</td>\n",
              "    </tr>\n",
              "    <tr>\n",
              "      <th>13576</th>\n",
              "      <td>RECYCLED METAL</td>\n",
              "      <td>600.0</td>\n",
              "      <td>AUSTIN IRON AND METAL</td>\n",
              "      <td>2021-05-25</td>\n",
              "    </tr>\n",
              "    <tr>\n",
              "      <th>13958</th>\n",
              "      <td>RECYCLED METAL</td>\n",
              "      <td>220.0</td>\n",
              "      <td>AUSTIN IRON AND METAL</td>\n",
              "      <td>2021-05-27</td>\n",
              "    </tr>\n",
              "    <tr>\n",
              "      <th>14468</th>\n",
              "      <td>RECYCLED METAL</td>\n",
              "      <td>530.0</td>\n",
              "      <td>AUSTIN IRON AND METAL</td>\n",
              "      <td>2021-06-01</td>\n",
              "    </tr>\n",
              "    <tr>\n",
              "      <th>14817</th>\n",
              "      <td>RECYCLED METAL</td>\n",
              "      <td>260.0</td>\n",
              "      <td>AUSTIN IRON AND METAL</td>\n",
              "      <td>2021-06-03</td>\n",
              "    </tr>\n",
              "    <tr>\n",
              "      <th>15168</th>\n",
              "      <td>RECYCLED METAL</td>\n",
              "      <td>510.0</td>\n",
              "      <td>AUSTIN IRON AND METAL</td>\n",
              "      <td>2021-06-07</td>\n",
              "    </tr>\n",
              "    <tr>\n",
              "      <th>15355</th>\n",
              "      <td>RECYCLED METAL</td>\n",
              "      <td>320.0</td>\n",
              "      <td>AUSTIN IRON AND METAL</td>\n",
              "      <td>2021-06-08</td>\n",
              "    </tr>\n",
              "    <tr>\n",
              "      <th>15764</th>\n",
              "      <td>RECYCLED METAL</td>\n",
              "      <td>340.0</td>\n",
              "      <td>AUSTIN IRON AND METAL</td>\n",
              "      <td>2021-06-10</td>\n",
              "    </tr>\n",
              "    <tr>\n",
              "      <th>16129</th>\n",
              "      <td>RECYCLED METAL</td>\n",
              "      <td>230.0</td>\n",
              "      <td>MRF</td>\n",
              "      <td>2021-06-15</td>\n",
              "    </tr>\n",
              "    <tr>\n",
              "      <th>16499</th>\n",
              "      <td>RECYCLED METAL</td>\n",
              "      <td>160.0</td>\n",
              "      <td>AUSTIN IRON AND METAL</td>\n",
              "      <td>2021-06-16</td>\n",
              "    </tr>\n",
              "    <tr>\n",
              "      <th>16644</th>\n",
              "      <td>RECYCLED METAL</td>\n",
              "      <td>11040.0</td>\n",
              "      <td>ORGANICS BY GOSH</td>\n",
              "      <td>2021-06-17</td>\n",
              "    </tr>\n",
              "    <tr>\n",
              "      <th>16702</th>\n",
              "      <td>RECYCLED METAL</td>\n",
              "      <td>380.0</td>\n",
              "      <td>AUSTIN IRON AND METAL</td>\n",
              "      <td>2021-06-17</td>\n",
              "    </tr>\n",
              "    <tr>\n",
              "      <th>17063</th>\n",
              "      <td>RECYCLED METAL</td>\n",
              "      <td>340.0</td>\n",
              "      <td>AUSTIN IRON AND METAL</td>\n",
              "      <td>2021-06-21</td>\n",
              "    </tr>\n",
              "    <tr>\n",
              "      <th>17250</th>\n",
              "      <td>RECYCLED METAL</td>\n",
              "      <td>800.0</td>\n",
              "      <td>AUSTIN IRON AND METAL</td>\n",
              "      <td>2021-06-22</td>\n",
              "    </tr>\n",
              "    <tr>\n",
              "      <th>17444</th>\n",
              "      <td>RECYCLED METAL</td>\n",
              "      <td>460.0</td>\n",
              "      <td>AUSTIN IRON AND METAL</td>\n",
              "      <td>2021-06-23</td>\n",
              "    </tr>\n",
              "    <tr>\n",
              "      <th>17561</th>\n",
              "      <td>RECYCLED METAL</td>\n",
              "      <td>220.0</td>\n",
              "      <td>TDS LANDFILL</td>\n",
              "      <td>2021-06-24</td>\n",
              "    </tr>\n",
              "    <tr>\n",
              "      <th>18979</th>\n",
              "      <td>RECYCLED METAL</td>\n",
              "      <td>150.0</td>\n",
              "      <td>AUSTIN IRON AND METAL</td>\n",
              "      <td>2021-07-06</td>\n",
              "    </tr>\n",
              "    <tr>\n",
              "      <th>19127</th>\n",
              "      <td>RECYCLED METAL</td>\n",
              "      <td>540.0</td>\n",
              "      <td>AUSTIN IRON AND METAL</td>\n",
              "      <td>2021-07-07</td>\n",
              "    </tr>\n",
              "    <tr>\n",
              "      <th>19687</th>\n",
              "      <td>RECYCLED METAL</td>\n",
              "      <td>260.0</td>\n",
              "      <td>AUSTIN IRON AND METAL</td>\n",
              "      <td>2021-01-05</td>\n",
              "    </tr>\n",
              "    <tr>\n",
              "      <th>19872</th>\n",
              "      <td>RECYCLED METAL</td>\n",
              "      <td>220.0</td>\n",
              "      <td>AUSTIN IRON AND METAL</td>\n",
              "      <td>2021-01-06</td>\n",
              "    </tr>\n",
              "    <tr>\n",
              "      <th>20785</th>\n",
              "      <td>RECYCLED METAL</td>\n",
              "      <td>640.0</td>\n",
              "      <td>AUSTIN IRON AND METAL</td>\n",
              "      <td>2021-01-13</td>\n",
              "    </tr>\n",
              "    <tr>\n",
              "      <th>21516</th>\n",
              "      <td>RECYCLED METAL</td>\n",
              "      <td>830.0</td>\n",
              "      <td>AUSTIN IRON AND METAL</td>\n",
              "      <td>2021-01-19</td>\n",
              "    </tr>\n",
              "    <tr>\n",
              "      <th>23735</th>\n",
              "      <td>RECYCLED METAL</td>\n",
              "      <td>140.0</td>\n",
              "      <td>AUSTIN IRON AND METAL</td>\n",
              "      <td>2021-02-04</td>\n",
              "    </tr>\n",
              "    <tr>\n",
              "      <th>24099</th>\n",
              "      <td>RECYCLED METAL</td>\n",
              "      <td>390.0</td>\n",
              "      <td>AUSTIN IRON AND METAL</td>\n",
              "      <td>2021-02-08</td>\n",
              "    </tr>\n",
              "    <tr>\n",
              "      <th>24288</th>\n",
              "      <td>RECYCLED METAL</td>\n",
              "      <td>780.0</td>\n",
              "      <td>AUSTIN IRON AND METAL</td>\n",
              "      <td>2021-02-09</td>\n",
              "    </tr>\n",
              "    <tr>\n",
              "      <th>24501</th>\n",
              "      <td>RECYCLED METAL</td>\n",
              "      <td>180.0</td>\n",
              "      <td>AUSTIN IRON AND METAL</td>\n",
              "      <td>2021-02-10</td>\n",
              "    </tr>\n",
              "    <tr>\n",
              "      <th>25156</th>\n",
              "      <td>RECYCLED METAL</td>\n",
              "      <td>400.0</td>\n",
              "      <td>AUSTIN IRON AND METAL</td>\n",
              "      <td>2021-02-23</td>\n",
              "    </tr>\n",
              "    <tr>\n",
              "      <th>26156</th>\n",
              "      <td>RECYCLED METAL</td>\n",
              "      <td>360.0</td>\n",
              "      <td>AUSTIN IRON AND METAL</td>\n",
              "      <td>2021-03-01</td>\n",
              "    </tr>\n",
              "  </tbody>\n",
              "</table>\n",
              "</div>\n",
              "      <button class=\"colab-df-convert\" onclick=\"convertToInteractive('df-32548b25-10ac-4b32-bc1b-7e3cf3572c26')\"\n",
              "              title=\"Convert this dataframe to an interactive table.\"\n",
              "              style=\"display:none;\">\n",
              "        \n",
              "  <svg xmlns=\"http://www.w3.org/2000/svg\" height=\"24px\"viewBox=\"0 0 24 24\"\n",
              "       width=\"24px\">\n",
              "    <path d=\"M0 0h24v24H0V0z\" fill=\"none\"/>\n",
              "    <path d=\"M18.56 5.44l.94 2.06.94-2.06 2.06-.94-2.06-.94-.94-2.06-.94 2.06-2.06.94zm-11 1L8.5 8.5l.94-2.06 2.06-.94-2.06-.94L8.5 2.5l-.94 2.06-2.06.94zm10 10l.94 2.06.94-2.06 2.06-.94-2.06-.94-.94-2.06-.94 2.06-2.06.94z\"/><path d=\"M17.41 7.96l-1.37-1.37c-.4-.4-.92-.59-1.43-.59-.52 0-1.04.2-1.43.59L10.3 9.45l-7.72 7.72c-.78.78-.78 2.05 0 2.83L4 21.41c.39.39.9.59 1.41.59.51 0 1.02-.2 1.41-.59l7.78-7.78 2.81-2.81c.8-.78.8-2.07 0-2.86zM5.41 20L4 18.59l7.72-7.72 1.47 1.35L5.41 20z\"/>\n",
              "  </svg>\n",
              "      </button>\n",
              "      \n",
              "  <style>\n",
              "    .colab-df-container {\n",
              "      display:flex;\n",
              "      flex-wrap:wrap;\n",
              "      gap: 12px;\n",
              "    }\n",
              "\n",
              "    .colab-df-convert {\n",
              "      background-color: #E8F0FE;\n",
              "      border: none;\n",
              "      border-radius: 50%;\n",
              "      cursor: pointer;\n",
              "      display: none;\n",
              "      fill: #1967D2;\n",
              "      height: 32px;\n",
              "      padding: 0 0 0 0;\n",
              "      width: 32px;\n",
              "    }\n",
              "\n",
              "    .colab-df-convert:hover {\n",
              "      background-color: #E2EBFA;\n",
              "      box-shadow: 0px 1px 2px rgba(60, 64, 67, 0.3), 0px 1px 3px 1px rgba(60, 64, 67, 0.15);\n",
              "      fill: #174EA6;\n",
              "    }\n",
              "\n",
              "    [theme=dark] .colab-df-convert {\n",
              "      background-color: #3B4455;\n",
              "      fill: #D2E3FC;\n",
              "    }\n",
              "\n",
              "    [theme=dark] .colab-df-convert:hover {\n",
              "      background-color: #434B5C;\n",
              "      box-shadow: 0px 1px 3px 1px rgba(0, 0, 0, 0.15);\n",
              "      filter: drop-shadow(0px 1px 2px rgba(0, 0, 0, 0.3));\n",
              "      fill: #FFFFFF;\n",
              "    }\n",
              "  </style>\n",
              "\n",
              "      <script>\n",
              "        const buttonEl =\n",
              "          document.querySelector('#df-32548b25-10ac-4b32-bc1b-7e3cf3572c26 button.colab-df-convert');\n",
              "        buttonEl.style.display =\n",
              "          google.colab.kernel.accessAllowed ? 'block' : 'none';\n",
              "\n",
              "        async function convertToInteractive(key) {\n",
              "          const element = document.querySelector('#df-32548b25-10ac-4b32-bc1b-7e3cf3572c26');\n",
              "          const dataTable =\n",
              "            await google.colab.kernel.invokeFunction('convertToInteractive',\n",
              "                                                     [key], {});\n",
              "          if (!dataTable) return;\n",
              "\n",
              "          const docLinkHtml = 'Like what you see? Visit the ' +\n",
              "            '<a target=\"_blank\" href=https://colab.research.google.com/notebooks/data_table.ipynb>data table notebook</a>'\n",
              "            + ' to learn more about interactive tables.';\n",
              "          element.innerHTML = '';\n",
              "          dataTable['output_type'] = 'display_data';\n",
              "          await google.colab.output.renderOutput(dataTable, element);\n",
              "          const docLink = document.createElement('div');\n",
              "          docLink.innerHTML = docLinkHtml;\n",
              "          element.appendChild(docLink);\n",
              "        }\n",
              "      </script>\n",
              "    </div>\n",
              "  </div>\n",
              "  "
            ]
          },
          "metadata": {},
          "execution_count": 63
        }
      ]
    },
    {
      "cell_type": "code",
      "source": [
        "dfMetal.dropoff_site.unique()"
      ],
      "metadata": {
        "colab": {
          "base_uri": "https://localhost:8080/"
        },
        "id": "yF8UQ75PQEBw",
        "outputId": "4dd11aad-4498-4e2b-d4f7-ee057745a01a"
      },
      "execution_count": 57,
      "outputs": [
        {
          "output_type": "execute_result",
          "data": {
            "text/plain": [
              "array(['AUSTIN IRON AND METAL', 'ORGANICS BY GOSH', 'MRF', 'TDS LANDFILL'],\n",
              "      dtype=object)"
            ]
          },
          "metadata": {},
          "execution_count": 57
        }
      ]
    },
    {
      "cell_type": "markdown",
      "source": [
        "note : ada 4 site yang dikhususkan untuk pengolahan limbah `RECYCLED METAL`"
      ],
      "metadata": {
        "id": "OpXwzH7CQrUR"
      }
    },
    {
      "cell_type": "code",
      "source": [
        "totalMetal = dfMetal.groupby(dfMetal['dropoff_site'],sort=True).sum()\n",
        "totalMetal"
      ],
      "metadata": {
        "colab": {
          "base_uri": "https://localhost:8080/",
          "height": 206
        },
        "id": "jTdzPh6wQy3u",
        "outputId": "6fe245f8-6dd2-439f-896a-bda77c837e59"
      },
      "execution_count": 61,
      "outputs": [
        {
          "output_type": "execute_result",
          "data": {
            "text/plain": [
              "                       load_weight\n",
              "dropoff_site                      \n",
              "AUSTIN IRON AND METAL      22560.0\n",
              "MRF                          230.0\n",
              "ORGANICS BY GOSH           62660.0\n",
              "TDS LANDFILL                 220.0"
            ],
            "text/html": [
              "\n",
              "  <div id=\"df-6660f37a-4365-4ceb-aac3-9645305b2f31\">\n",
              "    <div class=\"colab-df-container\">\n",
              "      <div>\n",
              "<style scoped>\n",
              "    .dataframe tbody tr th:only-of-type {\n",
              "        vertical-align: middle;\n",
              "    }\n",
              "\n",
              "    .dataframe tbody tr th {\n",
              "        vertical-align: top;\n",
              "    }\n",
              "\n",
              "    .dataframe thead th {\n",
              "        text-align: right;\n",
              "    }\n",
              "</style>\n",
              "<table border=\"1\" class=\"dataframe\">\n",
              "  <thead>\n",
              "    <tr style=\"text-align: right;\">\n",
              "      <th></th>\n",
              "      <th>load_weight</th>\n",
              "    </tr>\n",
              "    <tr>\n",
              "      <th>dropoff_site</th>\n",
              "      <th></th>\n",
              "    </tr>\n",
              "  </thead>\n",
              "  <tbody>\n",
              "    <tr>\n",
              "      <th>AUSTIN IRON AND METAL</th>\n",
              "      <td>22560.0</td>\n",
              "    </tr>\n",
              "    <tr>\n",
              "      <th>MRF</th>\n",
              "      <td>230.0</td>\n",
              "    </tr>\n",
              "    <tr>\n",
              "      <th>ORGANICS BY GOSH</th>\n",
              "      <td>62660.0</td>\n",
              "    </tr>\n",
              "    <tr>\n",
              "      <th>TDS LANDFILL</th>\n",
              "      <td>220.0</td>\n",
              "    </tr>\n",
              "  </tbody>\n",
              "</table>\n",
              "</div>\n",
              "      <button class=\"colab-df-convert\" onclick=\"convertToInteractive('df-6660f37a-4365-4ceb-aac3-9645305b2f31')\"\n",
              "              title=\"Convert this dataframe to an interactive table.\"\n",
              "              style=\"display:none;\">\n",
              "        \n",
              "  <svg xmlns=\"http://www.w3.org/2000/svg\" height=\"24px\"viewBox=\"0 0 24 24\"\n",
              "       width=\"24px\">\n",
              "    <path d=\"M0 0h24v24H0V0z\" fill=\"none\"/>\n",
              "    <path d=\"M18.56 5.44l.94 2.06.94-2.06 2.06-.94-2.06-.94-.94-2.06-.94 2.06-2.06.94zm-11 1L8.5 8.5l.94-2.06 2.06-.94-2.06-.94L8.5 2.5l-.94 2.06-2.06.94zm10 10l.94 2.06.94-2.06 2.06-.94-2.06-.94-.94-2.06-.94 2.06-2.06.94z\"/><path d=\"M17.41 7.96l-1.37-1.37c-.4-.4-.92-.59-1.43-.59-.52 0-1.04.2-1.43.59L10.3 9.45l-7.72 7.72c-.78.78-.78 2.05 0 2.83L4 21.41c.39.39.9.59 1.41.59.51 0 1.02-.2 1.41-.59l7.78-7.78 2.81-2.81c.8-.78.8-2.07 0-2.86zM5.41 20L4 18.59l7.72-7.72 1.47 1.35L5.41 20z\"/>\n",
              "  </svg>\n",
              "      </button>\n",
              "      \n",
              "  <style>\n",
              "    .colab-df-container {\n",
              "      display:flex;\n",
              "      flex-wrap:wrap;\n",
              "      gap: 12px;\n",
              "    }\n",
              "\n",
              "    .colab-df-convert {\n",
              "      background-color: #E8F0FE;\n",
              "      border: none;\n",
              "      border-radius: 50%;\n",
              "      cursor: pointer;\n",
              "      display: none;\n",
              "      fill: #1967D2;\n",
              "      height: 32px;\n",
              "      padding: 0 0 0 0;\n",
              "      width: 32px;\n",
              "    }\n",
              "\n",
              "    .colab-df-convert:hover {\n",
              "      background-color: #E2EBFA;\n",
              "      box-shadow: 0px 1px 2px rgba(60, 64, 67, 0.3), 0px 1px 3px 1px rgba(60, 64, 67, 0.15);\n",
              "      fill: #174EA6;\n",
              "    }\n",
              "\n",
              "    [theme=dark] .colab-df-convert {\n",
              "      background-color: #3B4455;\n",
              "      fill: #D2E3FC;\n",
              "    }\n",
              "\n",
              "    [theme=dark] .colab-df-convert:hover {\n",
              "      background-color: #434B5C;\n",
              "      box-shadow: 0px 1px 3px 1px rgba(0, 0, 0, 0.15);\n",
              "      filter: drop-shadow(0px 1px 2px rgba(0, 0, 0, 0.3));\n",
              "      fill: #FFFFFF;\n",
              "    }\n",
              "  </style>\n",
              "\n",
              "      <script>\n",
              "        const buttonEl =\n",
              "          document.querySelector('#df-6660f37a-4365-4ceb-aac3-9645305b2f31 button.colab-df-convert');\n",
              "        buttonEl.style.display =\n",
              "          google.colab.kernel.accessAllowed ? 'block' : 'none';\n",
              "\n",
              "        async function convertToInteractive(key) {\n",
              "          const element = document.querySelector('#df-6660f37a-4365-4ceb-aac3-9645305b2f31');\n",
              "          const dataTable =\n",
              "            await google.colab.kernel.invokeFunction('convertToInteractive',\n",
              "                                                     [key], {});\n",
              "          if (!dataTable) return;\n",
              "\n",
              "          const docLinkHtml = 'Like what you see? Visit the ' +\n",
              "            '<a target=\"_blank\" href=https://colab.research.google.com/notebooks/data_table.ipynb>data table notebook</a>'\n",
              "            + ' to learn more about interactive tables.';\n",
              "          element.innerHTML = '';\n",
              "          dataTable['output_type'] = 'display_data';\n",
              "          await google.colab.output.renderOutput(dataTable, element);\n",
              "          const docLink = document.createElement('div');\n",
              "          docLink.innerHTML = docLinkHtml;\n",
              "          element.appendChild(docLink);\n",
              "        }\n",
              "      </script>\n",
              "    </div>\n",
              "  </div>\n",
              "  "
            ]
          },
          "metadata": {},
          "execution_count": 61
        }
      ]
    },
    {
      "cell_type": "markdown",
      "source": [
        "note : data pembanding yang menarik perhatian yaitu site `ORGANICS BY GOSH` karena limbah yang diolah cukup besar"
      ],
      "metadata": {
        "id": "bjCK27O5RWyw"
      }
    },
    {
      "cell_type": "code",
      "source": [
        "dfOrganics = dfMetal.loc[dfMetal['dropoff_site'] == 'ORGANICS BY GOSH']\n",
        "dfOrganics"
      ],
      "metadata": {
        "colab": {
          "base_uri": "https://localhost:8080/",
          "height": 206
        },
        "id": "FWGQdyvCSUMy",
        "outputId": "a98b1f6f-7165-41db-fe6e-d9ecdc80f7b5"
      },
      "execution_count": 64,
      "outputs": [
        {
          "output_type": "execute_result",
          "data": {
            "text/plain": [
              "            load_type  load_weight      dropoff_site        date\n",
              "1477   RECYCLED METAL       8260.0  ORGANICS BY GOSH  2021-03-03\n",
              "4530   RECYCLED METAL       5160.0  ORGANICS BY GOSH  2021-03-22\n",
              "6445   RECYCLED METAL      17440.0  ORGANICS BY GOSH  2021-04-02\n",
              "7814   RECYCLED METAL      20760.0  ORGANICS BY GOSH  2021-04-13\n",
              "16644  RECYCLED METAL      11040.0  ORGANICS BY GOSH  2021-06-17"
            ],
            "text/html": [
              "\n",
              "  <div id=\"df-d1c91af5-65a0-4f0c-b77c-7e435bec6cdd\">\n",
              "    <div class=\"colab-df-container\">\n",
              "      <div>\n",
              "<style scoped>\n",
              "    .dataframe tbody tr th:only-of-type {\n",
              "        vertical-align: middle;\n",
              "    }\n",
              "\n",
              "    .dataframe tbody tr th {\n",
              "        vertical-align: top;\n",
              "    }\n",
              "\n",
              "    .dataframe thead th {\n",
              "        text-align: right;\n",
              "    }\n",
              "</style>\n",
              "<table border=\"1\" class=\"dataframe\">\n",
              "  <thead>\n",
              "    <tr style=\"text-align: right;\">\n",
              "      <th></th>\n",
              "      <th>load_type</th>\n",
              "      <th>load_weight</th>\n",
              "      <th>dropoff_site</th>\n",
              "      <th>date</th>\n",
              "    </tr>\n",
              "  </thead>\n",
              "  <tbody>\n",
              "    <tr>\n",
              "      <th>1477</th>\n",
              "      <td>RECYCLED METAL</td>\n",
              "      <td>8260.0</td>\n",
              "      <td>ORGANICS BY GOSH</td>\n",
              "      <td>2021-03-03</td>\n",
              "    </tr>\n",
              "    <tr>\n",
              "      <th>4530</th>\n",
              "      <td>RECYCLED METAL</td>\n",
              "      <td>5160.0</td>\n",
              "      <td>ORGANICS BY GOSH</td>\n",
              "      <td>2021-03-22</td>\n",
              "    </tr>\n",
              "    <tr>\n",
              "      <th>6445</th>\n",
              "      <td>RECYCLED METAL</td>\n",
              "      <td>17440.0</td>\n",
              "      <td>ORGANICS BY GOSH</td>\n",
              "      <td>2021-04-02</td>\n",
              "    </tr>\n",
              "    <tr>\n",
              "      <th>7814</th>\n",
              "      <td>RECYCLED METAL</td>\n",
              "      <td>20760.0</td>\n",
              "      <td>ORGANICS BY GOSH</td>\n",
              "      <td>2021-04-13</td>\n",
              "    </tr>\n",
              "    <tr>\n",
              "      <th>16644</th>\n",
              "      <td>RECYCLED METAL</td>\n",
              "      <td>11040.0</td>\n",
              "      <td>ORGANICS BY GOSH</td>\n",
              "      <td>2021-06-17</td>\n",
              "    </tr>\n",
              "  </tbody>\n",
              "</table>\n",
              "</div>\n",
              "      <button class=\"colab-df-convert\" onclick=\"convertToInteractive('df-d1c91af5-65a0-4f0c-b77c-7e435bec6cdd')\"\n",
              "              title=\"Convert this dataframe to an interactive table.\"\n",
              "              style=\"display:none;\">\n",
              "        \n",
              "  <svg xmlns=\"http://www.w3.org/2000/svg\" height=\"24px\"viewBox=\"0 0 24 24\"\n",
              "       width=\"24px\">\n",
              "    <path d=\"M0 0h24v24H0V0z\" fill=\"none\"/>\n",
              "    <path d=\"M18.56 5.44l.94 2.06.94-2.06 2.06-.94-2.06-.94-.94-2.06-.94 2.06-2.06.94zm-11 1L8.5 8.5l.94-2.06 2.06-.94-2.06-.94L8.5 2.5l-.94 2.06-2.06.94zm10 10l.94 2.06.94-2.06 2.06-.94-2.06-.94-.94-2.06-.94 2.06-2.06.94z\"/><path d=\"M17.41 7.96l-1.37-1.37c-.4-.4-.92-.59-1.43-.59-.52 0-1.04.2-1.43.59L10.3 9.45l-7.72 7.72c-.78.78-.78 2.05 0 2.83L4 21.41c.39.39.9.59 1.41.59.51 0 1.02-.2 1.41-.59l7.78-7.78 2.81-2.81c.8-.78.8-2.07 0-2.86zM5.41 20L4 18.59l7.72-7.72 1.47 1.35L5.41 20z\"/>\n",
              "  </svg>\n",
              "      </button>\n",
              "      \n",
              "  <style>\n",
              "    .colab-df-container {\n",
              "      display:flex;\n",
              "      flex-wrap:wrap;\n",
              "      gap: 12px;\n",
              "    }\n",
              "\n",
              "    .colab-df-convert {\n",
              "      background-color: #E8F0FE;\n",
              "      border: none;\n",
              "      border-radius: 50%;\n",
              "      cursor: pointer;\n",
              "      display: none;\n",
              "      fill: #1967D2;\n",
              "      height: 32px;\n",
              "      padding: 0 0 0 0;\n",
              "      width: 32px;\n",
              "    }\n",
              "\n",
              "    .colab-df-convert:hover {\n",
              "      background-color: #E2EBFA;\n",
              "      box-shadow: 0px 1px 2px rgba(60, 64, 67, 0.3), 0px 1px 3px 1px rgba(60, 64, 67, 0.15);\n",
              "      fill: #174EA6;\n",
              "    }\n",
              "\n",
              "    [theme=dark] .colab-df-convert {\n",
              "      background-color: #3B4455;\n",
              "      fill: #D2E3FC;\n",
              "    }\n",
              "\n",
              "    [theme=dark] .colab-df-convert:hover {\n",
              "      background-color: #434B5C;\n",
              "      box-shadow: 0px 1px 3px 1px rgba(0, 0, 0, 0.15);\n",
              "      filter: drop-shadow(0px 1px 2px rgba(0, 0, 0, 0.3));\n",
              "      fill: #FFFFFF;\n",
              "    }\n",
              "  </style>\n",
              "\n",
              "      <script>\n",
              "        const buttonEl =\n",
              "          document.querySelector('#df-d1c91af5-65a0-4f0c-b77c-7e435bec6cdd button.colab-df-convert');\n",
              "        buttonEl.style.display =\n",
              "          google.colab.kernel.accessAllowed ? 'block' : 'none';\n",
              "\n",
              "        async function convertToInteractive(key) {\n",
              "          const element = document.querySelector('#df-d1c91af5-65a0-4f0c-b77c-7e435bec6cdd');\n",
              "          const dataTable =\n",
              "            await google.colab.kernel.invokeFunction('convertToInteractive',\n",
              "                                                     [key], {});\n",
              "          if (!dataTable) return;\n",
              "\n",
              "          const docLinkHtml = 'Like what you see? Visit the ' +\n",
              "            '<a target=\"_blank\" href=https://colab.research.google.com/notebooks/data_table.ipynb>data table notebook</a>'\n",
              "            + ' to learn more about interactive tables.';\n",
              "          element.innerHTML = '';\n",
              "          dataTable['output_type'] = 'display_data';\n",
              "          await google.colab.output.renderOutput(dataTable, element);\n",
              "          const docLink = document.createElement('div');\n",
              "          docLink.innerHTML = docLinkHtml;\n",
              "          element.appendChild(docLink);\n",
              "        }\n",
              "      </script>\n",
              "    </div>\n",
              "  </div>\n",
              "  "
            ]
          },
          "metadata": {},
          "execution_count": 64
        }
      ]
    },
    {
      "cell_type": "code",
      "source": [
        "totalOrganics = dfOrganics['load_weight'].sum()\n",
        "totalOrganics"
      ],
      "metadata": {
        "colab": {
          "base_uri": "https://localhost:8080/"
        },
        "id": "Q1YcKrWjSlgQ",
        "outputId": "561f59a7-6eb9-4aed-89b6-edf4dbbf971e"
      },
      "execution_count": 66,
      "outputs": [
        {
          "output_type": "execute_result",
          "data": {
            "text/plain": [
              "62660.0"
            ]
          },
          "metadata": {},
          "execution_count": 66
        }
      ]
    },
    {
      "cell_type": "markdown",
      "source": [
        "note : total limbah `RECYCLED METAL` yang ada di site `ORGANICS BY GOSH` adalah 62660"
      ],
      "metadata": {
        "id": "MVAq-gRvTTGy"
      }
    },
    {
      "cell_type": "markdown",
      "source": [
        "- Nilai Mean, Median, Modus, Variansi dan Standard Deviasi dari site `ORGANICS BY GOSH`"
      ],
      "metadata": {
        "id": "s-ojdsjPTej9"
      }
    },
    {
      "cell_type": "code",
      "source": [
        "orgMean = dfOrganics['load_weight'].mean()\n",
        "orgMed = dfOrganics['load_weight'].median()\n",
        "orgMod = dfOrganics['load_weight'].mode()\n",
        "orgVar = dfOrganics['load_weight'].var()\n",
        "orgStd = dfOrganics['load_weight'].std()\n",
        "\n",
        "print('Nilai Mean dari data ORGANICS BY GOSH : ', orgMean)\n",
        "print('Nilai Median dari data ORGANICS BY GOSH : ', orgMed)\n",
        "print('Nilai Modus dari data ORGANICS BY GOSH :\\n', orgMod)\n",
        "print('Nilai Variansi dari data ORGANICS BY GOSH : ', orgVar)\n",
        "print('Nilai Standard dari data ORGANICS BY GOSH : ', orgStd)"
      ],
      "metadata": {
        "colab": {
          "base_uri": "https://localhost:8080/"
        },
        "id": "g40NtwZRTri2",
        "outputId": "ace0d4c6-dd68-4fb1-a79c-dbcdfacf5656"
      },
      "execution_count": 70,
      "outputs": [
        {
          "output_type": "stream",
          "name": "stdout",
          "text": [
            "Nilai Mean dari data ORGANICS BY GOSH :  12532.0\n",
            "Nilai Median dari data ORGANICS BY GOSH :  11040.0\n",
            "Nilai Modus dari data ORGANICS BY GOSH :\n",
            " 0     5160.0\n",
            "1     8260.0\n",
            "2    11040.0\n",
            "3    17440.0\n",
            "4    20760.0\n",
            "dtype: float64\n",
            "Nilai Variansi dari data ORGANICS BY GOSH :  41652720.0\n",
            "Nilai Standard dari data ORGANICS BY GOSH :  6453.891849109342\n"
          ]
        }
      ]
    },
    {
      "cell_type": "markdown",
      "source": [
        "- Create Distribution Plot of `ORGANICS BY GOSH`"
      ],
      "metadata": {
        "id": "7u7eTaaQUu6k"
      }
    },
    {
      "cell_type": "code",
      "source": [
        "dfOrganics.plot.hist(Label = 'ORGANICS BY GOSH', color='magenta', bins=20)\n",
        "plt.axvline(orgMean, color='blue', linestyle='dashed', linewidth=2)\n",
        "plt.axvline(orgMed, color='black', linestyle='dashed', linewidth=2)\n",
        "plt.show()"
      ],
      "metadata": {
        "colab": {
          "base_uri": "https://localhost:8080/",
          "height": 265
        },
        "id": "by6LUxXJU1h4",
        "outputId": "3f7b608a-3139-45ee-bd7a-a1df608d3a48"
      },
      "execution_count": 72,
      "outputs": [
        {
          "output_type": "display_data",
          "data": {
            "text/plain": [
              "<Figure size 432x288 with 1 Axes>"
            ],
            "image/png": "[encoded data removed]"
          },
          "metadata": {
            "needs_background": "light"
          }
        }
      ]
    },
    {
      "cell_type": "markdown",
      "source": [
        "- Check skewness "
      ],
      "metadata": {
        "id": "AOIcoEkyWVlI"
      }
    },
    {
      "cell_type": "code",
      "source": [
        "dfOrganics['load_weight'].skew()"
      ],
      "metadata": {
        "colab": {
          "base_uri": "https://localhost:8080/"
        },
        "id": "tPGsLV7SWWSu",
        "outputId": "5c95afbf-19d4-4952-aae8-6e141381851e"
      },
      "execution_count": 73,
      "outputs": [
        {
          "output_type": "execute_result",
          "data": {
            "text/plain": [
              "0.2996635625809256"
            ]
          },
          "metadata": {},
          "execution_count": 73
        }
      ]
    },
    {
      "cell_type": "code",
      "source": [
        "sns.boxplot(data = dfOrganics, y = 'load_weight')"
      ],
      "metadata": {
        "colab": {
          "base_uri": "https://localhost:8080/",
          "height": 269
        },
        "id": "ZspsytxyWeP1",
        "outputId": "c182a733-c885-4e5e-965f-f3c9029d3307"
      },
      "execution_count": 74,
      "outputs": [
        {
          "output_type": "execute_result",
          "data": {
            "text/plain": [
              "<matplotlib.axes._subplots.AxesSubplot at 0x7f869a7a1760>"
            ]
          },
          "metadata": {},
          "execution_count": 74
        },
        {
          "output_type": "display_data",
          "data": {
            "text/plain": [
              "<Figure size 432x288 with 1 Axes>"
            ],
            "image/png": "[encoded data removed]"
          },
          "metadata": {
            "needs_background": "light"
          }
        }
      ]
    },
    {
      "cell_type": "markdown",
      "source": [
        "- Nilai Percentile dan Quartile dari `ORGANICS BY GOSH`"
      ],
      "metadata": {
        "id": "4Wr6SGZeWpPl"
      }
    },
    {
      "cell_type": "code",
      "source": [
        "quartOrg = percentile(dfOrganics['load_weight'], [25, 50, 75])\n",
        "orgMin, orgMax = dfOrganics['load_weight'].min(), dfOrganics['load_weight'].max()\n",
        "\n",
        "Q0 = quartOrg[0]\n",
        "Q1 = quartOrg[1]\n",
        "Q2 = quartOrg[2]\n",
        "\n",
        "print('Nilai Minimal dfOrganics : ', balcMin)\n",
        "print('Quartile ke 0 dari dfOrganics : ', Q0)\n",
        "print('Quartile ke 1 dari dfOrganics : ', Q1)\n",
        "print('Quartile ke 2 dari dfOrganics : ', Q2)\n",
        "print('Nilai Maximal dfOrganics : ', balcMax)"
      ],
      "metadata": {
        "colab": {
          "base_uri": "https://localhost:8080/"
        },
        "id": "OehaVkdcWwb5",
        "outputId": "ac32b650-b751-4ade-86b1-c2d4d3155643"
      },
      "execution_count": 76,
      "outputs": [
        {
          "output_type": "stream",
          "name": "stdout",
          "text": [
            "Nilai Minimal dfOrganics :  140.0\n",
            "Quartile ke 0 dari dfOrganics :  8260.0\n",
            "Quartile ke 1 dari dfOrganics :  11040.0\n",
            "Quartile ke 2 dari dfOrganics :  17440.0\n",
            "Nilai Maximal dfOrganics :  25780.0\n"
          ]
        }
      ]
    },
    {
      "cell_type": "markdown",
      "source": [
        "# Problem 1.7 : Confident Interval - belom"
      ],
      "metadata": {
        "id": "WXtrTv2IZrhq"
      }
    },
    {
      "cell_type": "markdown",
      "source": [
        "# Problem 1.8 : Analisa Uji Hipotesis"
      ],
      "metadata": {
        "id": "rC348BagZzrd"
      }
    },
    {
      "cell_type": "markdown",
      "source": [
        "- H0 : μ `BALCONES RECYCLING` `load_weight` = μ `ORGANICS BY GOSH` `load_weight`\n",
        "- H1 : μ `BALCONES RECYCLING` `load_weight` != μ `ORGANICS BY GOSH` `load_weight`"
      ],
      "metadata": {
        "id": "Oj2r9jEuaAtV"
      }
    },
    {
      "cell_type": "markdown",
      "source": [
        "- setelah kita menganilsa dan membandingkan 2 site yaitu `BALCONES RECYCLING` dengan `ORGANICS BY GOSH`, maka kita akan menggunakan t-test untuk Analisa Uji Hipotesis"
      ],
      "metadata": {
        "id": "yDJC4_I9anEQ"
      }
    },
    {
      "cell_type": "code",
      "source": [
        "t_stat, p_value = stats.ttest_ind(dfBalcones['load_weight'], dfOrganics['load_weight'])\n",
        "\n",
        "print('Hasil T-Test : ', t_stat)\n",
        "print('Hasil P_Value : ', p_value)"
      ],
      "metadata": {
        "colab": {
          "base_uri": "https://localhost:8080/"
        },
        "id": "YsWTxtHUZ7rE",
        "outputId": "5664176f-ffa4-46c4-ccf1-cccbb35b1fe6"
      },
      "execution_count": 77,
      "outputs": [
        {
          "output_type": "stream",
          "name": "stdout",
          "text": [
            "Hasil T-Test :  -1.773048272681914\n",
            "Hasil P_Value :  0.07629996166984572\n"
          ]
        }
      ]
    },
    {
      "cell_type": "code",
      "source": [
        "# Random Sampel Populasi Limbah\n",
        "balconesPop = np.random.normal(dfBalcones['load_weight'].mean(), dfBalcones['load_weight'].std(), 10000)\n",
        "organicsPop = np.random.normal(dfOrganics['load_weight'].mean(), dfOrganics['load_weight'].std(), 10000)\n",
        "\n",
        "# Interval Confident\n",
        "ci = stats.norm.interval(0.95, dfBalcones['load_weight'].mean(), dfOrganics['load_weight'].std())\n",
        "\n",
        "plt.figure(figsize=(16,5))\n",
        "sns.histplot(balconesPop, label='BALCONES RECYCLING Population', color='red')\n",
        "sns.histplot(organicsPop, label='ORGANICS BY GOSH Population', color='yellow')\n",
        "\n",
        "# Mean Value\n",
        "plt.axvline(dfBalcones['load_weight'].mean(), color='green', linewidth=3, label='BALCONES RECYCLING load_weight')\n",
        "plt.axvline(dfOrganics['load_weight'].mean(), color='blue', linewidth=3, label='ORGANICS BY GOSH load_weight')\n",
        "\n",
        "plt.axvline(ci[1], color='magenta', linestyle='dashed', linewidth=3, label='Confident Treshold of 95%')\n",
        "plt.axvline(ci[0], color='magenta', linestyle='dashed', linewidth=3, label='Confident Treshold of 95%')\n",
        "\n",
        "# Alternative Hypothesis\n",
        "plt.axvline(balconesPop.mean() + t_stat * balconesPop.std(), color=\"black\", linestyle='dashed', linewidth=3, label='Alternative Hypothesis')\n",
        "plt.axvline(organicsPop.mean() - t_stat * organicsPop.std(), color=\"black\", linestyle='dashed', linewidth=3)\n",
        "\n",
        "# Ploting\n",
        "plt.legend()\n",
        "print(ci[0])\n",
        "print(ci[1])"
      ],
      "metadata": {
        "colab": {
          "base_uri": "https://localhost:8080/",
          "height": 355
        },
        "id": "Yu85jPfrb4Rw",
        "outputId": "7dcb92c5-ed77-4fd0-b3c3-3a4fda5300fe"
      },
      "execution_count": 81,
      "outputs": [
        {
          "output_type": "stream",
          "name": "stdout",
          "text": [
            "-3184.743512439727\n",
            "22114.04765630212\n"
          ]
        },
        {
          "output_type": "display_data",
          "data": {
            "text/plain": [
              "<Figure size 1152x360 with 1 Axes>"
            ],
            "image/png": "[encoded data removed]"
          },
          "metadata": {
            "needs_background": "light"
          }
        }
      ]
    },
    {
      "cell_type": "markdown",
      "source": [
        "Note: Based on the above results, we can conclude that we failed to reject the null hypothesis that BALCONES RECYCLING and ORGANICS BY GOSH are not significantly different in handling recyclable waste."
      ],
      "metadata": {
        "id": "Rh6U0eE9g-tY"
      }
    },
    {
      "cell_type": "markdown",
      "source": [
        "# Question Mark - belom"
      ],
      "metadata": {
        "id": "qzbl4pq5hagV"
      }
    },
    {
      "cell_type": "markdown",
      "source": [
        "\n",
        "\n",
        "1.   Teknik apa yang kamu pilih untuk handling outlier? jelaskan alasannya!\n",
        "2. Apa konsep dibalik confidence interval sehingga kita dapat menggunakannya untuk menyelesaikan langkah pada nomor 7?\n",
        "3. Jelaskan jenis uji hipotesis apa yang kamu terapkan dan mengapa?\n",
        "\n"
      ],
      "metadata": {
        "id": "zMyj8adkh5Mo"
      }
    },
    {
      "cell_type": "markdown",
      "source": [
        "- For handling the outliers I use the z-score technique. That is for finding the outliers from normal distribution\n",
        "- Confidence interval is for to know how accurate the interval of our site. Usually we use 95% of confidence level or people used to say α (alpha). By this 95 per 100 confidence level it's make us confiden too about our data to not to fall away between upper and lower values\n",
        "- I am using the 2 sample 2 tale because I want to know the average of load weight between organics by gosh and austin iron and metal is same or not. The hypothesis is proving that there is a significant difference between the two sites"
      ],
      "metadata": {
        "id": "IhNcKk84iHOA"
      }
    },
    {
      "cell_type": "markdown",
      "source": [],
      "metadata": {
        "id": "3RnsH6xTioPV"
      }
    }
  ]
}